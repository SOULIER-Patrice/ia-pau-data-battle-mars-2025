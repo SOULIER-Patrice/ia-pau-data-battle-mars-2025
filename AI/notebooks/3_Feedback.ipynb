{
 "cells": [
  {
   "cell_type": "markdown",
   "metadata": {},
   "source": [
    "# Feedback model\n",
    "\n",
    "Create a model which is able to give a feedback to an user. Explain the errors, give citations."
   ]
  }
 ],
 "metadata": {
  "language_info": {
   "name": "python"
  }
 },
 "nbformat": 4,
 "nbformat_minor": 2
}

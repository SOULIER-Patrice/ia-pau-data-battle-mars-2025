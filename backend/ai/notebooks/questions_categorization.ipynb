{
 "cells": [
  {
   "cell_type": "code",
   "execution_count": 43,
   "metadata": {},
   "outputs": [],
   "source": [
    "from transformers import AutoTokenizer, AutoModel\n",
    "import torch\n",
    "import numpy as np \n",
    "import json\n",
    "# Charger le modèle et le tokenizer\n",
    "MODEL_NAME = \"nlpaueb/bert-base-uncased-eurlex\""
   ]
  },
  {
   "cell_type": "code",
   "execution_count": 44,
   "metadata": {},
   "outputs": [],
   "source": [
    "tokenizer = AutoTokenizer.from_pretrained(MODEL_NAME)\n",
    "model = AutoModel.from_pretrained(MODEL_NAME)"
   ]
  },
  {
   "cell_type": "code",
   "execution_count": 45,
   "metadata": {},
   "outputs": [],
   "source": [
    "def get_embeddings(text, method=\"cls\"):\n",
    "    \"\"\"Extrait l'embedding d'une phrase selon la méthode spécifiée.\"\"\"\n",
    "    inputs = tokenizer(text, return_tensors=\"pt\", padding=True, truncation=True)\n",
    "    \n",
    "    with torch.no_grad():\n",
    "        outputs = model(**inputs)\n",
    "    \n",
    "    last_hidden_state = outputs.last_hidden_state  # (batch_size, seq_len, hidden_dim)\n",
    "    \n",
    "    if method == \"cls\":\n",
    "        return last_hidden_state[:, 0, :]  # Embedding du token [CLS]\n",
    "    elif method == \"mean\":\n",
    "        attention_mask = inputs[\"attention_mask\"].unsqueeze(-1)\n",
    "        embeddings = (last_hidden_state * attention_mask).sum(dim=1) / attention_mask.sum(dim=1)\n",
    "        return embeddings  # Moyenne des embeddings des tokens\n",
    "    else:\n",
    "        raise ValueError(\"Méthode non reconnue : choisir 'cls' ou 'mean'.\")"
   ]
  },
  {
   "cell_type": "code",
   "execution_count": 71,
   "metadata": {},
   "outputs": [],
   "source": [
    "# Charger le JSON avec un encodage spécifique\n",
    "with open('../outputs/categories.json', 'r', encoding='utf-8-sig') as f:\n",
    "    data = json.load(f)\n",
    "\n",
    "# Créer un dictionnaire pour stocker les embeddings\n",
    "embeddings_dict = {}\n",
    "\n",
    "# Extraire les embeddings pour chaque catégorie\n",
    "for category, subcategories in data.items():\n",
    "    for subcategory, details in subcategories.items():\n",
    "        text = f\"{category} {subcategory} {details['Scope']} {details['sentences']}\"\n",
    "        embedding = get_embeddings(text, method=\"mean\")  # Ou \"cls\" selon ce que tu préfères\n",
    "        embeddings_dict[f\"{category}_{subcategory}\"] = embedding.numpy()"
   ]
  },
  {
   "cell_type": "code",
   "execution_count": 72,
   "metadata": {},
   "outputs": [],
   "source": [
    "# Sauvegarder les embeddings dans un fichier .npy\n",
    "np.save('../outputs/category_embeddings.npy', embeddings_dict)"
   ]
  },
  {
   "cell_type": "code",
   "execution_count": 73,
   "metadata": {},
   "outputs": [],
   "source": [
    "category_embeddings = np.load('../outputs/category_embeddings.npy', allow_pickle=True).item()"
   ]
  },
  {
   "cell_type": "code",
   "execution_count": 74,
   "metadata": {},
   "outputs": [],
   "source": [
    "from sklearn.metrics.pairwise import cosine_similarity"
   ]
  },
  {
   "cell_type": "code",
   "execution_count": null,
   "metadata": {},
   "outputs": [
    {
     "name": "stdout",
     "output_type": "stream",
     "text": [
      "Question: When proceedings for grant of a European patent application are stayed following the institution of entitlement proceedings, renewal fees which fall due during the period of stay can be paid up to the date of resumption of the proceedings for grant.\n",
      "1. Category: Entitlement and transfers_Entitlement disputes (article 61 EPC) with similarity score: 0.8565102815628052\n",
      "2. Category: Entitlement and transfers_Procedural consequences with similarity score: 0.8402036428451538\n",
      "3. Category: Procedural remedies and legal effect_Re-establishment of rights (article 122 epc) with similarity score: 0.8284813761711121\n",
      "4. Category: Opposition and appeals_Appeal proceedings with similarity score: 0.8225505352020264\n",
      "5. Category: Procedural remedies and legal effect_Further processing (rule 135 epc) with similarity score: 0.8224268555641174\n"
     ]
    }
   ],
   "source": [
    "def classify_question_top_5(question, category_embeddings, method=\"mean\"):\n",
    "    \"\"\"Classifie la question et retourne les 5 catégories les plus similaires.\"\"\"\n",
    "    # Extraire l'embedding de la question\n",
    "    question_embedding = get_embeddings(question, method=method)\n",
    "    \n",
    "    # Comparer la question avec chaque catégorie\n",
    "    similarities = {}\n",
    "    for category, category_embedding in category_embeddings.items():\n",
    "        similarity = cosine_similarity(question_embedding.numpy().reshape(1, -1), category_embedding.reshape(1, -1))[0][0]\n",
    "        similarities[category] = similarity\n",
    "    \n",
    "    # Trier les catégories par similarité décroissante et récupérer les 5 meilleures\n",
    "    sorted_categories = sorted(similarities.items(), key=lambda x: x[1], reverse=True)[:5]\n",
    "    \n",
    "    return sorted_categories\n",
    "\n",
    "# Exemple de question\n",
    "question = \"You represent a client whose European patent has been opposed. The opposition division decides to maintain the patent in amended form. The invitation with the three-month time limit under Rule 82(2) EPC is sent on 16 August 2021, but proceedings are interrupted under Rule 142 EPC on 20 October 2021. The problems are resolved and the proceedings resume on 16 January 2022. When does the time limit under Rule 82(2)EPC end?\"\n",
    "# Classifier la question et récupérer les 5 meilleures catégories\n",
    "top_5_categories = classify_question_top_5(question, category_embeddings, method=\"mean\")\n",
    "\n",
    "# Afficher les résultats\n",
    "print(f\"Question: {question}\")\n",
    "for i, (category, similarity_score) in enumerate(top_5_categories, 1):\n",
    "    print(f\"{i}. Category: {category} with similarity score: {similarity_score}\")"
   ]
  }
 ],
 "metadata": {
  "kernelspec": {
   "display_name": ".venv",
   "language": "python",
   "name": "python3"
  },
  "language_info": {
   "codemirror_mode": {
    "name": "ipython",
    "version": 3
   },
   "file_extension": ".py",
   "mimetype": "text/x-python",
   "name": "python",
   "nbconvert_exporter": "python",
   "pygments_lexer": "ipython3",
   "version": "3.12.8"
  }
 },
 "nbformat": 4,
 "nbformat_minor": 2
}

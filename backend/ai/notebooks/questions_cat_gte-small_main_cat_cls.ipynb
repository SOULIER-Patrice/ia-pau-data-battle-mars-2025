{
 "cells": [
  {
   "cell_type": "code",
   "execution_count": 1,
   "metadata": {},
   "outputs": [],
   "source": [
    "from transformers import AutoTokenizer, AutoModel\n",
    "import torch\n",
    "import numpy as np \n",
    "import json\n",
    "# Charger le modèle et le tokenizer\n",
    "MODEL_NAME = \"thenlper/gte-small\""
   ]
  },
  {
   "cell_type": "code",
   "execution_count": 2,
   "metadata": {},
   "outputs": [],
   "source": [
    "tokenizer = AutoTokenizer.from_pretrained(MODEL_NAME)\n",
    "model = AutoModel.from_pretrained(MODEL_NAME)"
   ]
  },
  {
   "cell_type": "code",
   "execution_count": 6,
   "metadata": {},
   "outputs": [],
   "source": [
    "def get_embeddings(text, method=\"cls\"):\n",
    "    \"\"\"Extrait l'embedding d'une phrase selon la méthode spécifiée.\"\"\"\n",
    "    inputs = tokenizer(text, return_tensors=\"pt\", padding=True, truncation=True)\n",
    "    with torch.no_grad():\n",
    "        outputs = model(**inputs)\n",
    "    \n",
    "    last_hidden_state = outputs.last_hidden_state  # (batch_size, seq_len, hidden_dim)\n",
    "    \n",
    "    if method == \"cls\":\n",
    "        embeddings = last_hidden_state[:, 0, :]\n",
    "        embeddings = torch.nn.functional.normalize(embeddings, p=2, dim=1)\n",
    "\n",
    "        return  embeddings # Embedding du token [CLS]\n",
    "    elif method == \"mean\":\n",
    "        attention_mask = inputs[\"attention_mask\"].unsqueeze(-1)\n",
    "        embeddings = (last_hidden_state * attention_mask).sum(dim=1) / attention_mask.sum(dim=1)\n",
    "\n",
    "        embeddings = torch.nn.functional.normalize(embeddings, p=2, dim=1)\n",
    "        return embeddings  # Moyenne des embeddings des tokens\n",
    "    else:\n",
    "        raise ValueError(\"Méthode non reconnue : choisir 'cls' ou 'mean'.\")"
   ]
  },
  {
   "cell_type": "code",
   "execution_count": 7,
   "metadata": {},
   "outputs": [],
   "source": [
    "# Charger le JSON avec un encodage spécifique\n",
    "with open('../outputs/categories.json', 'r', encoding='utf-8-sig') as f:\n",
    "    data = json.load(f)\n",
    "\n",
    "# Créer un dictionnaire pour stocker les embeddings\n",
    "embeddings_dict = {}\n",
    "\n",
    "# Extraire les embeddings pour chaque catégorie\n",
    "for category, subcategories in data.items():\n",
    "    for subcategory, details in subcategories.items():\n",
    "        text = f\"{category} {subcategory} {details['Scope']} {details['sentences']}\"\n",
    "        embedding = get_embeddings(text, method=\"cls\")  # Ou \"cls\" selon ce que tu préfères\n",
    "        embeddings_dict[f\"{category}_{subcategory}\"] = embedding.numpy()"
   ]
  },
  {
   "cell_type": "code",
   "execution_count": 8,
   "metadata": {},
   "outputs": [],
   "source": [
    "# Sauvegarder les embeddings dans un fichier .npy\n",
    "np.save('../outputs/category_gte-Qwen2-1.5B-instruct.npy', embeddings_dict)"
   ]
  },
  {
   "cell_type": "code",
   "execution_count": 9,
   "metadata": {},
   "outputs": [],
   "source": [
    "category_embeddings = np.load('../outputs/category_gte-Qwen2-1.5B-instruct.npy', allow_pickle=True).item()"
   ]
  },
  {
   "cell_type": "code",
   "execution_count": 10,
   "metadata": {},
   "outputs": [],
   "source": [
    "from sklearn.metrics.pairwise import cosine_similarity\n",
    "\n",
    "def classify_question_top_5(question, category_embeddings, method=\"cls\"):\n",
    "    \"\"\"Classifie la question et retourne les 5 catégories les plus similaires.\"\"\"\n",
    "    # Extraire l'embedding de la question\n",
    "    question_embedding = get_embeddings(question, method=method)\n",
    "    \n",
    "    # Comparer la question avec chaque catégorie\n",
    "    similarities = {}\n",
    "    for category, category_embedding in category_embeddings.items():\n",
    "        similarity = cosine_similarity(question_embedding.numpy().reshape(1, -1), category_embedding.reshape(1, -1))[0][0]\n",
    "        \n",
    "        similarities[category] = similarity\n",
    "\n",
    "    # Trier les catégories par similarité décroissante et récupérer les 5 meilleures\n",
    "    \n",
    "    sorted_categories = sorted(similarities.items(), key=lambda x: x[1], reverse=True)[:15]\n",
    "    return sorted_categories"
   ]
  },
  {
   "cell_type": "code",
   "execution_count": 11,
   "metadata": {},
   "outputs": [
    {
     "name": "stdout",
     "output_type": "stream",
     "text": [
      "Entitlement and transfers\n",
      "Divisional applications\n",
      "🥇:6 🥈:1 🥉:1 🏅:0 ❌:2\n",
      "--- Fin des résultats ---\n"
     ]
    }
   ],
   "source": [
    "\n",
    "with open('../outputs/test_categories.json', 'r', encoding='utf-8') as f:\n",
    "    test_categoies = json.load(f)\n",
    "\n",
    "with open('../outputs/2022_PreEx_open.json', 'r', encoding='utf-8') as f:\n",
    "    PreEx_open = json.load(f)\n",
    "\n",
    "score_1 = 0\n",
    "score_2 = 0\n",
    "score_3 = 0\n",
    "score_4 = 0\n",
    "failed = 0\n",
    "\n",
    "global_score_1 = 0\n",
    "global_score_2 = 0\n",
    "global_score_3 = 0\n",
    "global_score_4 = 0\n",
    "global_failed = 0\n",
    "\n",
    "for question_id, question_text in PreEx_open.items():\n",
    "    category = test_categoies.get(\"2022_PreEx_open\", {}).get(f\"{question_id}\", {}).get(\"Category\")\n",
    "\n",
    "    if category is None:\n",
    "        print(f\"Warning: Subcategory not found for question ID: {question_id}\")\n",
    "        failed +=1\n",
    "        continue\n",
    "\n",
    "    top_5_categories = classify_question_top_5(question_text, category_embeddings, method=\"cls\")\n",
    "  \n",
    "    top_5_category_names = [item[0] for item in top_5_categories]\n",
    "\n",
    "    if top_5_category_names[0].split(\"_\")[0] == category:\n",
    "        score_1 += 1\n",
    "    elif top_5_category_names[1].split(\"_\")[0] == category:\n",
    "        score_2 += 1\n",
    "    elif top_5_category_names[2].split(\"_\")[0] == category:\n",
    "        score_3 += 1\n",
    "    elif top_5_category_names[3].split(\"_\")[0] == category:\n",
    "        score_4 += 1\n",
    "    else:\n",
    "        print(category)\n",
    "        failed += 1\n",
    "\n",
    "print(f\"🥇:{score_1} 🥈:{score_2} 🥉:{score_3} 🏅:{score_4} ❌:{failed}\")\n",
    "print(\"--- Fin des résultats ---\")\n",
    "\n",
    "\n",
    "\n",
    "\n",
    "global_score_1 += score_1\n",
    "global_score_2 += score_2\n",
    "global_score_3 += score_3\n",
    "global_score_4 += score_4\n",
    "global_failed += failed"
   ]
  },
  {
   "cell_type": "code",
   "execution_count": 12,
   "metadata": {},
   "outputs": [
    {
     "name": "stdout",
     "output_type": "stream",
     "text": [
      "Fees, payment methods, and time limits\n",
      "Priority claims and right of priority\n",
      "🥇:5 🥈:0 🥉:3 🏅:0 ❌:2\n",
      "--- Fin des résultats ---\n",
      "🥇:11 🥈:1 🥉:4 🏅:0 ❌:4\n",
      "--- Fin des résultats ---\n"
     ]
    }
   ],
   "source": [
    "with open('../outputs/2021_PreEx_open.json', 'r', encoding='utf-8') as f:\n",
    "    PreEx_open = json.load(f)\n",
    "\n",
    "score_1 = 0\n",
    "score_2 = 0\n",
    "score_3 = 0\n",
    "score_4 = 0\n",
    "failed = 0\n",
    "\n",
    "for question_id, question_text in PreEx_open.items():\n",
    "    category = test_categoies.get(\"2021_PreEx_open\", {}).get(f\"{question_id}\", {}).get(\"Category\")\n",
    "\n",
    "    if category is None:\n",
    "        print(f\"Warning: Subcategory not found for question ID: {question_id}\")\n",
    "        failed +=1\n",
    "        continue\n",
    "\n",
    "    top_5_categories = classify_question_top_5(question_text, category_embeddings, method=\"cls\")\n",
    "\n",
    "    # Extract the category names from the tuples\n",
    "    top_5_category_names = [item[0] for item in top_5_categories]\n",
    "\n",
    "    if top_5_category_names[0].split(\"_\")[0] == category:\n",
    "        score_1 += 1\n",
    "    elif top_5_category_names[1].split(\"_\")[0] == category:\n",
    "        score_2 += 1\n",
    "    elif top_5_category_names[2].split(\"_\")[0] == category:\n",
    "        score_3 += 1\n",
    "    elif top_5_category_names[3].split(\"_\")[0] == category:\n",
    "        score_4 += 1\n",
    "    else:\n",
    "        print(category)\n",
    "        failed += 1\n",
    "\n",
    "print(f\"🥇:{score_1} 🥈:{score_2} 🥉:{score_3} 🏅:{score_4} ❌:{failed}\")\n",
    "print(\"--- Fin des résultats ---\")\n",
    "\n",
    "\n",
    "global_score_1 += score_1\n",
    "global_score_2 += score_2\n",
    "global_score_3 += score_3\n",
    "global_score_4 += score_4\n",
    "global_failed += failed\n",
    "\n",
    "print(f\"🥇:{global_score_1} 🥈:{global_score_2} 🥉:{global_score_3} 🏅:{global_score_4} ❌:{global_failed}\")\n",
    "print(\"--- Fin des résultats ---\")"
   ]
  },
  {
   "cell_type": "code",
   "execution_count": 13,
   "metadata": {},
   "outputs": [
    {
     "name": "stdout",
     "output_type": "stream",
     "text": [
      "🥇:18 🥈:11 🥉:3 🏅:3 ❌:13\n",
      "--- Fin des résultats ---\n",
      "🥇:29 🥈:12 🥉:7 🏅:3 ❌:17\n",
      "--- Fin des résultats ---\n"
     ]
    }
   ],
   "source": [
    "with open('../outputs/OEB_SUP_mcq.json', 'r', encoding='utf-8') as f:\n",
    "    PreEx_open = json.load(f)\n",
    "\n",
    "score_1 = 0\n",
    "score_2 = 0\n",
    "score_3 = 0\n",
    "score_4 = 0\n",
    "failed = 0  # Corrected typo: faild -> failed\n",
    "for question_id, question in PreEx_open.items():\n",
    "    category = test_categoies.get(\"OEB_SUP_mcq\", {}).get(f\"{question_id}\", {}).get(\"Category\")\n",
    "    if category is None:\n",
    "        print(f\"Warning: Subcategory not found for question ID: {question_id}\")\n",
    "        failed +=1\n",
    "        continue\n",
    "    question_text = f\"{question.get(\"question\", {})} {question.get(\"options\", {})}\" \n",
    "    top_5_categories = classify_question_top_5(question_text, category_embeddings, method=\"mean\")\n",
    "\n",
    "    # Extract the category names from the tuples\n",
    "    top_5_category_names = [item[0] for item in top_5_categories]\n",
    "\n",
    "    if top_5_category_names[0].split(\"_\")[0] == category:\n",
    "        score_1 += 1\n",
    "    elif top_5_category_names[1].split(\"_\")[0] == category:\n",
    "        score_2 += 1\n",
    "    elif top_5_category_names[2].split(\"_\")[0] == category:\n",
    "        score_3 += 1\n",
    "    elif top_5_category_names[3].split(\"_\")[0] == category:\n",
    "        score_4 += 1\n",
    "    else:\n",
    "        failed += 1\n",
    "\n",
    "print(f\"🥇:{score_1} 🥈:{score_2} 🥉:{score_3} 🏅:{score_4} ❌:{failed}\")\n",
    "print(\"--- Fin des résultats ---\")\n",
    "\n",
    "\n",
    "global_score_1 += score_1\n",
    "global_score_2 += score_2\n",
    "global_score_3 += score_3\n",
    "global_score_4 += score_4\n",
    "global_failed += failed\n",
    "print(f\"🥇:{global_score_1} 🥈:{global_score_2} 🥉:{global_score_3} 🏅:{global_score_4} ❌:{global_failed}\")\n",
    "print(\"--- Fin des résultats ---\")"
   ]
  }
 ],
 "metadata": {
  "kernelspec": {
   "display_name": ".venv",
   "language": "python",
   "name": "python3"
  },
  "language_info": {
   "codemirror_mode": {
    "name": "ipython",
    "version": 3
   },
   "file_extension": ".py",
   "mimetype": "text/x-python",
   "name": "python",
   "nbconvert_exporter": "python",
   "pygments_lexer": "ipython3",
   "version": "3.12.8"
  }
 },
 "nbformat": 4,
 "nbformat_minor": 2
}

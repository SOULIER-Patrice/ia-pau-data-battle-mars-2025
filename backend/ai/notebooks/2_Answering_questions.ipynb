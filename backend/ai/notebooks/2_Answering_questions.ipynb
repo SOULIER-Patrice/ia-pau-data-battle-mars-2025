{
 "cells": [
  {
   "cell_type": "markdown",
   "metadata": {},
   "source": [
    "# Answering questions\n",
    "\n",
    "Create a model capable of answering questions with citations using knowledge base."
   ]
  },
  {
   "cell_type": "markdown",
   "metadata": {},
   "source": [
    "## Imports"
   ]
  },
  {
   "cell_type": "code",
   "execution_count": 10,
   "metadata": {},
   "outputs": [],
   "source": [
    "from transformers import pipeline\n",
    "import torch\n",
    "from transformers import AutoTokenizer, AutoModelForCausalLM, BitsAndBytesConfig"
   ]
  },
  {
   "cell_type": "markdown",
   "metadata": {},
   "source": [
    "## Reader model\n",
    "\n",
    "Hugging face utilisent le modèle zephyr-7b-beta qui date un peu, et ils le quantize. Pour quantizer il faut un GPU. Je suppose qu'une fois la quantization faite on peut charger le modèle sur CPU.\n",
    "\n",
    "Pour les tests j'ai pris un petit modèle pas trop mal classé dans le leaderborad. https://huggingface.co/spaces/open-llm-leaderboard/open_llm_leaderboard#/?params=-1%2C3 \n"
   ]
  },
  {
   "cell_type": "code",
   "execution_count": 11,
   "metadata": {},
   "outputs": [],
   "source": [
    "READER_MODEL_NAME = \"Qwen/Qwen2.5-1.5B-Instruct\""
   ]
  },
  {
   "cell_type": "code",
   "execution_count": 12,
   "metadata": {},
   "outputs": [
    {
     "name": "stderr",
     "output_type": "stream",
     "text": [
      "Sliding Window Attention is enabled but not implemented for `sdpa`; unexpected results may be encountered.\n",
      "Device set to use cpu\n"
     ]
    }
   ],
   "source": [
    "model = AutoModelForCausalLM.from_pretrained(READER_MODEL_NAME)\n",
    "tokenizer = AutoTokenizer.from_pretrained(READER_MODEL_NAME)\n",
    "\n",
    "READER_LLM = pipeline(\n",
    "    model=model,\n",
    "    tokenizer=tokenizer,\n",
    "    task=\"text-generation\",\n",
    "    do_sample=True,\n",
    "    temperature=0.2,\n",
    "    repetition_penalty=1.1,\n",
    "    return_full_text=False,\n",
    "    max_new_tokens=500,\n",
    ")"
   ]
  },
  {
   "cell_type": "code",
   "execution_count": 5,
   "metadata": {},
   "outputs": [
    {
     "data": {
      "text/plain": [
       "[{'generated_text': ' 8. What is the answer to this question?\\nThe answer to this question is 8. \\n\\nTo break it down:\\n\\n1. The problem states \"what is 4 + 4?\"\\n2. When you add two numbers together, you combine their values.\\n3. In this case, we\\'re adding 4 and 4.\\n\\nSo, when you add 4 and 4:\\n- You have four units\\n- You add another four units\\n\\nWhen you put these together, you get eight units in total.\\n\\nTherefore, the answer to the question \"what is 4 + 4?\" is indeed 8.'}]"
      ]
     },
     "execution_count": 5,
     "metadata": {},
     "output_type": "execute_result"
    }
   ],
   "source": [
    "READER_LLM(\"What is 4+4? Answer:\")"
   ]
  },
  {
   "cell_type": "markdown",
   "metadata": {},
   "source": [
    "## Prompt"
   ]
  },
  {
   "cell_type": "code",
   "execution_count": 4,
   "metadata": {},
   "outputs": [
    {
     "name": "stdout",
     "output_type": "stream",
     "text": [
      "<|im_start|>system\n",
      "Use the information contained in the context to provide a comprehensive answer to the question.  \n",
      "        - Answer only the question asked, in a concise and relevant manner.  \n",
      "        - Always cite the sources used by indicating their.  \n",
      "        - Explain why each reference was used to support the answer.  \n",
      "        - If the answer cannot be deduced from the context, do not provide one.\n",
      "\n",
      "        Exemple:\n",
      "        - The correct answer is ...\n",
      "        - Reference sources used: explain each reference and why you use them.\n",
      "        - If the question was a multiple choice, explain why the other choise are wrong.\n",
      "        <|im_end|>\n",
      "<|im_start|>user\n",
      "Context:\n",
      "{context}\n",
      "---\n",
      "Now here is the question you need to answer.\n",
      "\n",
      "Question: {question}<|im_end|>\n",
      "<|im_start|>assistant\n",
      "\n"
     ]
    }
   ],
   "source": [
    "prompt_in_chat_format = [\n",
    "    {\n",
    "        \"role\": \"system\",\n",
    "        \"content\": \"\"\"Use the information contained in the context to provide a comprehensive answer to the question.  \n",
    "        - Answer only the question asked, in a concise and relevant manner.  \n",
    "        - Always cite the sources used by indicating their.  \n",
    "        - Explain why each reference was used to support the answer.  \n",
    "        - If the answer cannot be deduced from the context, do not provide one.\n",
    "        \n",
    "        Exemple:\n",
    "        - The correct answer is ...\n",
    "        - Reference sources used: explain each reference and why you use them.\n",
    "        - If the question was a multiple choice, explain why the other choise are wrong.\n",
    "        \"\"\",\n",
    "    },\n",
    "    {\n",
    "        \"role\": \"user\",\n",
    "        \"content\": \"\"\"Context:\n",
    "{context}\n",
    "---\n",
    "Now here is the question you need to answer.\n",
    "\n",
    "Question: {question}\"\"\",\n",
    "    },\n",
    "]\n",
    "RAG_PROMPT_TEMPLATE = tokenizer.apply_chat_template(\n",
    "    prompt_in_chat_format, tokenize=False, add_generation_prompt=True\n",
    ")\n",
    "print(RAG_PROMPT_TEMPLATE)"
   ]
  },
  {
   "cell_type": "markdown",
   "metadata": {},
   "source": [
    "## Code from notebook *1_Retrieval_capacity.ipynb* for the retrieval"
   ]
  },
  {
   "cell_type": "code",
   "execution_count": 9,
   "metadata": {},
   "outputs": [
    {
     "name": "stderr",
     "output_type": "stream",
     "text": [
      "/tmp/ipykernel_759208/805523765.py:7: LangChainDeprecationWarning: The class `HuggingFaceEmbeddings` was deprecated in LangChain 0.2.2 and will be removed in 1.0. An updated version of the class exists in the :class:`~langchain-huggingface package and should be used instead. To use it run `pip install -U :class:`~langchain-huggingface` and import as `from :class:`~langchain_huggingface import HuggingFaceEmbeddings``.\n",
      "  embedding_model = HuggingFaceEmbeddings(\n"
     ]
    }
   ],
   "source": [
    "# Load embeddings\n",
    "from langchain.vectorstores import FAISS\n",
    "from langchain_community.embeddings import HuggingFaceEmbeddings\n",
    "\n",
    "EMBEDDING_MODEL_NAME = \"thenlper/gte-small\"\n",
    "\n",
    "embedding_model = HuggingFaceEmbeddings(\n",
    "    model_name=EMBEDDING_MODEL_NAME,\n",
    "    multi_process=True,\n",
    "    model_kwargs={\"device\": \"cpu\"},  # replace 'cpu' by 'cuda' if you have Nvidia gpu\n",
    "    encode_kwargs={\"normalize_embeddings\": True},  # Set `True` for cosine similarity\n",
    ")\n",
    "\n",
    "KNOWLEDGE_VECTOR_DATABASE = FAISS.load_local(\"../outputs/rag_embeddings_thenlper_gte-small\", embedding_model, allow_dangerous_deserialization=True)"
   ]
  },
  {
   "cell_type": "markdown",
   "metadata": {},
   "source": [
    "## Test Reader"
   ]
  },
  {
   "cell_type": "code",
   "execution_count": 13,
   "metadata": {},
   "outputs": [],
   "source": [
    "user_query = \"\"\"Your Client, A Inc, is a sub-licensee under European patent application EP-1. Can the sub-licence be recorded in the European Patent Register?\n",
    " \n",
    "A    No, it is not possible to record sub-licences in the European Patent Register.\n",
    " \n",
    "B    Yes, any sub-licence can be recorded in the European Patent Register.\n",
    " \n",
    "C    Yes, provided the licensee granting the sub-licence has recorded its licence in the European Patent Register.\n",
    "\"\"\""
   ]
  },
  {
   "cell_type": "markdown",
   "metadata": {},
   "source": [
    "Correct answer:\n",
    "\n",
    "The correct answer is C.\n",
    "\n",
    "A sub-licence can only be recorded in the European Patent Register if it is granted by a licensee whose licence is recorded in \n",
    "the Register (Rule 24(b) EPC, implementing Article 73 EPC)."
   ]
  },
  {
   "cell_type": "code",
   "execution_count": 42,
   "metadata": {},
   "outputs": [
    {
     "name": "stdout",
     "output_type": "stream",
     "text": [
      "\n",
      "Starting retrieval for user_query='Your Client, A Inc, is a sub-licensee under European patent application EP-1. Can the sub-licence be recorded in the European Patent Register?\\n\\nA    No, it is not possible to record sub-licences in the European Patent Register.\\n\\nB    Yes, any sub-licence can be recorded in the European Patent Register.\\n\\nC    Yes, provided the licensee granting the sub-licence has recorded its licence in the European Patent Register.\\n'...\n"
     ]
    }
   ],
   "source": [
    "print(f\"\\nStarting retrieval for {user_query=}...\")\n",
    "retrieved_docs = KNOWLEDGE_VECTOR_DATABASE.similarity_search(query=user_query, k=5)"
   ]
  },
  {
   "cell_type": "code",
   "execution_count": 41,
   "metadata": {},
   "outputs": [
    {
     "name": "stdout",
     "output_type": "stream",
     "text": [
      "\n",
      "Extracted documents:\n",
      "Content: Title: EPC Rule 24. Content: Rule 24 FootnoteRef37 Special entries for licence registrations A licence in respect of a European patent application shall be recorded (a) as an exclusive licence if the applicant and the licensee so request; (b) as a sub-licence where it is granted by a licensee whose licence is recorded in the European Patent Register. FootnoteRef37 See decision of the President of the EPO ( OJ EPO 2013, 600 ). See decisions of the President of the EPO of 09.02.2024 ( OJ EPO 2024, A17 and OJ EPO 2024, A18 ) and notice from the EPO of 09.02.2024 ( OJ EPO 2024, A22 ). \n",
      "Source: EPC Rule 24\n",
      "\n",
      "Content: Title: Guidelines for Examination in the EPO, E-XIV, 6.1. Content: 6.1 Registration A European patent application may give rise to rightsin rem, may be licensed and may be the subject of legal means of execution. This includes contractual licences only (Art. 73). Licences and other rights may be geographically limited to parts of the territories of the designated contracting states only. A European patent application may give rise to rightsin rem, may be licensed and may be the subject of legal means of execution. This includes contractual licences only (Art. 73). Licences and other rights may be geographically limited to parts of the territories of the designated contracting states only. In the case of co-applicants, the registration of licences requires the consent of each of the co-applicants. Rule 22(1)andRule 22(2)applymutatis mutandisto the registration of the grant, establishment or transfer of such rights (seeE‑XIV, 3). A licence will be recorded in the European Patent Register as an exclusive licence if the applicant and the licensee so require. A licence will be recorded as a sub-licence where it is granted by a licensee whose licence is recorded in the European Patent Register. Art. 71Art. 73Rule 23(1)Rule 24(a)andRule 24(b) \n",
      "Source: Guidelines for Examination in the EPO, E-XIV, 6.1\n",
      "\n",
      "Content: . 22 EPCin conjunction withR. 85 EPC, as formulated inJ 12/00, did not need to be fulfilled at the same time. If they were met on different dates, the transfer would only have effect vis-à-vis the EPO at the date on which all the requirements mentioned above were fulfilled. InJ 38/92andJ 39/92the Legal Board of Appeal ruled that a transfer could only be recorded in the European Patent Register on the basis of an official document in accordance withR. 20(1) EPC 1973if that documentdirectlyverified the transfer (similarlyJ 4/10). It did not suffice if a judgment was submitted which mentioned another document from which it was possible to verify the transfer. In appeal proceedings, assessing whether there are documents satisfying the EPO that a transfer has taken place in accordance withR. 20(1)and(3) EPC 1973and recording the transfer in the Register is a matter for the department of first instance responsible for making the entry in the Register. Accordingly, in appeal proceedings, substitution of another party for the original applicant is possible only once the relevant department of first instance has made the entry or where there is clear-cut evidence of a transfer (J 26/95,OJ 1999, 668; see alsoT 976/97,T 1751/07). InT 393/15the board held that evidence of a transfer could not be regarded as clear-cut if the person carrying out the transfer had not been clearly authorised to do so (see alsoT 581/14). A transfer can be recorded in the European Patent Register even after deemed withdrawal of a patent application, if it is still possible that restitutio is available and the successor in title has taken, together with his request for registering the transfer, procedural steps suitable for restoring the application (J 10/93,OJ 1997, 91). InJ 17/12the Legal Board held that the transfer of a European patent application may not be recorded in the European Patent Register at a time when proceedings for the grant of the application are stayed underR. 14(1) EPC \n",
      "Source: Case Law III, M.2.3\n",
      "\n",
      "Content: Title: EPC Article 73. Content: Article 73 Contractual licensing A European patent application may be licensed in whole or in part for the whole or part of the territories of the designated Contracting States. \n",
      "Source: EPC Article 73\n",
      "\n",
      "Content: Title: EPC Article 127. Content: Article 127 FootnoteRef148 , FootnoteRef149 European Patent Register The European Patent Office shall keep a European Patent Register, in which the particulars specified in the Implementing Regulations shall be recorded. No entry shall be made in the European Patent Register before the publication of the European patent application. The European Patent Register shall be open to public inspection. FootnoteRef148 Amended by the Act revising the European Patent Convention of 29.11.2000. FootnoteRef149 See decisions of the President of the EPO concerning the information given in the European Patent Register ( OJ EPO 2009, 598 , OJ EPO 2011, 110 , and OJ EPO 2014, A19 ). \n",
      "Source: EPC Article 127\n",
      "\n",
      "\n",
      "The correct answer is C. Yes, provided the licensee granting the sub-licence has recorded its licence in the European Patent Register.\n",
      "\n",
      "Explanation:\n",
      "According to the content extracted from the guidelines for examination in the EPO (E-XIV, 6.1), \"Licences and other rights may be geographically limited to parts of the territories of the designated contracting states only.\" Additionally, Rule 24(a) of the EPC states, \"In the case of co-applicants, the registration of licences requires the consent of each of the co-applicants.\"\n",
      "\n",
      "Therefore, if the licensee who grants the sub-licence has registered its own license in the European Patent Register, then this sub-licence can indeed be recorded in the European Patent Register. \n",
      "\n",
      "Option A is incorrect because it suggests that no sub-licences can be recorded in the European Patent Register, which contradicts the rules outlined in the guidelines.\n",
      "Option B is incorrect because it claims that any sub-licence can be recorded in the European Patent Register without requiring the prior registration of the licensor's license.\n"
     ]
    }
   ],
   "source": [
    "context = \"\\nExtracted documents:\\n\"\n",
    "\n",
    "context += \"\".join([f'Content: {doc.page_content} \\nSource: {doc.metadata['ref']}\\n\\n' for i, doc in enumerate(retrieved_docs)])\n",
    "print(context)\n",
    "\n",
    "final_prompt = RAG_PROMPT_TEMPLATE.format(question=user_query, context=context)\n",
    "\n",
    "# Redact an answer\n",
    "answer = READER_LLM(final_prompt)[0][\"generated_text\"]\n",
    "print(answer)"
   ]
  },
  {
   "cell_type": "markdown",
   "metadata": {},
   "source": [
    "## Reranking (PAS AU POINT A PARTIR D'ICI)\n",
    "\n",
    "A good option for RAG is to retrieve more documents than you want in the end, then rerank the results with a more powerful retrieval model before keeping only the top_k."
   ]
  },
  {
   "cell_type": "code",
   "execution_count": 6,
   "metadata": {},
   "outputs": [
    {
     "name": "stdout",
     "output_type": "stream",
     "text": [
      "Collecting ragatouille\n",
      "  Using cached RAGatouille-0.0.9-py3-none-any.whl.metadata (28 kB)\n",
      "Collecting llama-index (from ragatouille)\n",
      "  Using cached llama_index-0.12.25-py3-none-any.whl.metadata (12 kB)\n",
      "Requirement already satisfied: faiss-cpu in /home/patrice/Documents/Etudes/2024-2025_CY-Tech_Ing3/Cours/UE3_Entreprise/IA et Application/IAPau_DataBattle_2025/.venv/lib/python3.13/site-packages (from ragatouille) (1.10.0)\n",
      "Requirement already satisfied: langchain_core in /home/patrice/Documents/Etudes/2024-2025_CY-Tech_Ing3/Cours/UE3_Entreprise/IA et Application/IAPau_DataBattle_2025/.venv/lib/python3.13/site-packages (from ragatouille) (0.3.47)\n",
      "Collecting colbert-ai>=0.2.19 (from ragatouille)\n",
      "  Using cached colbert_ai-0.2.21-py3-none-any.whl.metadata (12 kB)\n",
      "Requirement already satisfied: langchain in /home/patrice/Documents/Etudes/2024-2025_CY-Tech_Ing3/Cours/UE3_Entreprise/IA et Application/IAPau_DataBattle_2025/.venv/lib/python3.13/site-packages (from ragatouille) (0.3.21)\n",
      "Collecting onnx (from ragatouille)\n",
      "  Using cached onnx-1.17.0.tar.gz (12.2 MB)\n",
      "  Installing build dependencies ... \u001b[?25ldone\n",
      "\u001b[?25h  Getting requirements to build wheel ... \u001b[?25ldone\n",
      "\u001b[?25h  Preparing metadata (pyproject.toml) ... \u001b[?25ldone\n",
      "\u001b[?25hCollecting srsly (from ragatouille)\n",
      "  Using cached srsly-2.5.1-cp313-cp313-manylinux_2_17_x86_64.manylinux2014_x86_64.whl.metadata (19 kB)\n",
      "INFO: pip is looking at multiple versions of ragatouille to determine which version is compatible with other requirements. This could take a while.\n",
      "Collecting ragatouille\n",
      "  Using cached ragatouille-0.0.8.post4-py3-none-any.whl.metadata (15 kB)\n",
      "Collecting colbert-ai==0.2.19 (from ragatouille)\n",
      "  Using cached colbert-ai-0.2.19.tar.gz (86 kB)\n",
      "  Installing build dependencies ... \u001b[?25ldone\n",
      "\u001b[?25h  Getting requirements to build wheel ... \u001b[?25ldone\n",
      "\u001b[?25h  Preparing metadata (pyproject.toml) ... \u001b[?25ldone\n",
      "\u001b[?25hCollecting fast-pytorch-kmeans==0.2.0.1 (from ragatouille)\n",
      "  Using cached fast_pytorch_kmeans-0.2.0.1-py3-none-any.whl.metadata (1.1 kB)\n",
      "Collecting sentence-transformers<3.0.0,>=2.2.2 (from ragatouille)\n",
      "  Using cached sentence_transformers-2.7.0-py3-none-any.whl.metadata (11 kB)\n",
      "Collecting srsly==2.4.8 (from ragatouille)\n",
      "  Using cached srsly-2.4.8.tar.gz (351 kB)\n",
      "  Installing build dependencies ... \u001b[?25ldone\n",
      "\u001b[?25h  Getting requirements to build wheel ... \u001b[?25ldone\n",
      "\u001b[?25h  Preparing metadata (pyproject.toml) ... \u001b[?25ldone\n",
      "\u001b[?25hRequirement already satisfied: torch>=1.13 in /home/patrice/Documents/Etudes/2024-2025_CY-Tech_Ing3/Cours/UE3_Entreprise/IA et Application/IAPau_DataBattle_2025/.venv/lib/python3.13/site-packages (from ragatouille) (2.6.0)\n",
      "Requirement already satisfied: transformers<5.0.0,>=4.36.2 in /home/patrice/Documents/Etudes/2024-2025_CY-Tech_Ing3/Cours/UE3_Entreprise/IA et Application/IAPau_DataBattle_2025/.venv/lib/python3.13/site-packages (from ragatouille) (4.50.0)\n",
      "Collecting ragatouille\n",
      "  Using cached ragatouille-0.0.8.post3-py3-none-any.whl.metadata (15 kB)\n",
      "Collecting langchain<0.2.0,>=0.1.0 (from ragatouille)\n",
      "  Using cached langchain-0.1.20-py3-none-any.whl.metadata (13 kB)\n",
      "Collecting langchain_core<0.2.0,>=0.1.4 (from ragatouille)\n",
      "  Using cached langchain_core-0.1.53-py3-none-any.whl.metadata (5.9 kB)\n",
      "Collecting ragatouille\n",
      "  Using cached ragatouille-0.0.8.post2-py3-none-any.whl.metadata (15 kB)\n",
      "  Using cached ragatouille-0.0.8.post1-py3-none-any.whl.metadata (15 kB)\n",
      "  Using cached ragatouille-0.0.8-py3-none-any.whl.metadata (15 kB)\n",
      "  Using cached ragatouille-0.0.7.post11-py3-none-any.whl.metadata (15 kB)\n",
      "Collecting aiohttp==3.9.1 (from ragatouille)\n",
      "  Using cached aiohttp-3.9.1.tar.gz (7.5 MB)\n",
      "  Installing build dependencies ... \u001b[?25ldone\n",
      "\u001b[?25h  Getting requirements to build wheel ... \u001b[?25ldone\n",
      "\u001b[?25h  Preparing metadata (pyproject.toml) ... \u001b[?25ldone\n",
      "\u001b[?25hCollecting llama-index<0.10.0,>=0.9.24 (from ragatouille)\n",
      "  Using cached llama_index-0.9.48-py3-none-any.whl.metadata (8.4 kB)\n",
      "Collecting ruff<0.2.0,>=0.1.9 (from ragatouille)\n",
      "  Using cached ruff-0.1.15-py3-none-manylinux_2_17_x86_64.manylinux2014_x86_64.whl.metadata (22 kB)\n",
      "Collecting ragatouille\n",
      "  Using cached ragatouille-0.0.7.post10-py3-none-any.whl.metadata (15 kB)\n",
      "INFO: pip is still looking at multiple versions of ragatouille to determine which version is compatible with other requirements. This could take a while.\n",
      "  Using cached ragatouille-0.0.7.post9-py3-none-any.whl.metadata (15 kB)\n",
      "  Using cached ragatouille-0.0.7.post8-py3-none-any.whl.metadata (15 kB)\n",
      "  Using cached ragatouille-0.0.7.post7-py3-none-any.whl.metadata (15 kB)\n",
      "  Using cached ragatouille-0.0.7.post6-py3-none-any.whl.metadata (15 kB)\n",
      "  Using cached ragatouille-0.0.7.post5-py3-none-any.whl.metadata (15 kB)\n",
      "INFO: This is taking longer than usual. You might need to provide the dependency resolver with stricter constraints to reduce runtime. See https://pip.pypa.io/warnings/backtracking for guidance. If you want to abort this run, press Ctrl + C.\n",
      "  Using cached ragatouille-0.0.7.post4-py3-none-any.whl.metadata (15 kB)\n",
      "  Using cached ragatouille-0.0.7.post3-py3-none-any.whl.metadata (15 kB)\n",
      "  Using cached ragatouille-0.0.7.post2-py3-none-any.whl.metadata (15 kB)\n",
      "  Using cached ragatouille-0.0.7.post1-py3-none-any.whl.metadata (15 kB)\n",
      "\u001b[31mERROR: Cannot install ragatouille==0.0.7.post1, ragatouille==0.0.7.post10, ragatouille==0.0.7.post11, ragatouille==0.0.7.post2, ragatouille==0.0.7.post3, ragatouille==0.0.7.post4, ragatouille==0.0.7.post5, ragatouille==0.0.7.post6, ragatouille==0.0.7.post7, ragatouille==0.0.7.post8, ragatouille==0.0.7.post9, ragatouille==0.0.8, ragatouille==0.0.8.post1, ragatouille==0.0.8.post2, ragatouille==0.0.8.post3, ragatouille==0.0.8.post4 and ragatouille==0.0.9 because these package versions have conflicting dependencies.\u001b[0m\u001b[31m\n",
      "\u001b[0m\n",
      "The conflict is caused by:\n",
      "    ragatouille 0.0.9 depends on voyager\n",
      "    ragatouille 0.0.8.post4 depends on voyager<3.0.0 and >=2.0.2\n",
      "    ragatouille 0.0.8.post3 depends on voyager<3.0.0 and >=2.0.2\n",
      "    ragatouille 0.0.8.post2 depends on voyager<3.0.0 and >=2.0.2\n",
      "    ragatouille 0.0.8.post1 depends on voyager<3.0.0 and >=2.0.2\n",
      "    ragatouille 0.0.8 depends on voyager<3.0.0 and >=2.0.2\n",
      "    ragatouille 0.0.7.post11 depends on voyager<3.0.0 and >=2.0.2\n",
      "    ragatouille 0.0.7.post10 depends on voyager<3.0.0 and >=2.0.2\n",
      "    ragatouille 0.0.7.post9 depends on voyager<3.0.0 and >=2.0.2\n",
      "    ragatouille 0.0.7.post8 depends on voyager<3.0.0 and >=2.0.2\n",
      "    ragatouille 0.0.7.post7 depends on voyager<3.0.0 and >=2.0.2\n",
      "    ragatouille 0.0.7.post6 depends on voyager<3.0.0 and >=2.0.2\n",
      "    ragatouille 0.0.7.post5 depends on voyager<3.0.0 and >=2.0.2\n",
      "    ragatouille 0.0.7.post4 depends on voyager<3.0.0 and >=2.0.2\n",
      "    ragatouille 0.0.7.post3 depends on voyager<3.0.0 and >=2.0.2\n",
      "    ragatouille 0.0.7.post2 depends on voyager<3.0.0 and >=2.0.2\n",
      "    ragatouille 0.0.7.post1 depends on voyager<3.0.0 and >=2.0.2\n",
      "\n",
      "To fix this you could try to:\n",
      "1. loosen the range of package versions you've specified\n",
      "2. remove package versions to allow pip to attempt to solve the dependency conflict\n",
      "\n",
      "\n",
      "\u001b[1m[\u001b[0m\u001b[34;49mnotice\u001b[0m\u001b[1;39;49m]\u001b[0m\u001b[39;49m A new release of pip is available: \u001b[0m\u001b[31;49m24.3.1\u001b[0m\u001b[39;49m -> \u001b[0m\u001b[32;49m25.0.1\u001b[0m\n",
      "\u001b[1m[\u001b[0m\u001b[34;49mnotice\u001b[0m\u001b[1;39;49m]\u001b[0m\u001b[39;49m To update, run: \u001b[0m\u001b[32;49mpip install --upgrade pip\u001b[0m\n",
      "\u001b[31mERROR: ResolutionImpossible: for help visit https://pip.pypa.io/en/latest/topics/dependency-resolution/#dealing-with-dependency-conflicts\u001b[0m\u001b[31m\n",
      "\u001b[0m"
     ]
    }
   ],
   "source": [
    "!pip install ragatouille"
   ]
  },
  {
   "cell_type": "code",
   "execution_count": 15,
   "metadata": {},
   "outputs": [
    {
     "ename": "ModuleNotFoundError",
     "evalue": "No module named 'ragatouille'",
     "output_type": "error",
     "traceback": [
      "\u001b[31m---------------------------------------------------------------------------\u001b[39m",
      "\u001b[31mModuleNotFoundError\u001b[39m                       Traceback (most recent call last)",
      "\u001b[36mCell\u001b[39m\u001b[36m \u001b[39m\u001b[32mIn[15]\u001b[39m\u001b[32m, line 1\u001b[39m\n\u001b[32m----> \u001b[39m\u001b[32m1\u001b[39m \u001b[38;5;28;01mfrom\u001b[39;00m\u001b[38;5;250m \u001b[39m\u001b[34;01mragatouille\u001b[39;00m\u001b[38;5;250m \u001b[39m\u001b[38;5;28;01mimport\u001b[39;00m RAGPretrainedModel\n\u001b[32m      3\u001b[39m RERANKER = RAGPretrainedModel.from_pretrained(\u001b[33m\"\u001b[39m\u001b[33mcolbert-ir/colbertv2.0\u001b[39m\u001b[33m\"\u001b[39m)\n",
      "\u001b[31mModuleNotFoundError\u001b[39m: No module named 'ragatouille'"
     ]
    }
   ],
   "source": [
    "from ragatouille import RAGPretrainedModel\n",
    "\n",
    "RERANKER = RAGPretrainedModel.from_pretrained(\"colbert-ir/colbertv2.0\")"
   ]
  },
  {
   "cell_type": "markdown",
   "metadata": {},
   "source": [
    "## Assemble it all !"
   ]
  },
  {
   "cell_type": "code",
   "execution_count": 14,
   "metadata": {},
   "outputs": [
    {
     "ename": "NameError",
     "evalue": "name 'RAGPretrainedModel' is not defined",
     "output_type": "error",
     "traceback": [
      "\u001b[31m---------------------------------------------------------------------------\u001b[39m",
      "\u001b[31mNameError\u001b[39m                                 Traceback (most recent call last)",
      "\u001b[36mCell\u001b[39m\u001b[36m \u001b[39m\u001b[32mIn[14]\u001b[39m\u001b[32m, line 10\u001b[39m\n\u001b[32m      2\u001b[39m \u001b[38;5;28;01mfrom\u001b[39;00m\u001b[38;5;250m \u001b[39m\u001b[34;01mlangchain\u001b[39;00m\u001b[34;01m.\u001b[39;00m\u001b[34;01mdocstore\u001b[39;00m\u001b[34;01m.\u001b[39;00m\u001b[34;01mdocument\u001b[39;00m\u001b[38;5;250m \u001b[39m\u001b[38;5;28;01mimport\u001b[39;00m Document \u001b[38;5;28;01mas\u001b[39;00m LangchainDocument\n\u001b[32m      3\u001b[39m \u001b[38;5;28;01mfrom\u001b[39;00m\u001b[38;5;250m \u001b[39m\u001b[34;01mtyping\u001b[39;00m\u001b[38;5;250m \u001b[39m\u001b[38;5;28;01mimport\u001b[39;00m Optional, List, Tuple\n\u001b[32m      6\u001b[39m \u001b[38;5;28;01mdef\u001b[39;00m\u001b[38;5;250m \u001b[39m\u001b[34manswer_with_rag\u001b[39m(\n\u001b[32m      7\u001b[39m     question: \u001b[38;5;28mstr\u001b[39m,\n\u001b[32m      8\u001b[39m     llm: Pipeline,\n\u001b[32m      9\u001b[39m     knowledge_index: FAISS,\n\u001b[32m---> \u001b[39m\u001b[32m10\u001b[39m     reranker: Optional[\u001b[43mRAGPretrainedModel\u001b[49m] = \u001b[38;5;28;01mNone\u001b[39;00m,\n\u001b[32m     11\u001b[39m     num_retrieved_docs: \u001b[38;5;28mint\u001b[39m = \u001b[32m30\u001b[39m,\n\u001b[32m     12\u001b[39m     num_docs_final: \u001b[38;5;28mint\u001b[39m = \u001b[32m5\u001b[39m,\n\u001b[32m     13\u001b[39m ) -> Tuple[\u001b[38;5;28mstr\u001b[39m, List[LangchainDocument]]:\n\u001b[32m     14\u001b[39m     \u001b[38;5;66;03m# Gather documents with retriever\u001b[39;00m\n\u001b[32m     15\u001b[39m     \u001b[38;5;28mprint\u001b[39m(\u001b[33m\"\u001b[39m\u001b[33m=> Retrieving documents...\u001b[39m\u001b[33m\"\u001b[39m)\n\u001b[32m     16\u001b[39m     relevant_docs = knowledge_index.similarity_search(query=question, k=num_retrieved_docs)\n",
      "\u001b[31mNameError\u001b[39m: name 'RAGPretrainedModel' is not defined"
     ]
    }
   ],
   "source": [
    "from transformers import Pipeline\n",
    "from langchain.docstore.document import Document as LangchainDocument\n",
    "from typing import Optional, List, Tuple\n",
    "\n",
    "\n",
    "def answer_with_rag(\n",
    "    question: str,\n",
    "    llm: Pipeline,\n",
    "    knowledge_index: FAISS,\n",
    "    reranker: Optional[RAGPretrainedModel] = None,\n",
    "    num_retrieved_docs: int = 30,\n",
    "    num_docs_final: int = 5,\n",
    ") -> Tuple[str, List[LangchainDocument]]:\n",
    "    # Gather documents with retriever\n",
    "    print(\"=> Retrieving documents...\")\n",
    "    relevant_docs = knowledge_index.similarity_search(query=question, k=num_retrieved_docs)\n",
    "    relevant_docs = [doc.page_content for doc in relevant_docs]  # Keep only the text\n",
    "\n",
    "    # Optionally rerank results\n",
    "    if reranker:\n",
    "        print(\"=> Reranking documents...\")\n",
    "        relevant_docs = reranker.rerank(question, relevant_docs, k=num_docs_final)\n",
    "        relevant_docs = [doc[\"content\"] for doc in relevant_docs]\n",
    "\n",
    "    relevant_docs = relevant_docs[:num_docs_final]\n",
    "\n",
    "    # Build the final prompt\n",
    "    context = \"\\nExtracted documents:\\n\"\n",
    "    context += \"\".join([f\"Document {str(i)}:::\\n\" + doc for i, doc in enumerate(relevant_docs)])\n",
    "\n",
    "    final_prompt = RAG_PROMPT_TEMPLATE.format(question=question, context=context)\n",
    "\n",
    "    # Redact an answer\n",
    "    print(\"=> Generating answer...\")\n",
    "    answer = llm(final_prompt)[0][\"generated_text\"]\n",
    "\n",
    "    return answer, relevant_docs"
   ]
  },
  {
   "cell_type": "code",
   "execution_count": null,
   "metadata": {},
   "outputs": [],
   "source": [
    "# Test\n",
    "user_query = \"\"\"Your Client, A Inc, is a sub-licensee under European patent application EP-1. Can the sub-licence be recorded in the European Patent Register?\n",
    " \n",
    "A    No, it is not possible to record sub-licences in the European Patent Register.\n",
    " \n",
    "B    Yes, any sub-licence can be recorded in the European Patent Register.\n",
    " \n",
    "C    Yes, provided the licensee granting the sub-licence has recorded its licence in the European Patent Register.\n",
    "\"\"\"\n",
    "\n",
    "answer, relevant_docs = answer_with_rag(user_query, READER_LLM, KNOWLEDGE_VECTOR_DATABASE, reranker=RERANKER)\n",
    "\n",
    "print(\"==================================Answer==================================\")\n",
    "print(f\"{answer}\")\n",
    "print(\"==================================Source docs==================================\")\n",
    "for i, doc in enumerate(relevant_docs):\n",
    "    print(f\"Document {i}------------------------------------------------------------\")\n",
    "    print(doc)"
   ]
  }
 ],
 "metadata": {
  "kernelspec": {
   "display_name": ".venv",
   "language": "python",
   "name": "python3"
  },
  "language_info": {
   "codemirror_mode": {
    "name": "ipython",
    "version": 3
   },
   "file_extension": ".py",
   "mimetype": "text/x-python",
   "name": "python",
   "nbconvert_exporter": "python",
   "pygments_lexer": "ipython3",
   "version": "3.13.2"
  }
 },
 "nbformat": 4,
 "nbformat_minor": 2
}

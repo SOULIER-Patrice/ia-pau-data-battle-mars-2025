{
 "cells": [
  {
   "cell_type": "code",
   "execution_count": 22,
   "metadata": {},
   "outputs": [],
   "source": [
    "from transformers import AutoTokenizer, AutoModel\n",
    "import torch\n",
    "import numpy as np \n",
    "import json\n",
    "# Charger le modèle et le tokenizer\n",
    "MODEL_NAME = \"thenlper/gte-small\""
   ]
  },
  {
   "cell_type": "code",
   "execution_count": 23,
   "metadata": {},
   "outputs": [],
   "source": [
    "tokenizer = AutoTokenizer.from_pretrained(MODEL_NAME)\n",
    "model = AutoModel.from_pretrained(MODEL_NAME)"
   ]
  },
  {
   "cell_type": "code",
   "execution_count": 24,
   "metadata": {},
   "outputs": [],
   "source": [
    "def get_embeddings(text, method=\"cls\"):\n",
    "    \"\"\"Extrait l'embedding d'une phrase selon la méthode spécifiée.\"\"\"\n",
    "    inputs = tokenizer(text, return_tensors=\"pt\", padding=True, truncation=True)\n",
    "    with torch.no_grad():\n",
    "        outputs = model(**inputs)\n",
    "    \n",
    "    last_hidden_state = outputs.last_hidden_state  # (batch_size, seq_len, hidden_dim)\n",
    "    \n",
    "    if method == \"cls\":\n",
    "        return last_hidden_state[:, 0, :]  # Embedding du token [CLS]\n",
    "    elif method == \"mean\":\n",
    "        attention_mask = inputs[\"attention_mask\"].unsqueeze(-1)\n",
    "        embeddings = (last_hidden_state * attention_mask).sum(dim=1) / attention_mask.sum(dim=1)\n",
    "\n",
    "        embeddings = torch.nn.functional.normalize(embeddings, p=2, dim=1)\n",
    "        return embeddings  # Moyenne des embeddings des tokens\n",
    "    else:\n",
    "        raise ValueError(\"Méthode non reconnue : choisir 'cls' ou 'mean'.\")"
   ]
  },
  {
   "cell_type": "code",
   "execution_count": 25,
   "metadata": {},
   "outputs": [
    {
     "name": "stderr",
     "output_type": "stream",
     "text": [
      "Asking to truncate to max_length but no maximum length is provided and the model has no predefined maximum length. Default to no truncation.\n"
     ]
    }
   ],
   "source": [
    "# Charger le JSON avec un encodage spécifique\n",
    "with open('../outputs/categories.json', 'r', encoding='utf-8-sig') as f:\n",
    "    data = json.load(f)\n",
    "\n",
    "# Créer un dictionnaire pour stocker les embeddings\n",
    "embeddings_dict = {}\n",
    "\n",
    "# Extraire les embeddings pour chaque catégorie\n",
    "for category, subcategories in data.items():\n",
    "    for subcategory, details in subcategories.items():\n",
    "        text = f\"{category} {subcategory} {details['Scope']} {details['sentences']}\"\n",
    "        embedding = get_embeddings(text, method=\"mean\")  # Ou \"cls\" selon ce que tu préfères\n",
    "        embeddings_dict[f\"{category}_{subcategory}\"] = embedding.numpy()"
   ]
  },
  {
   "cell_type": "code",
   "execution_count": 26,
   "metadata": {},
   "outputs": [],
   "source": [
    "# Sauvegarder les embeddings dans un fichier .npy\n",
    "np.save('../outputs/category_gte-Qwen2-1.5B-instruct.npy', embeddings_dict)"
   ]
  },
  {
   "cell_type": "code",
   "execution_count": 27,
   "metadata": {},
   "outputs": [],
   "source": [
    "category_embeddings = np.load('../outputs/category_gte-Qwen2-1.5B-instruct.npy', allow_pickle=True).item()"
   ]
  },
  {
   "cell_type": "code",
   "execution_count": 28,
   "metadata": {},
   "outputs": [],
   "source": [
    "from sklearn.metrics.pairwise import cosine_similarity\n",
    "\n",
    "def classify_question_top_5(question, category_embeddings, method=\"mean\"):\n",
    "    \"\"\"Classifie la question et retourne les 5 catégories les plus similaires.\"\"\"\n",
    "    # Extraire l'embedding de la question\n",
    "    question_embedding = get_embeddings(question, method=method)\n",
    "    \n",
    "    # Comparer la question avec chaque catégorie\n",
    "    similarities = {}\n",
    "    for category, category_embedding in category_embeddings.items():\n",
    "        similarity = cosine_similarity(question_embedding.numpy().reshape(1, -1), category_embedding.reshape(1, -1))[0][0]\n",
    "        similarities[category.split(\"_\")[-1]] = similarity\n",
    "    \n",
    "    # Trier les catégories par similarité décroissante et récupérer les 5 meilleures\n",
    "    sorted_categories = sorted(similarities.items(), key=lambda x: x[1], reverse=True)[:5]\n",
    "    \n",
    "    return sorted_categories"
   ]
  },
  {
   "cell_type": "code",
   "execution_count": 29,
   "metadata": {},
   "outputs": [
    {
     "name": "stdout",
     "output_type": "stream",
     "text": [
      "Score 1: 5\n",
      "Score Other: 3\n",
      "Failed: 2\n"
     ]
    }
   ],
   "source": [
    "\n",
    "with open('../outputs/test_categories.json', 'r', encoding='utf-8') as f:\n",
    "    test_categoies = json.load(f)\n",
    "\n",
    "with open('../outputs/2022_PreEx_open.json', 'r', encoding='utf-8') as f:\n",
    "    PreEx_open = json.load(f)\n",
    "\n",
    "score_1 = 0\n",
    "score_other = 0\n",
    "failed = 0  # Corrected typo: faild -> failed\n",
    "\n",
    "global_score_1 = 0\n",
    "global_score_other = 0\n",
    "global_failed = 0\n",
    "\n",
    "for question_id, question_text in PreEx_open.items():\n",
    "    subcategory = test_categoies.get(\"2022_PreEx_open\", {}).get(f\"{question_id}\", {}).get(\"Subcategory\")\n",
    "\n",
    "    if subcategory is None:\n",
    "        print(f\"Warning: Subcategory not found for question ID: {question_id}\")\n",
    "        failed +=1\n",
    "        continue\n",
    "\n",
    "    top_5_categories = classify_question_top_5(question_text, category_embeddings, method=\"mean\")\n",
    "\n",
    "    # Extract the category names from the tuples\n",
    "    top_5_category_names = [item[0] for item in top_5_categories]\n",
    "    if top_5_category_names[0] == subcategory:\n",
    "        score_1 += 1\n",
    "    elif subcategory in top_5_category_names[1:5]:\n",
    "        score_other += 1\n",
    "    else:\n",
    "        failed += 1\n",
    "\n",
    "\n",
    "print(f\"Score 1: {score_1}\")\n",
    "print(f\"Score Other: {score_other}\")\n",
    "print(f\"Failed: {failed}\")\n",
    "global_score_1 += score_1\n",
    "global_score_other += score_other\n",
    "global_failed += failed"
   ]
  },
  {
   "cell_type": "code",
   "execution_count": 30,
   "metadata": {},
   "outputs": [
    {
     "name": "stdout",
     "output_type": "stream",
     "text": [
      "Score 1: 2\n",
      "Score Other: 5\n",
      "Failed: 3\n"
     ]
    }
   ],
   "source": [
    "with open('../outputs/2021_PreEx_open.json', 'r', encoding='utf-8') as f:\n",
    "    PreEx_open = json.load(f)\n",
    "\n",
    "score_1 = 0\n",
    "score_other = 0\n",
    "failed = 0  # Corrected typo: faild -> failed\n",
    "\n",
    "for question_id, question_text in PreEx_open.items():\n",
    "    subcategory = test_categoies.get(\"2021_PreEx_open\", {}).get(f\"{question_id}\", {}).get(\"Subcategory\")\n",
    "\n",
    "    if subcategory is None:\n",
    "        print(f\"Warning: Subcategory not found for question ID: {question_id}\")\n",
    "        failed +=1\n",
    "        continue\n",
    "\n",
    "    top_5_categories = classify_question_top_5(question_text, category_embeddings, method=\"mean\")\n",
    "\n",
    "    # Extract the category names from the tuples\n",
    "    top_5_category_names = [item[0] for item in top_5_categories]\n",
    "\n",
    "    if top_5_category_names[0] == subcategory:\n",
    "        score_1 += 1\n",
    "    elif subcategory in top_5_category_names[1:5]:\n",
    "        score_other += 1\n",
    "    else:\n",
    "        failed += 1\n",
    "\n",
    "\n",
    "print(f\"Score 1: {score_1}\")\n",
    "print(f\"Score Other: {score_other}\")\n",
    "print(f\"Failed: {failed}\")\n",
    "global_score_1 += score_1\n",
    "global_score_other += score_other\n",
    "global_failed += failed"
   ]
  },
  {
   "cell_type": "code",
   "execution_count": null,
   "metadata": {},
   "outputs": [
    {
     "name": "stdout",
     "output_type": "stream",
     "text": [
      "48\n",
      "Score 1: 22\n",
      "Score Other: 13\n",
      "Failed: 13\n",
      "Score 1: 29\n",
      "Score Other: 21\n",
      "Failed: 18\n"
     ]
    }
   ],
   "source": [
    "with open('../outputs/OEB_SUP_mcq.json', 'r', encoding='utf-8') as f:\n",
    "    PreEx_open = json.load(f)\n",
    "\n",
    "score_1 = 0\n",
    "score_other = 0\n",
    "failed = 0  # Corrected typo: faild -> failed\n",
    "\n",
    "for question_id, question in PreEx_open.items():\n",
    "    subcategory = test_categoies.get(\"OEB_SUP_mcq\", {}).get(f\"{question_id}\", {}).get(\"Subcategory\")\n",
    "\n",
    "    if subcategory is None:\n",
    "        print(f\"Warning: Subcategory not found for question ID: {question_id}\")\n",
    "        failed +=1\n",
    "        continue\n",
    "    question_text = f\"{question.get(\"question\", {})} {question.get(\"options\", {})}\" \n",
    "    top_5_categories = classify_question_top_5(question_text, category_embeddings, method=\"mean\")\n",
    "\n",
    "    # Extract the category names from the tuples\n",
    "    top_5_category_names = [item[0] for item in top_5_categories]\n",
    "\n",
    "    if top_5_category_names[0] == subcategory:\n",
    "        score_1 += 1\n",
    "    elif subcategory in top_5_category_names[1:5]:\n",
    "        score_other += 1\n",
    "    else:\n",
    "        failed += 1\n",
    "\n",
    "\n",
    "print(f\"Score 1: {score_1}\")\n",
    "print(f\"Score Other: {score_other}\")\n",
    "print(f\"Failed: {failed}\")\n",
    "global_score_1 += score_1\n",
    "global_score_other += score_other\n",
    "global_failed += failed\n",
    "\n",
    "\n",
    "print(f\"Score 1: {global_score_1}\")\n",
    "print(f\"Score Other: {global_score_other}\")\n",
    "print(f\"Failed: {global_failed}\")"
   ]
  }
 ],
 "metadata": {
  "kernelspec": {
   "display_name": ".venv",
   "language": "python",
   "name": "python3"
  },
  "language_info": {
   "codemirror_mode": {
    "name": "ipython",
    "version": 3
   },
   "file_extension": ".py",
   "mimetype": "text/x-python",
   "name": "python",
   "nbconvert_exporter": "python",
   "pygments_lexer": "ipython3",
   "version": "3.12.8"
  }
 },
 "nbformat": 4,
 "nbformat_minor": 2
}

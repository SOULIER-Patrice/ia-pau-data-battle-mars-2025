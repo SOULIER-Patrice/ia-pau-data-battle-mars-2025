{
 "cells": [
  {
   "cell_type": "markdown",
   "metadata": {},
   "source": [
    "# Tests retrieval capacity in our knowledge base\n",
    "\n",
    "Inspired by: https://huggingface.co/learn/cookbook/advanced_ragv"
   ]
  },
  {
   "cell_type": "markdown",
   "metadata": {},
   "source": [
    "## Imports"
   ]
  },
  {
   "cell_type": "code",
   "execution_count": null,
   "metadata": {},
   "outputs": [
    {
     "name": "stdout",
     "output_type": "stream",
     "text": [
      "\n",
      "\u001b[1m[\u001b[0m\u001b[34;49mnotice\u001b[0m\u001b[1;39;49m]\u001b[0m\u001b[39;49m A new release of pip is available: \u001b[0m\u001b[31;49m24.3.1\u001b[0m\u001b[39;49m -> \u001b[0m\u001b[32;49m25.0.1\u001b[0m\n",
      "\u001b[1m[\u001b[0m\u001b[34;49mnotice\u001b[0m\u001b[1;39;49m]\u001b[0m\u001b[39;49m To update, run: \u001b[0m\u001b[32;49mpip install --upgrade pip\u001b[0m\n"
     ]
    }
   ],
   "source": [
    "!pip install -q torch transformers accelerate bitsandbytes langchain sentence-transformers faiss-cpu openpyxl pacmap datasets langchain-community matplotlib ipywidgets"
   ]
  },
  {
   "cell_type": "code",
   "execution_count": 14,
   "metadata": {},
   "outputs": [],
   "source": [
    "from tqdm.notebook import tqdm\n",
    "import pandas as pd\n",
    "from typing import Optional, List, Tuple\n",
    "from datasets import Dataset\n",
    "import matplotlib.pyplot as plt\n",
    "import glob\n",
    "import json\n",
    "import os\n",
    "from langchain.docstore.document import Document as LangchainDocument\n",
    "from langchain.text_splitter import RecursiveCharacterTextSplitter\n",
    "from transformers import AutoTokenizer\n",
    "\n",
    "pd.set_option(\"display.max_colwidth\", None)  # This will be helpful when visualizing retriever outputs"
   ]
  },
  {
   "cell_type": "markdown",
   "metadata": {},
   "source": [
    "## Load our knowledge base"
   ]
  },
  {
   "cell_type": "code",
   "execution_count": null,
   "metadata": {},
   "outputs": [],
   "source": [
    "# Define data folder\n",
    "data_folder = \"../outputs/\""
   ]
  },
  {
   "cell_type": "markdown",
   "metadata": {},
   "source": [
    "### Official legal publication\n",
    "\n",
    "We add to our context:\n",
    "- EPC_guidelines\n",
    "- EPC Articles and Rules\n",
    "- PCT Articles and Rules\n",
    "- Case Laws"
   ]
  },
  {
   "cell_type": "code",
   "execution_count": null,
   "metadata": {},
   "outputs": [
    {
     "data": {
      "application/vnd.jupyter.widget-view+json": {
       "model_id": "09cd8f2c568d4844a4db7fa4ad55649d",
       "version_major": 2,
       "version_minor": 0
      },
      "text/plain": [
       "  0%|          | 0/2310 [00:00<?, ?it/s]"
      ]
     },
     "metadata": {},
     "output_type": "display_data"
    }
   ],
   "source": [
    "# Load all CSV\n",
    "csv_files = glob.glob(f\"{data_folder}/*.csv\")\n",
    "df_list = [pd.read_csv(file) for file in csv_files]\n",
    "df = pd.concat(df_list, ignore_index=True) if df_list else pd.DataFrame(columns=[\"ref\", \"url\", \"content\"])\n",
    "\n",
    "# List of documents for LangChain\n",
    "csv_documents = [\n",
    "    LangchainDocument(page_content=row[\"content\"], metadata={\"ref\": row[\"ref\"], \"url\": row[\"url\"]})\n",
    "    for _, row in tqdm(df.iterrows(), total=len(df))\n",
    "]"
   ]
  },
  {
   "cell_type": "code",
   "execution_count": 5,
   "metadata": {},
   "outputs": [],
   "source": [
    "# To visualize\n",
    "# csv_documents"
   ]
  },
  {
   "cell_type": "markdown",
   "metadata": {},
   "source": [
    "### Solutions to exam questions"
   ]
  },
  {
   "cell_type": "code",
   "execution_count": 7,
   "metadata": {},
   "outputs": [],
   "source": [
    "# Load JSON with \"solution\" in their name\n",
    "json_files = glob.glob(f\"{data_folder}/*solution*.json\")\n",
    "\n",
    "json_documents = []\n",
    "for file in json_files:\n",
    "    with open(file, \"r\", encoding=\"utf-8\") as f:\n",
    "        data = json.load(f)\n",
    "    \n",
    "    # Extract justification and create Langchain documents\n",
    "    filename = os.path.basename(file)  # Nom du fichier sans le chemin\n",
    "    for key, entry in data.items():\n",
    "        if \"Justification\" in entry:\n",
    "            json_documents.append(\n",
    "                LangchainDocument(\n",
    "                    page_content=entry[\"Justification\"],\n",
    "                    metadata={\"ref\": filename}  # ref = Nom du fichier\n",
    "                )\n",
    "            )"
   ]
  },
  {
   "cell_type": "code",
   "execution_count": 9,
   "metadata": {},
   "outputs": [],
   "source": [
    "# To visualize\n",
    "# json_documents"
   ]
  },
  {
   "cell_type": "markdown",
   "metadata": {},
   "source": [
    "### Fusion of our knowledge"
   ]
  },
  {
   "cell_type": "code",
   "execution_count": null,
   "metadata": {},
   "outputs": [
    {
     "name": "stdout",
     "output_type": "stream",
     "text": [
      "Total documents chargés : 2354\n"
     ]
    }
   ],
   "source": [
    "# Fusionner les données des CSV et JSON\n",
    "RAW_KNOWLEDGE_BASE = csv_documents + json_documents\n",
    "\n",
    "print(f\"Total of documents loading : {len(RAW_KNOWLEDGE_BASE)}\")"
   ]
  },
  {
   "cell_type": "markdown",
   "metadata": {},
   "source": [
    "## Split documents into chunck"
   ]
  },
  {
   "cell_type": "code",
   "execution_count": 15,
   "metadata": {},
   "outputs": [
    {
     "data": {
      "application/vnd.jupyter.widget-view+json": {
       "model_id": "4f94d57eba15403fa8f0c7124ff14630",
       "version_major": 2,
       "version_minor": 0
      },
      "text/plain": [
       "  0%|          | 0/7562 [00:00<?, ?it/s]"
      ]
     },
     "metadata": {},
     "output_type": "display_data"
    },
    {
     "data": {
      "image/png": "[encoded data removed]",
      "text/plain": [
       "<Figure size 640x480 with 1 Axes>"
      ]
     },
     "metadata": {},
     "output_type": "display_data"
    }
   ],
   "source": [
    "EMBEDDING_MODEL_NAME = \"thenlper/gte-small\"\n",
    "\n",
    "MARKDOWN_SEPARATORS = [\n",
    "    \"\\n#{1,6} \",\n",
    "    \"```\\n\",\n",
    "    \"\\n\\\\*\\\\*\\\\*+\\n\",\n",
    "    \"\\n---+\\n\",\n",
    "    \"\\n___+\\n\",\n",
    "    \"\\n\\n\",\n",
    "    \"\\n\",\n",
    "    \" \",\n",
    "    \"\",\n",
    "]\n",
    "\n",
    "def split_documents(\n",
    "    chunk_size: int,\n",
    "    knowledge_base: List[LangchainDocument],\n",
    "    tokenizer_name: Optional[str] = EMBEDDING_MODEL_NAME,\n",
    ") -> List[LangchainDocument]:\n",
    "    \"\"\"\n",
    "    Split documents into chunks of maximum size `chunk_size` tokens and return a list of documents.\n",
    "    \"\"\"\n",
    "    text_splitter = RecursiveCharacterTextSplitter.from_huggingface_tokenizer(\n",
    "        AutoTokenizer.from_pretrained(tokenizer_name),\n",
    "        chunk_size=chunk_size,\n",
    "        chunk_overlap=int(chunk_size / 10),\n",
    "        add_start_index=True,\n",
    "        strip_whitespace=True,\n",
    "        separators=MARKDOWN_SEPARATORS,\n",
    "    )\n",
    "\n",
    "    docs_processed = []\n",
    "    for doc in knowledge_base:\n",
    "        docs_processed += text_splitter.split_documents([doc])\n",
    "\n",
    "    # Remove duplicates\n",
    "    unique_texts = {}\n",
    "    docs_processed_unique = []\n",
    "    for doc in docs_processed:\n",
    "        if doc.page_content not in unique_texts:\n",
    "            unique_texts[doc.page_content] = True\n",
    "            docs_processed_unique.append(doc)\n",
    "\n",
    "    return docs_processed_unique\n",
    "\n",
    "\n",
    "docs_processed = split_documents(\n",
    "    512,  # We choose a chunk size adapted to our model\n",
    "    RAW_KNOWLEDGE_BASE,\n",
    "    tokenizer_name=EMBEDDING_MODEL_NAME,\n",
    ")\n",
    "\n",
    "# Let's visualize the chunk sizes we would have in tokens from a common model\n",
    "from transformers import AutoTokenizer\n",
    "\n",
    "tokenizer = AutoTokenizer.from_pretrained(EMBEDDING_MODEL_NAME)\n",
    "lengths = [len(tokenizer.encode(doc.page_content)) for doc in tqdm(docs_processed)]\n",
    "fig = pd.Series(lengths).hist()\n",
    "plt.title(\"Distribution of document lengths in the knowledge base (in count of tokens)\")\n",
    "plt.show()"
   ]
  },
  {
   "cell_type": "markdown",
   "metadata": {},
   "source": [
    "```\n",
    "Note à moi même:\n",
    "\n",
    "Voir pourquoi cette répartition, surement un problème de séparateurs. Améliorer ça.\n",
    "\n",
    "```"
   ]
  },
  {
   "cell_type": "markdown",
   "metadata": {},
   "source": [
    "## Building the vector database"
   ]
  },
  {
   "cell_type": "code",
   "execution_count": null,
   "metadata": {},
   "outputs": [],
   "source": [
    "from langchain.vectorstores import FAISS\n",
    "from langchain_community.embeddings import HuggingFaceEmbeddings\n",
    "from langchain_community.vectorstores.utils import DistanceStrategy\n",
    "\n",
    "embedding_model = HuggingFaceEmbeddings(\n",
    "    model_name=EMBEDDING_MODEL_NAME,\n",
    "    multi_process=True,\n",
    "    model_kwargs={\"device\": \"cpu\"},  # replace 'cpu' by 'cuda' if you have Nvidia gpu\n",
    "    encode_kwargs={\"normalize_embeddings\": True},  # Set `True` for cosine similarity\n",
    ")"
   ]
  },
  {
   "cell_type": "code",
   "execution_count": null,
   "metadata": {},
   "outputs": [],
   "source": [
    "# Compute embeddings (can take time ~7min on my laptop)\n",
    "KNOWLEDGE_VECTOR_DATABASE = FAISS.from_documents(\n",
    "    docs_processed, embedding_model, distance_strategy=DistanceStrategy.COSINE\n",
    ")"
   ]
  },
  {
   "cell_type": "code",
   "execution_count": 20,
   "metadata": {},
   "outputs": [],
   "source": [
    "# Save embeddings\n",
    "KNOWLEDGE_VECTOR_DATABASE.save_local(\"../outputs/rag_embeddings\")"
   ]
  },
  {
   "cell_type": "code",
   "execution_count": null,
   "metadata": {},
   "outputs": [],
   "source": [
    "# Load embeddings\n",
    "KNOWLEDGE_VECTOR_DATABASE = FAISS.load_local(\"rag_embeddings\", embedding_model, DistanceStrategy.COSINE)"
   ]
  },
  {
   "cell_type": "markdown",
   "metadata": {},
   "source": [
    "## Visualise embeddings"
   ]
  },
  {
   "cell_type": "markdown",
   "metadata": {},
   "source": []
  },
  {
   "cell_type": "markdown",
   "metadata": {},
   "source": [
    "## Try Retrieval"
   ]
  },
  {
   "cell_type": "code",
   "execution_count": 21,
   "metadata": {},
   "outputs": [],
   "source": [
    "user_query = \"You represent a client whose European patent has been opposed. The opposition division decides to maintain the patent in amended form. The invitation with the three-month time limit under Rule 82(2) EPC is sent on 16 August 2021, but proceedings are interrupted under Rule 142 EPC on 20 October 2021. The problems are resolved and the proceedings resume on 16 January 2022. When does the time limit under Rule 82(2)EPC end?\""
   ]
  },
  {
   "cell_type": "code",
   "execution_count": 26,
   "metadata": {},
   "outputs": [
    {
     "name": "stdout",
     "output_type": "stream",
     "text": [
      "\n",
      "Starting retrieval for user_query='You represent a client whose European patent has been opposed. The opposition division decides to maintain the patent in amended form. The invitation with the three-month time limit under Rule 82(2) EPC is sent on 16 August 2021, but proceedings are interrupted under Rule 142 EPC on 20 October 2021. The problems are resolved and the proceedings resume on 16 January 2022. When does the time limit under Rule 82(2)EPC end?'...\n",
      "\n",
      "========================== Retrieved Documents ==========================\n",
      "\n",
      "========================== Document 1 ==========================\n",
      "to the proceedings or a third party fails to comply with a time limit laid down in the EPC or fixed by the EPO, this will result in a loss of rights in certain cases specified in the EPC, without any decision concerning the refusal of the European patent application or the grant, revocation or maintenance of the European patent, or the taking of evidence. Rule 112\n",
      "\n",
      "========================== Metadata ==========================\n",
      "{'ref': 'Guidelines for Examination in the EPO, E-VIII, 1.9.1', 'url': 'https://www.epo.org/en/legal/guidelines-epc/2024/e_viii_1_9_1.html', 'start_index': 480}\n",
      "\n",
      "========================== Document 2 ==========================\n",
      "Legal basis Art 86 EPC, Rule 51 EPC, Art 141 EPC Due date of the renewal fee: 30 November 2023 = atier grant of the patent renewal fee must be paid to the national offices. Time limit: 2 months of publication of grant in the European Patent Bulletin: 8 January 2014\n",
      "\n",
      "========================== Metadata ==========================\n",
      "{'ref': '2023_EPAC_solution_mcq.json', 'start_index': 0}\n",
      "\n",
      "========================== Document 3 ==========================\n",
      "Title: EPC Rule 84. Content: Rule 84 FootnoteRef123 Continuation of the opposition proceedings by the European Patent Office of its own motion (1) If the European patent has been surrendered in all the designated Contracting States or has lapsed in all those States, the opposition proceedings may be continued at the request of the opponent filed within two months of a communication from the European Patent Office informing him of the surrender or lapse. (2) In the event of the death or legal incapacity of an opponent, the opposition proceedings may be continued by the European Patent Office\n",
      "\n",
      "========================== Metadata ==========================\n",
      "{'ref': 'EPC Rule 84', 'url': 'https://www.epo.org/en/legal/epc/2020/r84.html', 'start_index': 0}\n",
      "\n",
      "========================== Document 4 ==========================\n",
      "Title: EPC Article 108. Content: Article 108 FootnoteRef121 , FootnoteRef122 Time limit and form Notice of appeal shall be filed, in accordance with the Implementing Regulations, at the European Patent Office within two months of notification of the decision. Notice of appeal shall not be deemed to have been filed until the fee for appeal has been paid. Within four months of notification of the decision, a statement setting out the grounds of appeal shall be filed in accordance with the Implementing Regulations. FootnoteRef121 Amended by the Act revising the European Patent Convention of 29.11.2000.\n",
      "\n",
      "========================== Metadata ==========================\n",
      "{'ref': 'EPC Article 108', 'url': 'https://www.epo.org/en/legal/epc/2020/a108.html', 'start_index': 0}\n",
      "\n",
      "========================== Document 5 ==========================\n",
      "the EPO dated14 May 2021, OJ EPO 2021, A423 May 2023,OJ EPO 2023, A48). If subsequent documents relating to European patent applications are filed by fax, written confirmation reproducing the contents of those documents and complying with the requirements of the Implementing Regulations to the EPC must be supplied on invitation from the EPO within two months of the invitation's notification. If the applicant fails to comply with this request in time, the fax is deemed not to have been received (see the decision of the President of the EPO dated 20 February 2019,OJ EPO 2019, A18). Written confirmation is requested if the documents communicated\n",
      "\n",
      "========================== Metadata ==========================\n",
      "{'ref': 'Guidelines for Examination in the EPO, A-VIII, 2.5', 'url': 'https://www.epo.org/en/legal/guidelines-epc/2024/a_viii_2_5.html', 'start_index': 2233}\n"
     ]
    }
   ],
   "source": [
    "print(f\"\\nStarting retrieval for {user_query=}...\")\n",
    "retrieved_docs = KNOWLEDGE_VECTOR_DATABASE.similarity_search(query=user_query, k=5)\n",
    "print(\"\\n========================== Retrieved Documents ==========================\")\n",
    "for i, doc in enumerate(retrieved_docs, start=1):\n",
    "    print(f\"\\n========================== Document {i} ==========================\")\n",
    "    print(doc.page_content)\n",
    "    print(\"\\n========================== Metadata ==========================\")\n",
    "    print(doc.metadata)"
   ]
  }
 ],
 "metadata": {
  "kernelspec": {
   "display_name": ".venv",
   "language": "python",
   "name": "python3"
  },
  "language_info": {
   "codemirror_mode": {
    "name": "ipython",
    "version": 3
   },
   "file_extension": ".py",
   "mimetype": "text/x-python",
   "name": "python",
   "nbconvert_exporter": "python",
   "pygments_lexer": "ipython3",
   "version": "3.13.2"
  }
 },
 "nbformat": 4,
 "nbformat_minor": 2
}

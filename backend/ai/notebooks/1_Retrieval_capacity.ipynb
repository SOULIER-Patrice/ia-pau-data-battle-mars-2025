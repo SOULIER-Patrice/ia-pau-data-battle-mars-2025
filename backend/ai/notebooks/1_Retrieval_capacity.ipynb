{
 "cells": [
  {
   "cell_type": "markdown",
   "metadata": {},
   "source": [
    "# Tests retrieval capacity in our knowledge base\n",
    "\n",
    "Inspired by: https://huggingface.co/learn/cookbook/advanced_ragv"
   ]
  },
  {
   "cell_type": "markdown",
   "metadata": {},
   "source": [
    "## Imports"
   ]
  },
  {
   "cell_type": "code",
   "execution_count": null,
   "metadata": {},
   "outputs": [
    {
     "name": "stdout",
     "output_type": "stream",
     "text": [
      "\n",
      "\u001b[1m[\u001b[0m\u001b[34;49mnotice\u001b[0m\u001b[1;39;49m]\u001b[0m\u001b[39;49m A new release of pip is available: \u001b[0m\u001b[31;49m24.3.1\u001b[0m\u001b[39;49m -> \u001b[0m\u001b[32;49m25.0.1\u001b[0m\n",
      "\u001b[1m[\u001b[0m\u001b[34;49mnotice\u001b[0m\u001b[1;39;49m]\u001b[0m\u001b[39;49m To update, run: \u001b[0m\u001b[32;49mpip install --upgrade pip\u001b[0m\n"
     ]
    }
   ],
   "source": [
    "!pip install -q torch transformers accelerate bitsandbytes langchain sentence-transformers faiss-cpu openpyxl pacmap datasets langchain-community matplotlib ipywidgets plotly nbformat"
   ]
  },
  {
   "cell_type": "code",
   "execution_count": 3,
   "metadata": {},
   "outputs": [],
   "source": [
    "from tqdm.notebook import tqdm\n",
    "import pandas as pd\n",
    "from typing import Optional, List, Tuple\n",
    "from datasets import Dataset\n",
    "import matplotlib.pyplot as plt\n",
    "import glob\n",
    "import json\n",
    "import os\n",
    "from langchain.docstore.document import Document as LangchainDocument\n",
    "from langchain.text_splitter import RecursiveCharacterTextSplitter\n",
    "from transformers import AutoTokenizer\n",
    "from langchain.vectorstores import FAISS\n",
    "from langchain_community.embeddings import HuggingFaceEmbeddings\n",
    "from langchain_community.vectorstores.utils import DistanceStrategy\n",
    "\n",
    "pd.set_option(\"display.max_colwidth\", None)  # This will be helpful when visualizing retriever outputs"
   ]
  },
  {
   "cell_type": "markdown",
   "metadata": {},
   "source": [
    "## Load our knowledge base"
   ]
  },
  {
   "cell_type": "code",
   "execution_count": 2,
   "metadata": {},
   "outputs": [],
   "source": [
    "# Define data folder\n",
    "data_folder = \"../outputs/\""
   ]
  },
  {
   "cell_type": "markdown",
   "metadata": {},
   "source": [
    "### Official legal publication\n",
    "\n",
    "We add to our context:\n",
    "- EPC_guidelines\n",
    "- EPC Articles and Rules\n",
    "- PCT Articles and Rules\n",
    "- Case Laws"
   ]
  },
  {
   "cell_type": "code",
   "execution_count": 6,
   "metadata": {},
   "outputs": [
    {
     "data": {
      "application/vnd.jupyter.widget-view+json": {
       "model_id": "398addf6bb114ce18dde9bf8f38e6018",
       "version_major": 2,
       "version_minor": 0
      },
      "text/plain": [
       "  0%|          | 0/4275 [00:00<?, ?it/s]"
      ]
     },
     "metadata": {},
     "output_type": "display_data"
    }
   ],
   "source": [
    "# Load all CSV\n",
    "csv_files = glob.glob(f\"{data_folder}/*.csv\")\n",
    "df_list = [pd.read_csv(file) for file in csv_files]\n",
    "df = pd.concat(df_list, ignore_index=True) if df_list else pd.DataFrame(columns=[\"ref\", \"url\", \"content\"])\n",
    "\n",
    "# List of documents for LangChain\n",
    "csv_documents = [\n",
    "    LangchainDocument(page_content=row[\"content\"], metadata={\"ref\": row[\"ref\"], \"url\": row[\"url\"]})\n",
    "    for _, row in tqdm(df.iterrows(), total=len(df))\n",
    "]"
   ]
  },
  {
   "cell_type": "code",
   "execution_count": 7,
   "metadata": {},
   "outputs": [],
   "source": [
    "# To visualize\n",
    "# csv_documents"
   ]
  },
  {
   "cell_type": "markdown",
   "metadata": {},
   "source": [
    "### Solutions to exam questions"
   ]
  },
  {
   "cell_type": "code",
   "execution_count": 18,
   "metadata": {},
   "outputs": [],
   "source": [
    "# Load JSON with \"solution\" in their name\n",
    "json_files = glob.glob(f\"{data_folder}/*solution*.json\")\n",
    "\n",
    "json_documents = []\n",
    "for file in json_files:\n",
    "    with open(file, \"r\", encoding=\"utf-8\") as f:\n",
    "        data = json.load(f)\n",
    "    \n",
    "    # Extract justification and create Langchain documents\n",
    "    filename = os.path.basename(file)  # Nom du fichier sans le chemin\n",
    "\n",
    "    # Si le fichier contient \"open\" dans son nom, on récupère tout\n",
    "    if \"open\" in filename:\n",
    "        for key, entry in data.items():\n",
    "            json_documents.append(\n",
    "                LangchainDocument(\n",
    "                    page_content=entry,\n",
    "                    metadata={\"ref\": filename}\n",
    "                )\n",
    "            )\n",
    "        \n",
    "    else:\n",
    "        for key, entry in data.items():\n",
    "            if \"Justification\" in entry:\n",
    "                json_documents.append(\n",
    "                    LangchainDocument(\n",
    "                        page_content=entry[\"Justification\"],\n",
    "                        metadata={\"ref\": filename}  # ref = Nom du fichier\n",
    "                    )\n",
    "                )"
   ]
  },
  {
   "cell_type": "code",
   "execution_count": 23,
   "metadata": {},
   "outputs": [],
   "source": [
    "# To visualize\n",
    "# json_documents"
   ]
  },
  {
   "cell_type": "markdown",
   "metadata": {},
   "source": [
    "### Fusion of our knowledge"
   ]
  },
  {
   "cell_type": "code",
   "execution_count": 20,
   "metadata": {},
   "outputs": [
    {
     "name": "stdout",
     "output_type": "stream",
     "text": [
      "Total of documents loading : 4341\n"
     ]
    }
   ],
   "source": [
    "# Fusionner les données des CSV et JSON\n",
    "RAW_KNOWLEDGE_BASE = csv_documents + json_documents\n",
    "\n",
    "print(f\"Total of documents loading : {len(RAW_KNOWLEDGE_BASE)}\")"
   ]
  },
  {
   "cell_type": "markdown",
   "metadata": {},
   "source": [
    "## Split documents into chunck"
   ]
  },
  {
   "cell_type": "code",
   "execution_count": 21,
   "metadata": {},
   "outputs": [
    {
     "data": {
      "application/vnd.jupyter.widget-view+json": {
       "model_id": "1350c563751144a8a633776e0961eb76",
       "version_major": 2,
       "version_minor": 0
      },
      "text/plain": [
       "  0%|          | 0/6883 [00:00<?, ?it/s]"
      ]
     },
     "metadata": {},
     "output_type": "display_data"
    },
    {
     "data": {
      "image/png": "[encoded data removed]",
      "text/plain": [
       "<Figure size 640x480 with 1 Axes>"
      ]
     },
     "metadata": {},
     "output_type": "display_data"
    }
   ],
   "source": [
    "EMBEDDING_MODEL_NAME = \"thenlper/gte-small\"\n",
    "\n",
    "MARKDOWN_SEPARATORS = [\n",
    "    \"\\n\\n\",\n",
    "    \"\\n\",\n",
    "    \".\",\n",
    "    \" \",\n",
    "    \"\",\n",
    "]\n",
    "\n",
    "def split_documents(\n",
    "    chunk_size: int,\n",
    "    knowledge_base: List[LangchainDocument],\n",
    "    tokenizer_name: Optional[str] = EMBEDDING_MODEL_NAME,\n",
    ") -> List[LangchainDocument]:\n",
    "    \"\"\"\n",
    "    Split documents into chunks of maximum size `chunk_size` tokens and return a list of documents.\n",
    "    \"\"\"\n",
    "    text_splitter = RecursiveCharacterTextSplitter.from_huggingface_tokenizer(\n",
    "        AutoTokenizer.from_pretrained(tokenizer_name),\n",
    "        chunk_size=chunk_size,\n",
    "        chunk_overlap=int(chunk_size / 10),\n",
    "        add_start_index=True,\n",
    "        strip_whitespace=True,\n",
    "        separators=MARKDOWN_SEPARATORS,\n",
    "    )\n",
    "\n",
    "    docs_processed = []\n",
    "    for doc in knowledge_base:\n",
    "        docs_processed += text_splitter.split_documents([doc])\n",
    "\n",
    "    # Remove duplicates\n",
    "    unique_texts = {}\n",
    "    docs_processed_unique = []\n",
    "    for doc in docs_processed:\n",
    "        if doc.page_content not in unique_texts:\n",
    "            unique_texts[doc.page_content] = True\n",
    "            docs_processed_unique.append(doc)\n",
    "\n",
    "    return docs_processed_unique\n",
    "\n",
    "\n",
    "docs_processed = split_documents(\n",
    "    512,  # We choose a chunk size adapted to our model\n",
    "    RAW_KNOWLEDGE_BASE,\n",
    "    tokenizer_name=EMBEDDING_MODEL_NAME,\n",
    ")\n",
    "\n",
    "# Let's visualize the chunk sizes we would have in tokens from a common model\n",
    "from transformers import AutoTokenizer\n",
    "\n",
    "tokenizer = AutoTokenizer.from_pretrained(EMBEDDING_MODEL_NAME)\n",
    "lengths = [len(tokenizer.encode(doc.page_content)) for doc in tqdm(docs_processed)]\n",
    "fig = pd.Series(lengths).hist()\n",
    "plt.title(\"Distribution of document lengths in the knowledge base (in count of tokens)\")\n",
    "plt.show()"
   ]
  },
  {
   "cell_type": "markdown",
   "metadata": {},
   "source": [
    "## Building the vector database"
   ]
  },
  {
   "cell_type": "code",
   "execution_count": null,
   "metadata": {},
   "outputs": [],
   "source": [
    "embedding_model = HuggingFaceEmbeddings(\n",
    "    model_name=EMBEDDING_MODEL_NAME,\n",
    "    multi_process=True,\n",
    "    model_kwargs={\"device\": \"cpu\"},  # replace 'cpu' by 'cuda' if you have Nvidia gpu\n",
    "    encode_kwargs={\"normalize_embeddings\": True},  # Set `True` for cosine similarity\n",
    ")"
   ]
  },
  {
   "cell_type": "code",
   "execution_count": 25,
   "metadata": {},
   "outputs": [],
   "source": [
    "# Compute embeddings (can take time ~7min on my laptop)\n",
    "KNOWLEDGE_VECTOR_DATABASE = FAISS.from_documents(\n",
    "    docs_processed, embedding_model, distance_strategy=DistanceStrategy.COSINE\n",
    ")"
   ]
  },
  {
   "cell_type": "code",
   "execution_count": 26,
   "metadata": {},
   "outputs": [],
   "source": [
    "# Save embeddings\n",
    "KNOWLEDGE_VECTOR_DATABASE.save_local(\"../outputs/rag_embeddings_thenlper_gte-small\")"
   ]
  },
  {
   "cell_type": "code",
   "execution_count": null,
   "metadata": {},
   "outputs": [],
   "source": [
    "# Load embeddings\n",
    "KNOWLEDGE_VECTOR_DATABASE = FAISS.load_local(\"../outputs/rag_embeddings_thenlper_gte-small\", embedding_model, allow_dangerous_deserialization=True)"
   ]
  },
  {
   "cell_type": "markdown",
   "metadata": {},
   "source": [
    "## Embeddings vizualisation\n",
    "\n",
    "Not implemented yet."
   ]
  },
  {
   "cell_type": "markdown",
   "metadata": {},
   "source": [
    "## Try Retrieval"
   ]
  },
  {
   "cell_type": "code",
   "execution_count": 5,
   "metadata": {},
   "outputs": [
    {
     "name": "stderr",
     "output_type": "stream",
     "text": [
      "/tmp/ipykernel_738197/628335862.py:5: LangChainDeprecationWarning: The class `HuggingFaceEmbeddings` was deprecated in LangChain 0.2.2 and will be removed in 1.0. An updated version of the class exists in the :class:`~langchain-huggingface package and should be used instead. To use it run `pip install -U :class:`~langchain-huggingface` and import as `from :class:`~langchain_huggingface import HuggingFaceEmbeddings``.\n",
      "  embedding_model = HuggingFaceEmbeddings(\n"
     ]
    }
   ],
   "source": [
    "# Load embeddings\n",
    "\n",
    "EMBEDDING_MODEL_NAME = \"thenlper/gte-small\"\n",
    "\n",
    "embedding_model = HuggingFaceEmbeddings(\n",
    "    model_name=EMBEDDING_MODEL_NAME,\n",
    "    multi_process=True,\n",
    "    model_kwargs={\"device\": \"cpu\"},  # replace 'cpu' by 'cuda' if you have Nvidia gpu\n",
    "    encode_kwargs={\"normalize_embeddings\": True},  # Set `True` for cosine similarity\n",
    ")\n",
    "\n",
    "\n",
    "KNOWLEDGE_VECTOR_DATABASE = FAISS.load_local(\"../outputs/rag_embeddings_thenlper_gte-small\", embedding_model, allow_dangerous_deserialization=True)"
   ]
  },
  {
   "cell_type": "code",
   "execution_count": 7,
   "metadata": {},
   "outputs": [
    {
     "data": {
      "text/plain": [
       "'\\nThe correct answer is C.\\n\\nA sub-licence can only be recorded in the European Patent Register if it is granted by a licensee whose licence is recorded in \\nthe Register (Rule 24(b) EPC, implementing Article 73 EPC).\\n'"
      ]
     },
     "execution_count": 7,
     "metadata": {},
     "output_type": "execute_result"
    }
   ],
   "source": [
    "user_query = \"\"\"Your Client, A Inc, is a sub-licensee under European patent application EP-1. Can the sub-licence be recorded in the European Patent Register?\n",
    " \n",
    "A    No, it is not possible to record sub-licences in the European Patent Register.\n",
    " \n",
    "B    Yes, any sub-licence can be recorded in the European Patent Register.\n",
    " \n",
    "C    Yes, provided the licensee granting the sub-licence has recorded its licence in the European Patent Register.\n",
    "\"\"\"\n",
    "\n",
    "# Correct answer\n",
    "\"\"\"\n",
    "The correct answer is C.\n",
    " \n",
    "A sub-licence can only be recorded in the European Patent Register if it is granted by a licensee whose licence is recorded in \n",
    "the Register (Rule 24(b) EPC, implementing Article 73 EPC).\n",
    "\"\"\""
   ]
  },
  {
   "cell_type": "code",
   "execution_count": 29,
   "metadata": {},
   "outputs": [
    {
     "name": "stdout",
     "output_type": "stream",
     "text": [
      "\n",
      "Starting retrieval for user_query='Your Client, A Inc, is a sub-licensee under European patent application EP-1. Can the sub-licence be recorded in the European Patent Register?\\n\\nA    No, it is not possible to record sub-licences in the European Patent Register.\\n\\nB    Yes, any sub-licence can be recorded in the European Patent Register.\\n\\nC    Yes, provided the licensee granting the sub-licence has recorded its licence in the European Patent Register.\\n'...\n",
      "\n",
      "========================== Retrieved Documents ==========================\n",
      "\n",
      "========================== Document 1 ==========================\n",
      "\n",
      "========================== Metadata ==========================\n",
      "{'ref': 'EPC Rule 24', 'url': 'https://www.epo.org/en/legal/epc/2020/r24.html', 'start_index': 0}\n",
      "\n",
      "========================== Document 2 ==========================\n",
      "\n",
      "========================== Metadata ==========================\n",
      "{'ref': 'Guidelines for Examination in the EPO, E-XIV, 6.1', 'url': 'https://www.epo.org/en/legal/guidelines-epc/2024/e_xiv_6_1.html', 'start_index': 0}\n",
      "\n",
      "========================== Document 3 ==========================\n",
      "\n",
      "========================== Metadata ==========================\n",
      "{'ref': 'Case Law III, M.2.3', 'url': 'https://www.epo.org/en/legal/case-law/2022/clr_iii_m_2_3.html', 'start_index': -1}\n",
      "\n",
      "========================== Document 4 ==========================\n",
      "\n",
      "========================== Metadata ==========================\n",
      "{'ref': 'EPC Article 73', 'url': 'https://www.epo.org/en/legal/epc/2020/a73.html', 'start_index': 0}\n",
      "\n",
      "========================== Document 5 ==========================\n",
      "\n",
      "========================== Metadata ==========================\n",
      "{'ref': 'EPC Article 127', 'url': 'https://www.epo.org/en/legal/epc/2020/a127.html', 'start_index': 0}\n"
     ]
    }
   ],
   "source": [
    "print(f\"\\nStarting retrieval for {user_query=}...\")\n",
    "retrieved_docs = KNOWLEDGE_VECTOR_DATABASE.similarity_search(query=user_query, k=5)\n",
    "print(\"\\n========================== Retrieved Documents ==========================\")\n",
    "for i, doc in enumerate(retrieved_docs, start=1):\n",
    "    print(f\"\\n========================== Document {i} ==========================\")\n",
    "    # print(doc.page_content)\n",
    "    print(\"\\n========================== Metadata ==========================\")\n",
    "    print(doc.metadata)"
   ]
  }
 ],
 "metadata": {
  "kernelspec": {
   "display_name": ".venv",
   "language": "python",
   "name": "python3"
  },
  "language_info": {
   "codemirror_mode": {
    "name": "ipython",
    "version": 3
   },
   "file_extension": ".py",
   "mimetype": "text/x-python",
   "name": "python",
   "nbconvert_exporter": "python",
   "pygments_lexer": "ipython3",
   "version": "3.13.2"
  }
 },
 "nbformat": 4,
 "nbformat_minor": 2
}

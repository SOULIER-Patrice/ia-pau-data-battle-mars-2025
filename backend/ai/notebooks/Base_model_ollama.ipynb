{
 "cells": [
  {
   "cell_type": "markdown",
   "metadata": {},
   "source": [
    "# All endpoints for model v1"
   ]
  },
  {
   "cell_type": "markdown",
   "metadata": {},
   "source": [
    "## Imports"
   ]
  },
  {
   "cell_type": "code",
   "execution_count": 7,
   "metadata": {},
   "outputs": [],
   "source": [
    "# !pip install ollama"
   ]
  },
  {
   "cell_type": "code",
   "execution_count": 10,
   "metadata": {},
   "outputs": [],
   "source": [
    "import json\n",
    "import os\n",
    "from langchain.vectorstores import FAISS\n",
    "from langchain_community.embeddings import HuggingFaceEmbeddings\n",
    "import ollama\n",
    "from ollama import chat\n",
    "from ollama import ChatResponse"
   ]
  },
  {
   "cell_type": "code",
   "execution_count": null,
   "metadata": {},
   "outputs": [],
   "source": [
    "MODEL = 'qwen2.5:7b'"
   ]
  },
  {
   "cell_type": "markdown",
   "metadata": {},
   "source": [
    "## Fake functions using BDD for tests"
   ]
  },
  {
   "cell_type": "code",
   "execution_count": 14,
   "metadata": {},
   "outputs": [],
   "source": [
    "# In this example the 3 questions were not from the same subcategory\n",
    "# I let you write this function MAGB\n",
    "\n",
    "def get_random_questions_from_subcategory(subcategory, type, k=3):\n",
    "    \"\"\" \n",
    "    Get k random questions verified from subcategory from a specific type in our database.\n",
    "\n",
    "    Parameters:\n",
    "    subcatecory (str): Subcategory name. \n",
    "    type (int): Type is MCQ or Open question.\n",
    "    k (int): Number of questions to return.\n",
    "\n",
    "    Returns:\n",
    "    str: The k questions.\n",
    "    \"\"\"\n",
    "\n",
    "    if type == 'MCQ':\n",
    "        pass\n",
    "    elif type == 'Open':\n",
    "        # 2024 EPAC Open the first 3\n",
    "        q1 = \" International application WO -X was filed at the EPO on 27 August 2024. No fees have been paid.  1. What fees are due on filing for WO -X? Fee amounts need not be mentioned. 2. What is the time limit for paying these fees? 3. What happens if these fees are not paid within the time limit, and what can you do about it?\"\n",
    "        q2 = \" On 25  October 2019, the Spanish University Isabel  II and the company Tomato Matters filed a European patent application in Spanish, accompanied by a translation into English. Tomato Matters employs more than 260 employees.  The University Isabel  II has filed two patent applications with the EPO over the past five years. On 10 October 2024, Tomato Matters transfers its rights to Naranjas Navel , a company which employs 9 members of staff and whose annual turnover is EUR  1 million. Naranjas Navel has never filed any patent applications with the EPO.  In a communication from the EPO under Rule 71(3) EPC dated 10 October 2024, the name of the applicants is given as: Isabe  III (clerical error) and Tomato Matters.  1. What has to be done to obtain a Unitary Patent as soon as possible for Isabel  II and Naranjas Navel? Is it possible to benefit from the compensation scheme?  Please list the necessary steps at minimum cost. You should identify the fees that have to be paid, but you do not need to specify their amounts.  2. Let us now suppose that the request for unitary effect has been refused. What is the time limit for lodging  an application to reverse this  decision, and to whom should the application be addressed? \"\n",
    "        q3 = \" In March 2018, a European patent application was filed in French. A European patent was granted in June 2023. Unitary effect has been registered and the proprietor has filed a statement concerning licences of right. The patent has also been validated in Sp ain and in Croatia; the European patent is still in force in these states.  The proprietor filed a request for limitation of the patent. The examining division has issued an interlocutory decision, indicating that the patent with amended claims and an amended description meets the requirements of the EPC. The mention of the limita tion will be published in the last European Patent Bulletin of 2024.  1. To maintain the existing patents, what translations must be filed, at which offices? 2. Do any fees have to be paid? Fee amounts need not be mentioned. \"\n",
    "    \n",
    "    print(f'{q1}\\n{q2}\\n{q3}')\n",
    "    return f'{q1}\\n{q2}\\n{q3}'"
   ]
  },
  {
   "cell_type": "markdown",
   "metadata": {},
   "source": [
    "## *get_context*"
   ]
  },
  {
   "cell_type": "code",
   "execution_count": 13,
   "metadata": {},
   "outputs": [],
   "source": [
    "EMBEDDING_MODEL_NAME = \"thenlper/gte-small\"\n",
    "def get_context(query, k=5):\n",
    "    \"\"\" \n",
    "    Retrieves relevant context for a given query.\n",
    "\n",
    "    Parameters:\n",
    "    query (str): The input query for which context is needed.\n",
    "    k (int, optional): The number of relevant context elements to retrieve (default is 5).\n",
    "\n",
    "    Returns:\n",
    "    list: A list containing relevant context elements.\n",
    "    \"\"\"\n",
    "\n",
    "    # Load embeddings\n",
    "    embedding_model = HuggingFaceEmbeddings(\n",
    "        model_name=EMBEDDING_MODEL_NAME,\n",
    "        multi_process=True,\n",
    "        model_kwargs={\"device\": \"cpu\"},  # replace 'cpu' by 'cuda' if you have Nvidia gpu\n",
    "        encode_kwargs={\"normalize_embeddings\": True},  # Set `True` for cosine similarity\n",
    "    )\n",
    "    KNOWLEDGE_VECTOR_DATABASE = FAISS.load_local(\"../outputs/rag_embeddings_thenlper_gte-small\", embedding_model, allow_dangerous_deserialization=True)\n",
    "\n",
    "    # Retrieve docs\n",
    "    # print(f\"\\nStarting retrieval for {query=}...\")\n",
    "    retrieved_docs = KNOWLEDGE_VECTOR_DATABASE.similarity_search(query=query, k=k)\n",
    "\n",
    "    return retrieved_docs"
   ]
  },
  {
   "cell_type": "markdown",
   "metadata": {},
   "source": [
    "## *generate_mcq*  (Not working)\n",
    "\n",
    "Ce qu'on peut faire c'est dans le prompt donner la forme du json attendu.\n",
    "et avec une fonction python on vérifie si dans le str renvoyé par le modèle on a un json conforme qui à bien les params qu'on attend c'est a dire un str en 'question' et une liste de taille >=2 en 'options'. \n",
    "Si c'est pas le cas on boucle sur le llm avec un prompt corrige ce json et quand il est bon on le renvoie.\n",
    "C'est comme un agent sauf qu'on est certain que le json sera fonctionnel à la fin car on aura fait le nombre d'itération necessaire sans halluciner.\n",
    "\n",
    "- Réecrire prompt\n",
    "- Essayer de contraindre sortie en json"
   ]
  },
  {
   "cell_type": "code",
   "execution_count": null,
   "metadata": {},
   "outputs": [],
   "source": [
    "def generate_mcq(subcategory):\n",
    "    \"\"\"\n",
    "    Generates an MCQ question.\n",
    "\n",
    "    Parameters:\n",
    "    subcatecory (str): Subcategory name.\n",
    "\n",
    "    Returns:\n",
    "    question (dict): {'question': '...',\n",
    "                      'options': ['A ....', 'B ...', ...]}\n",
    "    \"\"\"\n",
    "\n",
    "    # Build prompt\n",
    "    prompt_in_chat_format = [\n",
    "        {\n",
    "            \"role\": \"system\",\n",
    "            \"content\": \"\"\"\n",
    "            \"\"\",\n",
    "        },\n",
    "        {\n",
    "            \"role\": \"user\",\n",
    "            \"content\": \"\"\"Context:  \n",
    "        {context}  \n",
    "        ---  \n",
    "        Given the following questions:  \n",
    "        {existing_questions}  \n",
    "\n",
    "        Generate a new question that follows the same format and is correct based on the context.\"\"\",\n",
    "        }\n",
    "    ]\n",
    "\n",
    "\n",
    "    RAG_PROMPT_TEMPLATE = tokenizer.apply_chat_template(prompt_in_chat_format, tokenize=False, add_generation_prompt=True)\n",
    "    \n",
    "    # Get questions\n",
    "    questions = get_random_questions_from_subcategory(subcategory=subcategory, type='MCQ', k=3)\n",
    "\n",
    "    # Retrieve context\n",
    "    retrieved_docs = get_context(questions, k=5)\n",
    "    context = \"\\nExtracted documents:\\n\"\n",
    "    context += \"\".join([f'Content: {doc.page_content} \\nSource: {doc.metadata['ref']}\\n\\n' for i, doc in enumerate(retrieved_docs)])\n",
    "    context_sources = \"\".join([f'\\nSource: {doc.metadata['ref']}, Url: {doc.metadata.get('url', 'N/A')}' for i, doc in enumerate(retrieved_docs)])\n",
    "\n",
    "    # Add context to prompt\n",
    "    final_prompt = RAG_PROMPT_TEMPLATE.format(existing_questions=questions, context=context)\n",
    "    \n",
    "    # Redact an answer\n",
    "    new_question = READER_LLM(final_prompt)[0][\"generated_text\"]\n",
    "\n",
    "    return new_question, questions, context_sources"
   ]
  },
  {
   "cell_type": "markdown",
   "metadata": {},
   "source": [
    "## *generate_mcq_answer* (Not working)"
   ]
  },
  {
   "cell_type": "markdown",
   "metadata": {},
   "source": [
    "## *generate_open*"
   ]
  },
  {
   "cell_type": "code",
   "execution_count": null,
   "metadata": {},
   "outputs": [],
   "source": [
    "def generate_open(subcategory):\n",
    "    \"\"\"\n",
    "    Generates an Open question.\n",
    "\n",
    "    Parameters:\n",
    "    subcatecory (str): Subcategory name.\n",
    "\n",
    "    Returns:\n",
    "    question (str): The new question.\n",
    "    \"\"\"\n",
    "    \n",
    "    # Get questions\n",
    "    questions = get_random_questions_from_subcategory(subcategory=subcategory, type='Open', k=3)\n",
    "\n",
    "    # Retrieve context\n",
    "    retrieved_docs = get_context(questions, k=5)\n",
    "    context = \"\\nExtracted documents:\\n\"\n",
    "    context += \"\".join([f'Content: {doc.page_content} \\nSource: {doc.metadata['ref']}\\n\\n' for i, doc in enumerate(retrieved_docs)])\n",
    "    # context_sources = \"\".join([f'\\nSource: {doc.metadata['ref']}, Url: {doc.metadata.get('url', 'N/A')}' for i, doc in enumerate(retrieved_docs)])\n",
    "\n",
    "\n",
    "    # Build prompt\n",
    "    SYSTEM_PROMPT = f\"\"\"\n",
    "    You are given a list of questions and a context extracted from those questions. Your task is to generate a new question that matches the style and structure of the given questions while ensuring that it is correct and relevant to the provided context.  \n",
    "            **Instructions:**\n",
    "            - The new question must be coherent with the other questions in terms of phrasing, complexity, and format.\n",
    "            - Ensure that the new question can be answered using the provided context.\n",
    "            - Do not introduce any information that is not supported by the context.\n",
    "            - If the context does not allow for a new relevant question, state: \"A new relevant question cannot be generated based on the given context.\"\n",
    "            - Output **only** the new question, with no explanations, formatting, or additional text.\n",
    "    \"\"\"\n",
    "    \n",
    "    user_prompt = f\"\"\"\n",
    "    Context:\n",
    "    {context}\n",
    "\n",
    "    Given the following questions: \n",
    "    {questions}\n",
    "\n",
    "    Generate a new question that follows the same format and is correct based on the context.\n",
    "    \"\"\"\n",
    "\n",
    "    # Redact an answer\n",
    "    response = chat(model=MODEL,\n",
    "                       messages=[\n",
    "                           {\n",
    "                               \"role\":\"system\",\n",
    "                               \"content\":SYSTEM_PROMPT,\n",
    "                           },\n",
    "                           {\"role\":\"user\",\"content\":user_prompt},\n",
    "                       ],\n",
    "                      )\n",
    "\n",
    "    return response"
   ]
  },
  {
   "cell_type": "markdown",
   "metadata": {},
   "source": [
    "## *generate_open_answer*"
   ]
  },
  {
   "cell_type": "code",
   "execution_count": null,
   "metadata": {},
   "outputs": [],
   "source": [
    "def generate_open_answer(question):\n",
    "    \"\"\"\n",
    "    Generates an answer to a given open question.\n",
    "\n",
    "    Parameters:\n",
    "    question (str): The input question for which an answer is needed.\n",
    "\n",
    "    Returns:\n",
    "    answer (str): The generated response from the AI with the context used.\n",
    "    \"\"\"\n",
    "\n",
    "\n",
    "    # Retrieve context\n",
    "    retrieved_docs = get_context(question)\n",
    "    context = \"\\nExtracted documents:\\n\"\n",
    "    context += \"\".join([f'Content: {doc.page_content}\\nSource: {doc.metadata['ref']}\\n' for i, doc in enumerate(retrieved_docs)])\n",
    "    context_sources = \"\".join([f'\\nSource: {doc.metadata['ref']}, Url: {doc.metadata.get('url', 'N/A')}' for i, doc in enumerate(retrieved_docs)])\n",
    "\n",
    "\n",
    "    # Build prompt\n",
    "    SYSTEM_PROMPT = f\"\"\"Use only the information contained in the provided context to generate a precise and relevant answer to the given question.  \n",
    "        \n",
    "        **General Rules:**\n",
    "        - Answer concisely and directly to the question.  \n",
    "        - If the answer requires choosing from multiple options, explicitly state the correct answer.  \n",
    "        - Always cite the sources used and explain their relevance to the answer.  \n",
    "        - If the answer cannot be deduced from the context, explicitly state that it cannot be answered.  \n",
    "\n",
    "        **For Multiple Choice Questions (MCQs):**  \n",
    "        - Start your response with: **\"The correct answer is: [option]\"** (e.g., \"The correct answer is: A.\")  \n",
    "        - Explain why this option is correct based on the provided context.  \n",
    "        - Briefly justify why the other options are incorrect, if possible.  \n",
    "        \n",
    "        **Example of response format:**  \n",
    "        - **The correct answer is: [option]**  \n",
    "        - **Justification:** (Explain why this answer is correct, citing sources)  \n",
    "        - **Why other options are incorrect:** (Briefly explain why the other options do not apply)  \n",
    "\n",
    "        If the question is not a multiple-choice question, provide a direct and structured answer.  \n",
    "    \"\"\"\n",
    "    \n",
    "    user_prompt = f\"\"\"\n",
    "    Context:  \n",
    "    {context}  \n",
    "    ---  \n",
    "    Now, answer the following question.  \n",
    "\n",
    "    **Question:** {question}\n",
    "    \"\"\"\n",
    "\n",
    "    # Redact an answer\n",
    "    answer = chat(model=MODEL,\n",
    "                       messages=[\n",
    "                           {\n",
    "                               \"role\":\"system\",\n",
    "                               \"content\":SYSTEM_PROMPT,\n",
    "                           },\n",
    "                           {\"role\":\"user\",\"content\":user_prompt},\n",
    "                       ],\n",
    "                      )\n",
    "\n",
    "\n",
    "    # Assemble answer and context_sources\n",
    "    final_answer = f'Answer:\\n{answer}\\n\\nSources:{context_sources}'\n",
    "\n",
    "    return final_answer"
   ]
  },
  {
   "cell_type": "markdown",
   "metadata": {},
   "source": [
    "## *generate_feedback*"
   ]
  },
  {
   "cell_type": "code",
   "execution_count": null,
   "metadata": {},
   "outputs": [],
   "source": [
    "def generate_feedback(ai_question, ai_answer, user_answer):\n",
    "    \"\"\"\n",
    "    Generates an AI-generated feedback on the user_answer. \n",
    "    The ai_question and ai_answer were generated before. When we gave an ai_question to an user,\n",
    "    we also take the ai_answer. So when the user answer, we can give all, ai_question, ai_answer (the correct one), \n",
    "    and user_answer to give a feedback to the user.\n",
    "\n",
    "    Parameters:\n",
    "    ai_question (str): The question generated by AI.\n",
    "    ai_answer (str): The correct answer.\n",
    "    user_answer (str): The user answer.\n",
    "\n",
    "    Returns:\n",
    "    feedback (str): The correct answer and the explaination why the user is wrong including the context.\n",
    "    \"\"\"\n",
    "\n",
    "\n",
    "    # Retrieve context\n",
    "    ai_question_context = get_context(ai_question, k=3)\n",
    "    ai_answer_context = get_context(ai_answer, k=3)\n",
    "    user_answer_context = get_context(user_answer, k=3)\n",
    "    # Combine all retrieved contexts\n",
    "    all_contexts = ai_question_context + ai_answer_context + user_answer_context\n",
    "    context = \"\\nExtracted documents:\\n\"\n",
    "    context += \"\".join([f'Content: {doc.page_content} \\nSource: {doc.metadata['ref']}\\n\\n' for i, doc in enumerate(all_contexts)])\n",
    "    context_sources = \"\".join([f'\\nSource: {doc.metadata['ref']}, Url: {doc.metadata.get('url', 'N/A')}' for i, doc in enumerate(all_contexts)])\n",
    "\n",
    "    # Build prompt\n",
    "    SYSTEM_PROMPT = f\"\"\"You are given a question, a correct answer, and a user-provided answer, along with relevant context. Your task is to evaluate the user's answer and provide feedback explaining any errors.  \n",
    "\n",
    "            **Instructions:**\n",
    "            - Compare the user's answer with the correct answer and identify any inaccuracies.\n",
    "            - If the user uses incorrect references, explain why they are wrong and provide the correct information.\n",
    "            - Highlight any misunderstandings or misinterpretations the user may have made.\n",
    "            - If the user's answer is correct, acknowledge it and confirm why it is valid.\n",
    "            - Ensure your feedback is clear, concise, and instructional.\n",
    "    \"\"\"\n",
    "    \n",
    "    user_prompt = f\"\"\"Context:  \n",
    "        {context}  \n",
    "        ---  \n",
    "        **Question:** {ai_question}  \n",
    "        **Correct Answer:** {ai_answer}  \n",
    "        **User's Answer:** {user_answer}  \n",
    "\n",
    "        Provide feedback explaining any errors in the user's answer and clarify why it is incorrect, referencing the provided context where necessary.\n",
    "    \"\"\"\n",
    "\n",
    "    # Redact an answer\n",
    "    feedback = chat(model=MODEL,\n",
    "                       messages=[\n",
    "                           {\n",
    "                               \"role\":\"system\",\n",
    "                               \"content\":SYSTEM_PROMPT,\n",
    "                           },\n",
    "                           {\"role\":\"user\",\"content\":user_prompt},\n",
    "                       ],\n",
    "                      )\n",
    "\n",
    "    # Assemble final answer\n",
    "    final_answer = f'Feedback:\\n{feedback}\\n\\nContext:{context_sources}'\n",
    "\n",
    "    return final_answer"
   ]
  },
  {
   "cell_type": "markdown",
   "metadata": {},
   "source": [
    "## *chat_with_ai*"
   ]
  },
  {
   "cell_type": "code",
   "execution_count": null,
   "metadata": {},
   "outputs": [],
   "source": [
    "def chat_with_ai(conversation_history, user_message):\n",
    "    \"\"\"\n",
    "    Based on the history of the conversation, initialy filled with question, user_answer, feedback.\n",
    "\n",
    "    Parameters:\n",
    "    conversation_history (str): Initialy the quesiton, user_answer, feedback. The history is filled with new messages.\n",
    "    user_message (str): New message from user.\n",
    "\n",
    "    Returns:\n",
    "    answer (str): The answer for the user_message, base on the context from history.\n",
    "    context_sources (str): The context used to answer with real link.\n",
    "    \"\"\"\n",
    "\n",
    "\n",
    "    # Retrieve context\n",
    "    conversation_history_context = get_context(conversation_history, k=5)\n",
    "    user_message_context = get_context(user_message, k=3)\n",
    "    # Combine all retrieved contexts\n",
    "    all_contexts = conversation_history_context + user_message_context\n",
    "    context = \"\\nExtracted documents:\\n\"\n",
    "    context += \"\".join([f'Content: {doc.page_content} \\nSource: {doc.metadata['ref']}\\n\\n' for i, doc in enumerate(all_contexts)])\n",
    "    context_sources = \"\".join([f'\\nSource: {doc.metadata['ref']}, Url: {doc.metadata.get('url', 'N/A')}' for i, doc in enumerate(all_contexts)])\n",
    "\n",
    "    # Build prompt\n",
    "    SYSTEM_PROMPT = f\"\"\"You are an AI assistant engaged in an ongoing conversation with a user. Your task is to generate a relevant and coherent response based on the conversation history and extracted context.  \n",
    "\n",
    "            **Instructions:**  \n",
    "            - Analyze the provided conversation history to understand the discussion.  \n",
    "            - Use the extracted context to ensure factual accuracy and relevance in your response.  \n",
    "            - Maintain the same tone, style, and level of detail as previous responses.  \n",
    "            - Do not introduce any information that is not supported by the context or history.  \n",
    "            - If the context does not provide sufficient information, respond naturally while acknowledging the limitation.  \n",
    "            - Ensure your response is clear, concise, and helpful. \n",
    "    \"\"\"\n",
    "    \n",
    "    user_prompt = f\"\"\"Conversation History:  \n",
    "        {conversation_history}  \n",
    "        ---  \n",
    "        Extracted Context:  \n",
    "        {context}  \n",
    "        ---  \n",
    "        User Message: {user_message}  \n",
    "\n",
    "        Generate a response that continues the conversation naturally while ensuring accuracy based on the provided context.\n",
    "    \"\"\"\n",
    "\n",
    "    # Redact an answer\n",
    "    answer = chat(model='qwen2.5:7b',\n",
    "                       messages=[\n",
    "                           {\n",
    "                               \"role\":\"system\",\n",
    "                               \"content\":SYSTEM_PROMPT,\n",
    "                           },\n",
    "                           {\"role\":\"user\",\"content\":user_prompt},\n",
    "                       ],\n",
    "                      )\n",
    "\n",
    "\n",
    "    # Assemble answer\n",
    "    final_answer = f'{answer}\\n\\nContext:\\n{context_sources}'\n",
    "\n",
    "    return final_answer"
   ]
  },
  {
   "cell_type": "markdown",
   "metadata": {},
   "source": [
    "# Exemple of an exchange: "
   ]
  },
  {
   "cell_type": "markdown",
   "metadata": {},
   "source": [
    "## MCQ"
   ]
  },
  {
   "cell_type": "code",
   "execution_count": null,
   "metadata": {},
   "outputs": [],
   "source": []
  },
  {
   "cell_type": "markdown",
   "metadata": {},
   "source": [
    "## Open"
   ]
  },
  {
   "cell_type": "code",
   "execution_count": 10,
   "metadata": {},
   "outputs": [],
   "source": [
    "# Initialize history\n",
    "history = ''"
   ]
  },
  {
   "cell_type": "code",
   "execution_count": 11,
   "metadata": {},
   "outputs": [
    {
     "name": "stdout",
     "output_type": "stream",
     "text": [
      " International application WO -X was filed at the EPO on 27 August 2024. No fees have been paid.  1. What fees are due on filing for WO -X? Fee amounts need not be mentioned. 2. What is the time limit for paying these fees? 3. What happens if these fees are not paid within the time limit, and what can you do about it?\n",
      " On 25  October 2019, the Spanish University Isabel  II and the company Tomato Matters filed a European patent application in Spanish, accompanied by a translation into English. Tomato Matters employs more than 260 employees.  The University Isabel  II has filed two patent applications with the EPO over the past five years. On 10 October 2024, Tomato Matters transfers its rights to Naranjas Navel , a company which employs 9 members of staff and whose annual turnover is EUR  1 million. Naranjas Navel has never filed any patent applications with the EPO.  In a communication from the EPO under Rule 71(3) EPC dated 10 October 2024, the name of the applicants is given as: Isabe  III (clerical error) and Tomato Matters.  1. What has to be done to obtain a Unitary Patent as soon as possible for Isabel  II and Naranjas Navel? Is it possible to benefit from the compensation scheme?  Please list the necessary steps at minimum cost. You should identify the fees that have to be paid, but you do not need to specify their amounts.  2. Let us now suppose that the request for unitary effect has been refused. What is the time limit for lodging  an application to reverse this  decision, and to whom should the application be addressed? \n",
      " In March 2018, a European patent application was filed in French. A European patent was granted in June 2023. Unitary effect has been registered and the proprietor has filed a statement concerning licences of right. The patent has also been validated in Sp ain and in Croatia; the European patent is still in force in these states.  The proprietor filed a request for limitation of the patent. The examining division has issued an interlocutory decision, indicating that the patent with amended claims and an amended description meets the requirements of the EPC. The mention of the limita tion will be published in the last European Patent Bulletin of 2024.  1. To maintain the existing patents, what translations must be filed, at which offices? 2. Do any fees have to be paid? Fee amounts need not be mentioned. \n"
     ]
    },
    {
     "name": "stderr",
     "output_type": "stream",
     "text": [
      "/tmp/ipykernel_1017529/2683960810.py:15: LangChainDeprecationWarning: The class `HuggingFaceEmbeddings` was deprecated in LangChain 0.2.2 and will be removed in 1.0. An updated version of the class exists in the :class:`~langchain-huggingface package and should be used instead. To use it run `pip install -U :class:`~langchain-huggingface` and import as `from :class:`~langchain_huggingface import HuggingFaceEmbeddings``.\n",
      "  embedding_model = HuggingFaceEmbeddings(\n"
     ]
    },
    {
     "name": "stdout",
     "output_type": "stream",
     "text": [
      "In January 2022, a European patent application was filed in Russian. The applicant is a corporation headquartered in Russia. According to the guidelines, what actions are required to ensure the validity of the patent in Russia?\n",
      "\n",
      "---\n",
      "\n",
      "New Question:\n",
      "\n",
      "In July 2021, a European patent application was filed in Arabic. The applicant is a sole proprietor residing in Egypt. Under the guidelines, what specific actions must be taken to ensure the validity of the patent in Egypt?\n"
     ]
    }
   ],
   "source": [
    "# Generate a new question\n",
    "question = generate_open(subcategory='Subcategory')\n",
    "history += f'Question:\\n{question}'\n",
    "print(question)"
   ]
  },
  {
   "cell_type": "code",
   "execution_count": 12,
   "metadata": {},
   "outputs": [],
   "source": [
    "# Generate ai_answer (the correct one)\n",
    "correct_answer = generate_open_answer(question)"
   ]
  },
  {
   "cell_type": "code",
   "execution_count": 13,
   "metadata": {},
   "outputs": [],
   "source": [
    "# The user answer\n",
    "user_answer = \"\"\"I have no idea bro !\"\"\"\n",
    "history += f'\\n\\nUser Answer:\\n{user_answer}'"
   ]
  },
  {
   "cell_type": "code",
   "execution_count": 14,
   "metadata": {},
   "outputs": [
    {
     "name": "stdout",
     "output_type": "stream",
     "text": [
      "Correct answer:\n",
      "Answer:\n",
      "To ensure the validity of the patent in Egypt, the following specific actions must be taken according to the guidelines:\n",
      "\n",
      "1. File the application in Arabic.\n",
      "2. Ensure that the applicant is a sole proprietor residing in Egypt.\n",
      "3. Verify that the applicant's residence or principal place of business is within the territory of a contracting state having Arabic as an official language.\n",
      "\n",
      "These steps align with the requirements outlined in Article 14(2) of the Guidelines for Examination in the EPO, ensuring that the application meets the necessary conditions for filing in an admissible non-EPO language.\n",
      "\n",
      "Sources:\n",
      "Source: Guidelines for Examination in the EPO, A-VII, 1.1, Url: https://www.epo.org/en/legal/guidelines-epc/2024/a_vii_1_1.html\n",
      "Source: Guidelines for Examination in the EPO, A-VII, 5, Url: https://www.epo.org/en/legal/guidelines-epc/2024/a_vii_5.html\n",
      "Source: Guidelines for Examination in the EPO, A-III, 14, Url: https://www.epo.org/en/legal/guidelines-epc/2024/a_iii_14.html\n",
      "Source: Guidelines for Examination in the EPO, A-X, 9.2.1, Url: https://www.epo.org/en/legal/guidelines-epc/2024/a_x_9_2_1.html\n",
      "Source: Guidelines for Examination in the EPO, A-II, 2, Url: https://www.epo.org/en/legal/guidelines-epc/2024/a_ii_2.html\n"
     ]
    }
   ],
   "source": [
    "# Print the correct answer generated before\n",
    "print(f'Correct answer:\\n{correct_answer}')\n",
    "history += f'\\n\\nCorrect answer:\\n{correct_answer}'"
   ]
  },
  {
   "cell_type": "code",
   "execution_count": 15,
   "metadata": {},
   "outputs": [
    {
     "name": "stdout",
     "output_type": "stream",
     "text": [
      "Feedback:\n",
      "The user's answer is completely incorrect. They did not address the question about what actions must be taken to ensure the validity of a patent in Egypt when the application was filed in Arabic. \n",
      "\n",
      "**Feedback:**\n",
      "\n",
      "Your answer does not address the question correctly. To ensure the validity of a patent in Egypt when the application was filed in Arabic, you would need to take the following specific actions according to the guidelines:\n",
      "\n",
      "1. **File the application in Arabic**: This is already mentioned in the question.\n",
      "2. **Ensure that the applicant is a sole proprietor residing in Egypt**: This is another important step.\n",
      "3. **Verify that the applicant's residence or principal place of business is within the territory of a contracting state having Arabic as an official language**: This ensures that the application complies with the legal requirements for filing in an admissible non-EPO language.\n",
      "\n",
      "These steps align with the requirements outlined in Article 14(2) of the Guidelines for Examination in the EPO, ensuring that the application meets the necessary conditions for filing in an admissible non-EPO language.\n",
      "\n",
      "Sources:\n",
      "- Source: Guidelines for Examination in the EPO, A-VII, 1.1, Url: https://www.epo.org/en/legal/guidelines-epc/2024/a_vii_1_1.html\n",
      "- Source: Guidelines for Examination in the EPO, A-VII, 5, Url: https://www.epo.org/en/legal/guidelines-epc/2024/a_vii_5.html\n",
      "- Source: Guidelines for Examination in the EPO, A-III, 14, Url: https://www.epo.org/en/legal/guidelines-epc/2024/a_iii_14.html\n",
      "- Source: Guidelines for Examination in the EPO, A-X, 9.2.1, Url: https://www.epo.org/en/legal/guidelines-epc/2024/a_x_9_2_1.html\n",
      "- Source: Guidelines for Examination in the EPO, A-II, 2, Url: https://www.epo.org/en/legal/guidelines-epc/2024/a_ii_2.html\n",
      "\n",
      "Context:\n",
      "Source: Guidelines for Examination in the EPO, A-VII, 1.1, Url: https://www.epo.org/en/legal/guidelines-epc/2024/a_vii_1_1.html\n",
      "Source: Guidelines for Examination in the EPO, A-VII, 5, Url: https://www.epo.org/en/legal/guidelines-epc/2024/a_vii_5.html\n",
      "Source: Guidelines for Examination in the EPO, A-III, 14, Url: https://www.epo.org/en/legal/guidelines-epc/2024/a_iii_14.html\n",
      "Source: Guidelines for Examination in the EPO, A-VII, 1.1, Url: https://www.epo.org/en/legal/guidelines-epc/2024/a_vii_1_1.html\n",
      "Source: Guidelines for Examination in the EPO, A-VII, 2, Url: https://www.epo.org/en/legal/guidelines-epc/2024/a_vii_2.html\n",
      "Source: Guidelines for Examination in the EPO, A-VII, 5, Url: https://www.epo.org/en/legal/guidelines-epc/2024/a_vii_5.html\n",
      "Source: Case Law I, D.8.1.1, Url: https://www.epo.org/en/legal/case-law/2022/clr_i_d_8_1_1.html\n",
      "Source: Guidelines for Examination in the EPO, G-VI, 8, Url: https://www.epo.org/en/legal/guidelines-epc/2024/g_vi_8.html\n",
      "Source: Guidelines for Examination in the EPO, F-IV, 4.24, Url: https://www.epo.org/en/legal/guidelines-epc/2024/f_iv_4_24.html\n"
     ]
    }
   ],
   "source": [
    "# Generat AI feedback\n",
    "feed_back = generate_feedback(question, correct_answer, user_answer)\n",
    "history += f'\\n\\nFeedback:\\n{feed_back}'\n",
    "print(feed_back)"
   ]
  },
  {
   "cell_type": "code",
   "execution_count": 16,
   "metadata": {},
   "outputs": [
    {
     "name": "stdout",
     "output_type": "stream",
     "text": [
      "Certainly! When dealing with a European patent application filed in Arabic, the key action required to ensure its validity in Egypt involves several steps:\n",
      "\n",
      "1. **File the Application in Arabic**: As stated in the guidelines, the application must be filed in Arabic. This is crucial because the application needs to comply with the local language requirements of Egypt.\n",
      "\n",
      "2. **Ensure the Applicant is a Sole Proprietor Residing in Egypt**: The applicant must be identified as a sole proprietor residing in Egypt. This confirms that the applicant qualifies under Egyptian laws regarding patents.\n",
      "\n",
      "3. **Verify the Principal Place of Business**: It’s essential to verify that the applicant's principal place of business is located within the territory of a contracting state having Arabic as an official language. This verification helps ensure that the application adheres to the legal framework governing patent filings in Egypt.\n",
      "\n",
      "By taking these steps, the application will meet the necessary criteria for filing in an admissible non-EPO language, specifically Arabic, thereby securing its validity in Egypt. These procedures are detailed in the Guidelines for Examination in the EPO, particularly in Articles 14(2) and 14(4).\n",
      "\n",
      "For additional guidance, refer to the following sources:\n",
      "\n",
      "- **Guidelines for Examination in the EPO, A-VII, 1.1**: This section outlines the general rules for filing European patent applications in various languages.\n",
      "- **Guidelines for Examination in the EPO, A-VII, 5**: This provides instructions on how to handle translations and amendments to applications.\n",
      "- **Guidelines for Examination in the EPO, A-III, 14**: This explains the requirements for translations of European patent applications.\n",
      "- **Guidelines for Examination in the EPO, A-X, 9.2.1**: This discusses the conditions for filing applications in non-EPO languages, including those involving reference signs and definitions.\n",
      "\n",
      "These resources will help ensure that the application is properly prepared and submitted to meet the specific requirements of filing in an admissible non-EPO language, such as Arabic, in Egypt.\n",
      "\n",
      "Context:\n",
      "\n",
      "Source: Guidelines for Examination in the EPO, A-VII, 1.1, Url: https://www.epo.org/en/legal/guidelines-epc/2024/a_vii_1_1.html\n",
      "Source: Guidelines for Examination in the EPO, A-VII, 5, Url: https://www.epo.org/en/legal/guidelines-epc/2024/a_vii_5.html\n",
      "Source: Guidelines for Examination in the EPO, A-III, 14, Url: https://www.epo.org/en/legal/guidelines-epc/2024/a_iii_14.html\n",
      "Source: Guidelines for Examination in the EPO, A-VII, 2, Url: https://www.epo.org/en/legal/guidelines-epc/2024/a_vii_2.html\n",
      "Source: Guidelines for Examination in the EPO, A-X, 9.2.1, Url: https://www.epo.org/en/legal/guidelines-epc/2024/a_x_9_2_1.html\n",
      "Source: Guidelines for Examination in the EPO, F-IV, 4.18, Url: https://www.epo.org/en/legal/guidelines-epc/2024/f_iv_4_18.html\n",
      "Source: Guidelines for Examination in the EPO, F-IV, 4.16, Url: https://www.epo.org/en/legal/guidelines-epc/2024/f_iv_4_16.html\n",
      "Source: Guidelines for Examination in the EPO, F-IV, 4.14, Url: https://www.epo.org/en/legal/guidelines-epc/2024/f_iv_4_14.html\n"
     ]
    }
   ],
   "source": [
    "# Open chat\n",
    "user_message = \"Explain me with more details and references.\"\n",
    "chat_answer = chat_with_ai(history, user_message)\n",
    "history += f'\\n\\nUser message:\\n{user_message}'\n",
    "history += f'\\n\\nChat answer:\\n{chat_answer}'\n",
    "print(chat_answer)"
   ]
  },
  {
   "cell_type": "code",
   "execution_count": 17,
   "metadata": {},
   "outputs": [
    {
     "name": "stdout",
     "output_type": "stream",
     "text": [
      "Question:\n",
      "In January 2022, a European patent application was filed in Russian. The applicant is a corporation headquartered in Russia. According to the guidelines, what actions are required to ensure the validity of the patent in Russia?\n",
      "\n",
      "---\n",
      "\n",
      "New Question:\n",
      "\n",
      "In July 2021, a European patent application was filed in Arabic. The applicant is a sole proprietor residing in Egypt. Under the guidelines, what specific actions must be taken to ensure the validity of the patent in Egypt?\n",
      "\n",
      "User Answer:\n",
      "I have no idea bro !\n",
      "\n",
      "Correct answer:\n",
      "Answer:\n",
      "To ensure the validity of the patent in Egypt, the following specific actions must be taken according to the guidelines:\n",
      "\n",
      "1. File the application in Arabic.\n",
      "2. Ensure that the applicant is a sole proprietor residing in Egypt.\n",
      "3. Verify that the applicant's residence or principal place of business is within the territory of a contracting state having Arabic as an official language.\n",
      "\n",
      "These steps align with the requirements outlined in Article 14(2) of the Guidelines for Examination in the EPO, ensuring that the application meets the necessary conditions for filing in an admissible non-EPO language.\n",
      "\n",
      "Sources:\n",
      "Source: Guidelines for Examination in the EPO, A-VII, 1.1, Url: https://www.epo.org/en/legal/guidelines-epc/2024/a_vii_1_1.html\n",
      "Source: Guidelines for Examination in the EPO, A-VII, 5, Url: https://www.epo.org/en/legal/guidelines-epc/2024/a_vii_5.html\n",
      "Source: Guidelines for Examination in the EPO, A-III, 14, Url: https://www.epo.org/en/legal/guidelines-epc/2024/a_iii_14.html\n",
      "Source: Guidelines for Examination in the EPO, A-X, 9.2.1, Url: https://www.epo.org/en/legal/guidelines-epc/2024/a_x_9_2_1.html\n",
      "Source: Guidelines for Examination in the EPO, A-II, 2, Url: https://www.epo.org/en/legal/guidelines-epc/2024/a_ii_2.html\n",
      "\n",
      "Feedback:\n",
      "Feedback:\n",
      "The user's answer is completely incorrect. They did not address the question about what actions must be taken to ensure the validity of a patent in Egypt when the application was filed in Arabic. \n",
      "\n",
      "**Feedback:**\n",
      "\n",
      "Your answer does not address the question correctly. To ensure the validity of a patent in Egypt when the application was filed in Arabic, you would need to take the following specific actions according to the guidelines:\n",
      "\n",
      "1. **File the application in Arabic**: This is already mentioned in the question.\n",
      "2. **Ensure that the applicant is a sole proprietor residing in Egypt**: This is another important step.\n",
      "3. **Verify that the applicant's residence or principal place of business is within the territory of a contracting state having Arabic as an official language**: This ensures that the application complies with the legal requirements for filing in an admissible non-EPO language.\n",
      "\n",
      "These steps align with the requirements outlined in Article 14(2) of the Guidelines for Examination in the EPO, ensuring that the application meets the necessary conditions for filing in an admissible non-EPO language.\n",
      "\n",
      "Sources:\n",
      "- Source: Guidelines for Examination in the EPO, A-VII, 1.1, Url: https://www.epo.org/en/legal/guidelines-epc/2024/a_vii_1_1.html\n",
      "- Source: Guidelines for Examination in the EPO, A-VII, 5, Url: https://www.epo.org/en/legal/guidelines-epc/2024/a_vii_5.html\n",
      "- Source: Guidelines for Examination in the EPO, A-III, 14, Url: https://www.epo.org/en/legal/guidelines-epc/2024/a_iii_14.html\n",
      "- Source: Guidelines for Examination in the EPO, A-X, 9.2.1, Url: https://www.epo.org/en/legal/guidelines-epc/2024/a_x_9_2_1.html\n",
      "- Source: Guidelines for Examination in the EPO, A-II, 2, Url: https://www.epo.org/en/legal/guidelines-epc/2024/a_ii_2.html\n",
      "\n",
      "Context:\n",
      "Source: Guidelines for Examination in the EPO, A-VII, 1.1, Url: https://www.epo.org/en/legal/guidelines-epc/2024/a_vii_1_1.html\n",
      "Source: Guidelines for Examination in the EPO, A-VII, 5, Url: https://www.epo.org/en/legal/guidelines-epc/2024/a_vii_5.html\n",
      "Source: Guidelines for Examination in the EPO, A-III, 14, Url: https://www.epo.org/en/legal/guidelines-epc/2024/a_iii_14.html\n",
      "Source: Guidelines for Examination in the EPO, A-VII, 1.1, Url: https://www.epo.org/en/legal/guidelines-epc/2024/a_vii_1_1.html\n",
      "Source: Guidelines for Examination in the EPO, A-VII, 2, Url: https://www.epo.org/en/legal/guidelines-epc/2024/a_vii_2.html\n",
      "Source: Guidelines for Examination in the EPO, A-VII, 5, Url: https://www.epo.org/en/legal/guidelines-epc/2024/a_vii_5.html\n",
      "Source: Case Law I, D.8.1.1, Url: https://www.epo.org/en/legal/case-law/2022/clr_i_d_8_1_1.html\n",
      "Source: Guidelines for Examination in the EPO, G-VI, 8, Url: https://www.epo.org/en/legal/guidelines-epc/2024/g_vi_8.html\n",
      "Source: Guidelines for Examination in the EPO, F-IV, 4.24, Url: https://www.epo.org/en/legal/guidelines-epc/2024/f_iv_4_24.html\n",
      "\n",
      "User message:\n",
      "Explain me with more details and references.\n",
      "\n",
      "Chat answer:\n",
      "Certainly! When dealing with a European patent application filed in Arabic, the key action required to ensure its validity in Egypt involves several steps:\n",
      "\n",
      "1. **File the Application in Arabic**: As stated in the guidelines, the application must be filed in Arabic. This is crucial because the application needs to comply with the local language requirements of Egypt.\n",
      "\n",
      "2. **Ensure the Applicant is a Sole Proprietor Residing in Egypt**: The applicant must be identified as a sole proprietor residing in Egypt. This confirms that the applicant qualifies under Egyptian laws regarding patents.\n",
      "\n",
      "3. **Verify the Principal Place of Business**: It’s essential to verify that the applicant's principal place of business is located within the territory of a contracting state having Arabic as an official language. This verification helps ensure that the application adheres to the legal framework governing patent filings in Egypt.\n",
      "\n",
      "By taking these steps, the application will meet the necessary criteria for filing in an admissible non-EPO language, specifically Arabic, thereby securing its validity in Egypt. These procedures are detailed in the Guidelines for Examination in the EPO, particularly in Articles 14(2) and 14(4).\n",
      "\n",
      "For additional guidance, refer to the following sources:\n",
      "\n",
      "- **Guidelines for Examination in the EPO, A-VII, 1.1**: This section outlines the general rules for filing European patent applications in various languages.\n",
      "- **Guidelines for Examination in the EPO, A-VII, 5**: This provides instructions on how to handle translations and amendments to applications.\n",
      "- **Guidelines for Examination in the EPO, A-III, 14**: This explains the requirements for translations of European patent applications.\n",
      "- **Guidelines for Examination in the EPO, A-X, 9.2.1**: This discusses the conditions for filing applications in non-EPO languages, including those involving reference signs and definitions.\n",
      "\n",
      "These resources will help ensure that the application is properly prepared and submitted to meet the specific requirements of filing in an admissible non-EPO language, such as Arabic, in Egypt.\n",
      "\n",
      "Context:\n",
      "\n",
      "Source: Guidelines for Examination in the EPO, A-VII, 1.1, Url: https://www.epo.org/en/legal/guidelines-epc/2024/a_vii_1_1.html\n",
      "Source: Guidelines for Examination in the EPO, A-VII, 5, Url: https://www.epo.org/en/legal/guidelines-epc/2024/a_vii_5.html\n",
      "Source: Guidelines for Examination in the EPO, A-III, 14, Url: https://www.epo.org/en/legal/guidelines-epc/2024/a_iii_14.html\n",
      "Source: Guidelines for Examination in the EPO, A-VII, 2, Url: https://www.epo.org/en/legal/guidelines-epc/2024/a_vii_2.html\n",
      "Source: Guidelines for Examination in the EPO, A-X, 9.2.1, Url: https://www.epo.org/en/legal/guidelines-epc/2024/a_x_9_2_1.html\n",
      "Source: Guidelines for Examination in the EPO, F-IV, 4.18, Url: https://www.epo.org/en/legal/guidelines-epc/2024/f_iv_4_18.html\n",
      "Source: Guidelines for Examination in the EPO, F-IV, 4.16, Url: https://www.epo.org/en/legal/guidelines-epc/2024/f_iv_4_16.html\n",
      "Source: Guidelines for Examination in the EPO, F-IV, 4.14, Url: https://www.epo.org/en/legal/guidelines-epc/2024/f_iv_4_14.html\n"
     ]
    }
   ],
   "source": [
    "print(history)"
   ]
  }
 ],
 "metadata": {
  "kernelspec": {
   "display_name": ".venv",
   "language": "python",
   "name": "python3"
  },
  "language_info": {
   "codemirror_mode": {
    "name": "ipython",
    "version": 3
   },
   "file_extension": ".py",
   "mimetype": "text/x-python",
   "name": "python",
   "nbconvert_exporter": "python",
   "pygments_lexer": "ipython3",
   "version": "3.13.2"
  }
 },
 "nbformat": 4,
 "nbformat_minor": 2
}

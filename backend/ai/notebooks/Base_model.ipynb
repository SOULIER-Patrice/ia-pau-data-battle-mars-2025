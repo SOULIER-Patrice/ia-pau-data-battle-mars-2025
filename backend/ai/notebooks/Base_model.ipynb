{
 "cells": [
  {
   "cell_type": "markdown",
   "metadata": {},
   "source": [
    "# All endpoints for model v1"
   ]
  },
  {
   "cell_type": "markdown",
   "metadata": {},
   "source": [
    "## Imports"
   ]
  },
  {
   "cell_type": "code",
   "execution_count": 1,
   "metadata": {},
   "outputs": [],
   "source": [
    "import json\n",
    "import os\n",
    "from langchain.vectorstores import FAISS\n",
    "from langchain_community.embeddings import HuggingFaceEmbeddings\n",
    "from transformers import pipeline\n",
    "from transformers import AutoTokenizer, AutoModelForCausalLM"
   ]
  },
  {
   "cell_type": "code",
   "execution_count": 2,
   "metadata": {},
   "outputs": [
    {
     "name": "stderr",
     "output_type": "stream",
     "text": [
      "Sliding Window Attention is enabled but not implemented for `sdpa`; unexpected results may be encountered.\n",
      "Device set to use cuda:0\n"
     ]
    }
   ],
   "source": [
    "READER_MODEL_NAME = \"Qwen/Qwen2.5-1.5B-Instruct\"\n",
    "\n",
    "# Load reader model\n",
    "model = AutoModelForCausalLM.from_pretrained(READER_MODEL_NAME)\n",
    "tokenizer = AutoTokenizer.from_pretrained(READER_MODEL_NAME)\n",
    "READER_LLM = pipeline(\n",
    "    model=model,\n",
    "    tokenizer=tokenizer,\n",
    "    task=\"text-generation\",\n",
    "    do_sample=True,\n",
    "    temperature=0.2,\n",
    "    repetition_penalty=1.1,\n",
    "    return_full_text=False,\n",
    "    max_new_tokens=500,\n",
    ")"
   ]
  },
  {
   "cell_type": "markdown",
   "metadata": {},
   "source": [
    "## Fake functions using BDD for tests"
   ]
  },
  {
   "cell_type": "code",
   "execution_count": 3,
   "metadata": {},
   "outputs": [],
   "source": [
    "# In this example the 3 questions were not from the same subcategory\n",
    "# I let you write this function MAGB\n",
    "\n",
    "def get_random_questions_from_subcategory(subcategory, type, k=3):\n",
    "    \"\"\" \n",
    "    Get k random questions verified from subcategory from a specific type in our database.\n",
    "\n",
    "    Parameters:\n",
    "    subcatecory (str): Subcategory name. \n",
    "    type (int): Type is MCQ or Open question.\n",
    "    k (int): Number of questions to return.\n",
    "\n",
    "    Returns:\n",
    "    str: The k questions.\n",
    "    \"\"\"\n",
    "\n",
    "    if type == 'MCQ':\n",
    "        pass\n",
    "    elif type == 'Open':\n",
    "        # 2024 EPAC Open the first 3\n",
    "        q1 = \" International application WO -X was filed at the EPO on 27 August 2024. No fees have been paid.  1. What fees are due on filing for WO -X? Fee amounts need not be mentioned. 2. What is the time limit for paying these fees? 3. What happens if these fees are not paid within the time limit, and what can you do about it?\"\n",
    "        q2 = \" On 25  October 2019, the Spanish University Isabel  II and the company Tomato Matters filed a European patent application in Spanish, accompanied by a translation into English. Tomato Matters employs more than 260 employees.  The University Isabel  II has filed two patent applications with the EPO over the past five years. On 10 October 2024, Tomato Matters transfers its rights to Naranjas Navel , a company which employs 9 members of staff and whose annual turnover is EUR  1 million. Naranjas Navel has never filed any patent applications with the EPO.  In a communication from the EPO under Rule 71(3) EPC dated 10 October 2024, the name of the applicants is given as: Isabe  III (clerical error) and Tomato Matters.  1. What has to be done to obtain a Unitary Patent as soon as possible for Isabel  II and Naranjas Navel? Is it possible to benefit from the compensation scheme?  Please list the necessary steps at minimum cost. You should identify the fees that have to be paid, but you do not need to specify their amounts.  2. Let us now suppose that the request for unitary effect has been refused. What is the time limit for lodging  an application to reverse this  decision, and to whom should the application be addressed? \"\n",
    "        q3 = \" In March 2018, a European patent application was filed in French. A European patent was granted in June 2023. Unitary effect has been registered and the proprietor has filed a statement concerning licences of right. The patent has also been validated in Sp ain and in Croatia; the European patent is still in force in these states.  The proprietor filed a request for limitation of the patent. The examining division has issued an interlocutory decision, indicating that the patent with amended claims and an amended description meets the requirements of the EPC. The mention of the limita tion will be published in the last European Patent Bulletin of 2024.  1. To maintain the existing patents, what translations must be filed, at which offices? 2. Do any fees have to be paid? Fee amounts need not be mentioned. \"\n",
    "    \n",
    "    print(f'{q1}\\n{q2}\\n{q3}')\n",
    "    return f'{q1}\\n{q2}\\n{q3}'"
   ]
  },
  {
   "cell_type": "markdown",
   "metadata": {},
   "source": [
    "## *get_context*"
   ]
  },
  {
   "cell_type": "code",
   "execution_count": 4,
   "metadata": {},
   "outputs": [],
   "source": [
    "EMBEDDING_MODEL_NAME = \"thenlper/gte-small\"\n",
    "def get_context(query, k=5):\n",
    "    \"\"\" \n",
    "    Retrieves relevant context for a given query.\n",
    "\n",
    "    Parameters:\n",
    "    query (str): The input query for which context is needed.\n",
    "    k (int, optional): The number of relevant context elements to retrieve (default is 5).\n",
    "\n",
    "    Returns:\n",
    "    list: A list containing relevant context elements.\n",
    "    \"\"\"\n",
    "\n",
    "    # Load embeddings\n",
    "    embedding_model = HuggingFaceEmbeddings(\n",
    "        model_name=EMBEDDING_MODEL_NAME,\n",
    "        multi_process=True,\n",
    "        model_kwargs={\"device\": \"cpu\"},  # replace 'cpu' by 'cuda' if you have Nvidia gpu\n",
    "        encode_kwargs={\"normalize_embeddings\": True},  # Set `True` for cosine similarity\n",
    "    )\n",
    "    KNOWLEDGE_VECTOR_DATABASE = FAISS.load_local(\"../outputs/rag_embeddings_thenlper_gte-small\", embedding_model, allow_dangerous_deserialization=True)\n",
    "\n",
    "    # Retrieve docs\n",
    "    # print(f\"\\nStarting retrieval for {query=}...\")\n",
    "    retrieved_docs = KNOWLEDGE_VECTOR_DATABASE.similarity_search(query=query, k=k)\n",
    "\n",
    "    return retrieved_docs"
   ]
  },
  {
   "cell_type": "markdown",
   "metadata": {},
   "source": [
    "## *generate_mcq*  (Not working)\n",
    "\n",
    "- Réecrire prompt\n",
    "- Essayer de contraindre sortie en json"
   ]
  },
  {
   "cell_type": "code",
   "execution_count": 5,
   "metadata": {},
   "outputs": [],
   "source": [
    "def generate_mcq(subcategory):\n",
    "    \"\"\"\n",
    "    Generates an MCQ question.\n",
    "\n",
    "    Parameters:\n",
    "    subcatecory (str): Subcategory name.\n",
    "\n",
    "    Returns:\n",
    "    question (dict): {'question': '...',\n",
    "                      'options': ['A ....', 'B ...', ...]}\n",
    "    \"\"\"\n",
    "\n",
    "    # Build prompt\n",
    "    prompt_in_chat_format = [\n",
    "        {\n",
    "            \"role\": \"system\",\n",
    "            \"content\": \"\"\"You are given a list of questions and a context extracted from those questions. Your task is to generate a new question that matches the style and structure of the given questions while ensuring that it is correct and relevant to the provided context.  \n",
    "\n",
    "            **Instructions:**\n",
    "            - The new question must be coherent with the other questions in terms of phrasing, complexity, and format.\n",
    "            - Ensure that the new question can be answered using the provided context.\n",
    "            - Do not introduce any information that is not supported by the context.\n",
    "            - If the context does not allow for a new relevant question, state: \"A new relevant question cannot be generated based on the given context.\"\n",
    "            - Output **only** the new question, with no explanations, formatting, or additional text.\n",
    "            \"\"\",\n",
    "        },\n",
    "        {\n",
    "            \"role\": \"user\",\n",
    "            \"content\": \"\"\"Context:  \n",
    "        {context}  \n",
    "        ---  \n",
    "        Given the following questions:  \n",
    "        {existing_questions}  \n",
    "\n",
    "        Generate a new question that follows the same format and is correct based on the context.\"\"\",\n",
    "        }\n",
    "    ]\n",
    "\n",
    "    RAG_PROMPT_TEMPLATE = tokenizer.apply_chat_template(prompt_in_chat_format, tokenize=False, add_generation_prompt=True)\n",
    "    \n",
    "    # Get questions\n",
    "    questions = get_random_questions_from_subcategory(subcategory=subcategory, type='MCQ', k=3)\n",
    "\n",
    "    # Retrieve context\n",
    "    retrieved_docs = get_context(questions, k=5)\n",
    "    context = \"\\nExtracted documents:\\n\"\n",
    "    context += \"\".join([f'Content: {doc.page_content} \\nSource: {doc.metadata['ref']}\\n\\n' for i, doc in enumerate(retrieved_docs)])\n",
    "    context_sources = \"\".join([f'\\nSource: {doc.metadata['ref']}, Url: {doc.metadata.get('url', 'N/A')}' for i, doc in enumerate(retrieved_docs)])\n",
    "\n",
    "    # Add context to prompt\n",
    "    final_prompt = RAG_PROMPT_TEMPLATE.format(existing_questions=questions, context=context)\n",
    "    \n",
    "    # Redact an answer\n",
    "    new_question = READER_LLM(final_prompt)[0][\"generated_text\"]\n",
    "\n",
    "    return new_question, questions, context_sources"
   ]
  },
  {
   "cell_type": "markdown",
   "metadata": {},
   "source": [
    "## *generate_mcq_answer* (Not working)"
   ]
  },
  {
   "cell_type": "markdown",
   "metadata": {},
   "source": [
    "## *generate_open*"
   ]
  },
  {
   "cell_type": "code",
   "execution_count": 6,
   "metadata": {},
   "outputs": [],
   "source": [
    "def generate_open(subcategory):\n",
    "    \"\"\"\n",
    "    Generates an Open question.\n",
    "\n",
    "    Parameters:\n",
    "    subcatecory (str): Subcategory name.\n",
    "\n",
    "    Returns:\n",
    "    question (str): The new question.\n",
    "    \"\"\"\n",
    "    \n",
    "    # Build prompt\n",
    "    prompt_in_chat_format = [\n",
    "        {\n",
    "            \"role\": \"system\",\n",
    "            \"content\": \"\"\"You are given a list of questions and a context extracted from those questions. Your task is to generate a new question that matches the style and structure of the given questions while ensuring that it is correct and relevant to the provided context.  \n",
    "\n",
    "            **Instructions:**\n",
    "            - The new question must be coherent with the other questions in terms of phrasing, complexity, and format.\n",
    "            - Ensure that the new question can be answered using the provided context.\n",
    "            - Do not introduce any information that is not supported by the context.\n",
    "            - If the context does not allow for a new relevant question, state: \"A new relevant question cannot be generated based on the given context.\"\n",
    "            - Output **only** the new question, with no explanations, formatting, or additional text.\n",
    "            \"\"\",\n",
    "        },\n",
    "        {\n",
    "            \"role\": \"user\",\n",
    "            \"content\": \"\"\"Context:  \n",
    "        {context}  \n",
    "        ---  \n",
    "        Given the following questions:  \n",
    "        {existing_questions}  \n",
    "\n",
    "        Generate a new question that follows the same format and is correct based on the context.\"\"\",\n",
    "        }\n",
    "    ]\n",
    "\n",
    "    RAG_PROMPT_TEMPLATE = tokenizer.apply_chat_template(prompt_in_chat_format, tokenize=False, add_generation_prompt=True)\n",
    "    \n",
    "    # Get questions\n",
    "    questions = get_random_questions_from_subcategory(subcategory=subcategory, type='Open', k=3)\n",
    "\n",
    "    # Retrieve context\n",
    "    retrieved_docs = get_context(questions, k=5)\n",
    "    context = \"\\nExtracted documents:\\n\"\n",
    "    context += \"\".join([f'Content: {doc.page_content} \\nSource: {doc.metadata['ref']}\\n\\n' for i, doc in enumerate(retrieved_docs)])\n",
    "    # context_sources = \"\".join([f'\\nSource: {doc.metadata['ref']}, Url: {doc.metadata.get('url', 'N/A')}' for i, doc in enumerate(retrieved_docs)])\n",
    "\n",
    "    # Add context to prompt\n",
    "    final_prompt = RAG_PROMPT_TEMPLATE.format(existing_questions=questions, context=context)\n",
    "    \n",
    "    # Redact an answer\n",
    "    new_question = READER_LLM(final_prompt)[0][\"generated_text\"]\n",
    "\n",
    "    return new_question"
   ]
  },
  {
   "cell_type": "markdown",
   "metadata": {},
   "source": [
    "## *generate_open_answer*"
   ]
  },
  {
   "cell_type": "code",
   "execution_count": 7,
   "metadata": {},
   "outputs": [],
   "source": [
    "def generate_open_answer(question):\n",
    "    \"\"\"\n",
    "    Generates an answer to a given open question.\n",
    "\n",
    "    Parameters:\n",
    "    question (str): The input question for which an answer is needed.\n",
    "\n",
    "    Returns:\n",
    "    answer (str): The generated response from the AI with the context used.\n",
    "    \"\"\"\n",
    "\n",
    "    # Build prompt\n",
    "    prompt_in_chat_format = [\n",
    "    {\n",
    "        \"role\": \"system\",\n",
    "        \"content\": \"\"\"Use only the information contained in the provided context to generate a precise and relevant answer to the given question.  \n",
    "        \n",
    "        **General Rules:**\n",
    "        - Answer concisely and directly to the question.  \n",
    "        - If the answer requires choosing from multiple options, explicitly state the correct answer.  \n",
    "        - Always cite the sources used and explain their relevance to the answer.  \n",
    "        - If the answer cannot be deduced from the context, explicitly state that it cannot be answered.  \n",
    "\n",
    "        **For Multiple Choice Questions (MCQs):**  \n",
    "        - Start your response with: **\"The correct answer is: [option]\"** (e.g., \"The correct answer is: A.\")  \n",
    "        - Explain why this option is correct based on the provided context.  \n",
    "        - Briefly justify why the other options are incorrect, if possible.  \n",
    "        \n",
    "        **Example of response format:**  \n",
    "        - **The correct answer is: [option]**  \n",
    "        - **Justification:** (Explain why this answer is correct, citing sources)  \n",
    "        - **Why other options are incorrect:** (Briefly explain why the other options do not apply)  \n",
    "\n",
    "        If the question is not a multiple-choice question, provide a direct and structured answer.  \n",
    "        \"\"\",\n",
    "    },\n",
    "    {\n",
    "        \"role\": \"user\",\n",
    "        \"content\": \"\"\"Context:  \n",
    "    {context}  \n",
    "    ---  \n",
    "    Now, answer the following question.  \n",
    "\n",
    "    **Question:** {question}\"\"\",\n",
    "    }\n",
    "    ]\n",
    "\n",
    "    RAG_PROMPT_TEMPLATE = tokenizer.apply_chat_template(prompt_in_chat_format, tokenize=False, add_generation_prompt=True)\n",
    "    \n",
    "\n",
    "    # Retrieve context\n",
    "    retrieved_docs = get_context(question)\n",
    "    context = \"\\nExtracted documents:\\n\"\n",
    "    context += \"\".join([f'Content: {doc.page_content}\\nSource: {doc.metadata['ref']}\\n' for i, doc in enumerate(retrieved_docs)])\n",
    "    context_sources = \"\".join([f'\\nSource: {doc.metadata['ref']}, Url: {doc.metadata.get('url', 'N/A')}' for i, doc in enumerate(retrieved_docs)])\n",
    "    \n",
    "    # Add context to prompt\n",
    "    final_prompt = RAG_PROMPT_TEMPLATE.format(question=question, context=context)\n",
    "    \n",
    "    # Redact an answer\n",
    "    answer = READER_LLM(final_prompt)[0][\"generated_text\"]\n",
    "\n",
    "    # Assemble answer and context_sources\n",
    "    final_answer = f'Answer:\\n{answer}\\n\\nSources:{context_sources}'\n",
    "\n",
    "    return final_answer"
   ]
  },
  {
   "cell_type": "markdown",
   "metadata": {},
   "source": [
    "## *generate_feedback*"
   ]
  },
  {
   "cell_type": "code",
   "execution_count": 8,
   "metadata": {},
   "outputs": [],
   "source": [
    "def generate_feedback(ai_question, ai_answer, user_answer):\n",
    "    \"\"\"\n",
    "    Generates an AI-generated feedback on the user_answer. \n",
    "    The ai_question and ai_answer were generated before. When we gave an ai_question to an user,\n",
    "    we also take the ai_answer. So when the user answer, we can give all, ai_question, ai_answer (the correct one), \n",
    "    and user_answer to give a feedback to the user.\n",
    "\n",
    "    Parameters:\n",
    "    ai_question (str): The question generated by AI.\n",
    "    ai_answer (str): The correct answer.\n",
    "    user_answer (str): The user answer.\n",
    "\n",
    "    Returns:\n",
    "    feedback (str): The correct answer and the explaination why the user is wrong including the context.\n",
    "    \"\"\"\n",
    "\n",
    "    prompt_in_chat_format = [\n",
    "        {\n",
    "            \"role\": \"system\",\n",
    "            \"content\": \"\"\"You are given a question, a correct answer, and a user-provided answer, along with relevant context. Your task is to evaluate the user's answer and provide feedback explaining any errors.  \n",
    "\n",
    "            **Instructions:**\n",
    "            - Compare the user's answer with the correct answer and identify any inaccuracies.\n",
    "            - If the user uses incorrect references, explain why they are wrong and provide the correct information.\n",
    "            - Highlight any misunderstandings or misinterpretations the user may have made.\n",
    "            - If the user's answer is correct, acknowledge it and confirm why it is valid.\n",
    "            - Ensure your feedback is clear, concise, and instructional.\n",
    "            \"\"\",\n",
    "        },\n",
    "        {\n",
    "            \"role\": \"user\",\n",
    "            \"content\": \"\"\"Context:  \n",
    "        {context}  \n",
    "        ---  \n",
    "        **Question:** {ai_question}  \n",
    "        **Correct Answer:** {ai_answer}  \n",
    "        **User's Answer:** {user_answer}  \n",
    "\n",
    "        Provide feedback explaining any errors in the user's answer and clarify why it is incorrect, referencing the provided context where necessary.\"\"\",\n",
    "        }\n",
    "    ]\n",
    "\n",
    "    RAG_PROMPT_TEMPLATE = tokenizer.apply_chat_template(prompt_in_chat_format, tokenize=False, add_generation_prompt=True)\n",
    "\n",
    "    # Retrieve context\n",
    "    ai_question_context = get_context(ai_question, k=3)\n",
    "    ai_answer_context = get_context(ai_answer, k=3)\n",
    "    user_answer_context = get_context(user_answer, k=3)\n",
    "    # Combine all retrieved contexts\n",
    "    all_contexts = ai_question_context + ai_answer_context + user_answer_context\n",
    "    context = \"\\nExtracted documents:\\n\"\n",
    "    context += \"\".join([f'Content: {doc.page_content} \\nSource: {doc.metadata['ref']}\\n\\n' for i, doc in enumerate(all_contexts)])\n",
    "    context_sources = \"\".join([f'\\nSource: {doc.metadata['ref']}, Url: {doc.metadata.get('url', 'N/A')}' for i, doc in enumerate(all_contexts)])\n",
    "    \n",
    "    # Add context to prompt\n",
    "    final_prompt = RAG_PROMPT_TEMPLATE.format(ai_question=ai_question, ai_answer=ai_answer, user_answer=user_answer, context=context)\n",
    "    \n",
    "    # Redact an answer\n",
    "    feedback = READER_LLM(final_prompt)[0][\"generated_text\"]\n",
    "\n",
    "    # Assemble final answer\n",
    "    final_answer = f'{ai_answer}\\n\\nFeedback:\\n{feedback}\\n\\nContext:{context_sources}'\n",
    "\n",
    "    return final_answer"
   ]
  },
  {
   "cell_type": "markdown",
   "metadata": {},
   "source": [
    "## *chat_with_ai*"
   ]
  },
  {
   "cell_type": "code",
   "execution_count": 9,
   "metadata": {},
   "outputs": [],
   "source": [
    "def chat_with_ai(conversation_history, user_message):\n",
    "    \"\"\"\n",
    "    Based on the history of the conversation, initialy filled with question, user_answer, feedback.\n",
    "\n",
    "    Parameters:\n",
    "    conversation_history (str): Initialy the quesiton, user_answer, feedback. The history is filled with new messages.\n",
    "    user_message (str): New message from user.\n",
    "\n",
    "    Returns:\n",
    "    answer (str): The answer for the user_message, base on the context from history.\n",
    "    context_sources (str): The context used to answer with real link.\n",
    "    \"\"\"\n",
    "\n",
    "    prompt_in_chat_format = [\n",
    "        {\n",
    "            \"role\": \"system\",\n",
    "            \"content\": \"\"\"You are an AI assistant engaged in an ongoing conversation with a user. Your task is to generate a relevant and coherent response based on the conversation history and extracted context.  \n",
    "\n",
    "            **Instructions:**  \n",
    "            - Analyze the provided conversation history to understand the discussion.  \n",
    "            - Use the extracted context to ensure factual accuracy and relevance in your response.  \n",
    "            - Maintain the same tone, style, and level of detail as previous responses.  \n",
    "            - Do not introduce any information that is not supported by the context or history.  \n",
    "            - If the context does not provide sufficient information, respond naturally while acknowledging the limitation.  \n",
    "            - Ensure your response is clear, concise, and helpful.  \n",
    "            \"\"\",\n",
    "        },\n",
    "        {\n",
    "            \"role\": \"user\",\n",
    "            \"content\": \"\"\"Conversation History:  \n",
    "        {conversation_history}  \n",
    "        ---  \n",
    "        Extracted Context:  \n",
    "        {context}  \n",
    "        ---  \n",
    "        User Message: {user_message}  \n",
    "\n",
    "        Generate a response that continues the conversation naturally while ensuring accuracy based on the provided context.\"\"\",\n",
    "        }\n",
    "    ]\n",
    "\n",
    "    RAG_PROMPT_TEMPLATE = tokenizer.apply_chat_template(prompt_in_chat_format, tokenize=False, add_generation_prompt=True)\n",
    "\n",
    "    # Retrieve context\n",
    "    conversation_history_context = get_context(conversation_history, k=5)\n",
    "    user_message_context = get_context(user_message, k=3)\n",
    "    # Combine all retrieved contexts\n",
    "    all_contexts = conversation_history_context + user_message_context\n",
    "    context = \"\\nExtracted documents:\\n\"\n",
    "    context += \"\".join([f'Content: {doc.page_content} \\nSource: {doc.metadata['ref']}\\n\\n' for i, doc in enumerate(all_contexts)])\n",
    "    context_sources = \"\".join([f'\\nSource: {doc.metadata['ref']}, Url: {doc.metadata.get('url', 'N/A')}' for i, doc in enumerate(all_contexts)])\n",
    "    \n",
    "    # Add context to prompt\n",
    "    final_prompt = RAG_PROMPT_TEMPLATE.format(conversation_history=conversation_history, user_message=user_message, context=context)\n",
    "    \n",
    "    # Redact an answer\n",
    "    answer = READER_LLM(final_prompt)[0][\"generated_text\"]\n",
    "\n",
    "    # Assemble answer\n",
    "    final_answer = f'{answer}\\n\\nContext:\\n{context_sources}'\n",
    "\n",
    "    return final_answer"
   ]
  },
  {
   "cell_type": "markdown",
   "metadata": {},
   "source": [
    "# Exemple of an exchange: "
   ]
  },
  {
   "cell_type": "markdown",
   "metadata": {},
   "source": [
    "## MCQ"
   ]
  },
  {
   "cell_type": "code",
   "execution_count": null,
   "metadata": {},
   "outputs": [],
   "source": []
  },
  {
   "cell_type": "markdown",
   "metadata": {},
   "source": [
    "## Open"
   ]
  },
  {
   "cell_type": "code",
   "execution_count": 10,
   "metadata": {},
   "outputs": [],
   "source": [
    "# Initialize history\n",
    "history = ''"
   ]
  },
  {
   "cell_type": "code",
   "execution_count": 11,
   "metadata": {},
   "outputs": [
    {
     "name": "stdout",
     "output_type": "stream",
     "text": [
      " International application WO -X was filed at the EPO on 27 August 2024. No fees have been paid.  1. What fees are due on filing for WO -X? Fee amounts need not be mentioned. 2. What is the time limit for paying these fees? 3. What happens if these fees are not paid within the time limit, and what can you do about it?\n",
      " On 25  October 2019, the Spanish University Isabel  II and the company Tomato Matters filed a European patent application in Spanish, accompanied by a translation into English. Tomato Matters employs more than 260 employees.  The University Isabel  II has filed two patent applications with the EPO over the past five years. On 10 October 2024, Tomato Matters transfers its rights to Naranjas Navel , a company which employs 9 members of staff and whose annual turnover is EUR  1 million. Naranjas Navel has never filed any patent applications with the EPO.  In a communication from the EPO under Rule 71(3) EPC dated 10 October 2024, the name of the applicants is given as: Isabe  III (clerical error) and Tomato Matters.  1. What has to be done to obtain a Unitary Patent as soon as possible for Isabel  II and Naranjas Navel? Is it possible to benefit from the compensation scheme?  Please list the necessary steps at minimum cost. You should identify the fees that have to be paid, but you do not need to specify their amounts.  2. Let us now suppose that the request for unitary effect has been refused. What is the time limit for lodging  an application to reverse this  decision, and to whom should the application be addressed? \n",
      " In March 2018, a European patent application was filed in French. A European patent was granted in June 2023. Unitary effect has been registered and the proprietor has filed a statement concerning licences of right. The patent has also been validated in Sp ain and in Croatia; the European patent is still in force in these states.  The proprietor filed a request for limitation of the patent. The examining division has issued an interlocutory decision, indicating that the patent with amended claims and an amended description meets the requirements of the EPC. The mention of the limita tion will be published in the last European Patent Bulletin of 2024.  1. To maintain the existing patents, what translations must be filed, at which offices? 2. Do any fees have to be paid? Fee amounts need not be mentioned. \n"
     ]
    },
    {
     "name": "stderr",
     "output_type": "stream",
     "text": [
      "C:\\Users\\Patrice\\AppData\\Local\\Temp\\ipykernel_10804\\2683960810.py:15: LangChainDeprecationWarning: The class `HuggingFaceEmbeddings` was deprecated in LangChain 0.2.2 and will be removed in 1.0. An updated version of the class exists in the :class:`~langchain-huggingface package and should be used instead. To use it run `pip install -U :class:`~langchain-huggingface` and import as `from :class:`~langchain_huggingface import HuggingFaceEmbeddings``.\n",
      "  embedding_model = HuggingFaceEmbeddings(\n"
     ]
    },
    {
     "name": "stdout",
     "output_type": "stream",
     "text": [
      "In January 2022, a European patent application was filed in Portuguese. The applicant is a small business employing fewer than 10 employees. The application includes a set of claims in English. How many days does the applicant have to file a translation into one of the official languages of the European Patent Office, and what penalty might result from failing to do so?\n",
      "\n",
      "---\n",
      "\n",
      "This new question maintains the same format and complexity as the original questions while adhering to the provided context. It asks about the deadline for filing a translation into one of the official languages of the European Patent Office when a European patent application is filed in a non-official language, which aligns with the content related to translations in the given context.\n"
     ]
    }
   ],
   "source": [
    "# Generate a new question\n",
    "question = generate_open(subcategory='Subcategory')\n",
    "history += f'Question:\\n{question}'\n",
    "print(question)"
   ]
  },
  {
   "cell_type": "code",
   "execution_count": null,
   "metadata": {},
   "outputs": [
    {
     "name": "stderr",
     "output_type": "stream",
     "text": [
      "Device set to use cuda:0\n"
     ]
    },
    {
     "name": "stdout",
     "output_type": "stream",
     "text": [
      "\n",
      "Starting retrieval for query='In January 2022, a European patent application was filed in Japanese. The applicant is a Japanese citizen residing in Japan. According to Article 14(2), a 30% reduction of the filing and/or examination fee for certain categories of applicants is provided for. When should the applicant file the documents making up the application \"as filed\" and/or the request for examination in an admissible non-EPO language, and when should the translation be filed?'...\n"
     ]
    }
   ],
   "source": [
    "# Generate ai_answer (the correct one)\n",
    "correct_answer = generate_open_answer(question)"
   ]
  },
  {
   "cell_type": "code",
   "execution_count": null,
   "metadata": {},
   "outputs": [],
   "source": [
    "# The user answer\n",
    "user_answer = \"\"\"I have no idea bro !\"\"\"\n",
    "history += f'\\n\\nUser Answer:\\n{user_answer}'"
   ]
  },
  {
   "cell_type": "code",
   "execution_count": null,
   "metadata": {},
   "outputs": [
    {
     "name": "stderr",
     "output_type": "stream",
     "text": [
      "Device set to use cuda:0\n"
     ]
    },
    {
     "name": "stdout",
     "output_type": "stream",
     "text": [
      "\n",
      "Starting retrieval for query='In January 2022, a European patent application was filed in Japanese. The applicant is a Japanese citizen residing in Japan. According to Article 14(2), a 30% reduction of the filing and/or examination fee for certain categories of applicants is provided for. When should the applicant file the documents making up the application \"as filed\" and/or the request for examination in an admissible non-EPO language, and when should the translation be filed?'...\n",
      "\n",
      "Starting retrieval for query='Answer:\\nThe applicant should file the documents making up the application \"as filed\" and/or the request for examination in an admissible non-EPO language within the time limits specified in Article 14(2) of the EPC. Specifically:\\n\\n- Documents making up the application \"as filed\": Within two months of filing the European patent application.\\n\\n- Request for examination in an admissible non-EPO language: Within one month of filing the document.\\n\\nAdditionally, according to Article 14(4):\\n\\n\"In the case of European patent applications filed on or after 1 April 2014 and international applications entering the European phase on or after that date, a 30% reduction of the filing and/or examination fee for certain categories of applicants is provided for.\"\\n\\nTherefore, the applicant should file the translation of the previous application within the time limits mentioned above, ensuring compliance with both Article 14(2) and Article 14(4) of the EPC.\\n\\nSources:\\nSource: Guidelines for Examination in the EPO, A-X, 9.2.1, Url: https://www.epo.org/en/legal/guidelines-epc/2024/a_x_9_2_1.html\\nSource: Guidelines for Examination in the EPO, A-III, 6.8.5, Url: https://www.epo.org/en/legal/guidelines-epc/2024/a_iii_6_8_5.html\\nSource: Guidelines for Examination in the EPO, F-VI, 3.4, Url: https://www.epo.org/en/legal/guidelines-epc/2024/f_vi_3_4.html\\nSource: EPC Rule 6, Url: https://www.epo.org/en/legal/epc/2020/r6.html\\nSource: Guidelines for Examination in the EPO, A-X, 9.2.3, Url: https://www.epo.org/en/legal/guidelines-epc/2024/a_x_9_2_3.html'...\n",
      "\n",
      "Starting retrieval for query=' \\nI have no idea bro !\\n'...\n",
      "Correct answer:\n",
      "Answer:\n",
      "The applicant should file the documents making up the application \"as filed\" and/or the request for examination in an admissible non-EPO language within the time limits specified in Article 14(2) of the EPC. Specifically:\n",
      "\n",
      "- Documents making up the application \"as filed\": Within two months of filing the European patent application.\n",
      "\n",
      "- Request for examination in an admissible non-EPO language: Within one month of filing the document.\n",
      "\n",
      "Additionally, according to Article 14(4):\n",
      "\n",
      "\"In the case of European patent applications filed on or after 1 April 2014 and international applications entering the European phase on or after that date, a 30% reduction of the filing and/or examination fee for certain categories of applicants is provided for.\"\n",
      "\n",
      "Therefore, the applicant should file the translation of the previous application within the time limits mentioned above, ensuring compliance with both Article 14(2) and Article 14(4) of the EPC.\n",
      "\n",
      "Sources:\n",
      "Source: Guidelines for Examination in the EPO, A-X, 9.2.1, Url: https://www.epo.org/en/legal/guidelines-epc/2024/a_x_9_2_1.html\n",
      "Source: Guidelines for Examination in the EPO, A-III, 6.8.5, Url: https://www.epo.org/en/legal/guidelines-epc/2024/a_iii_6_8_5.html\n",
      "Source: Guidelines for Examination in the EPO, F-VI, 3.4, Url: https://www.epo.org/en/legal/guidelines-epc/2024/f_vi_3_4.html\n",
      "Source: EPC Rule 6, Url: https://www.epo.org/en/legal/epc/2020/r6.html\n",
      "Source: Guidelines for Examination in the EPO, A-X, 9.2.3, Url: https://www.epo.org/en/legal/guidelines-epc/2024/a_x_9_2_3.html\n",
      "\n",
      "Feedback:\n",
      "**Feedback:**\n",
      "\n",
      "The user's answer is completely incorrect and does not address the specific questions asked. Here’s a detailed explanation of why the user's answer is wrong and how it relates to the provided context:\n",
      "\n",
      "### Context Analysis:\n",
      "The user's confusion seems to stem from misunderstanding the conditions for filing translations and the fees applicable to European patent applications. Let's break down the key points from the context:\n",
      "\n",
      "1. **Translation Requirements**: According to Article 14(2) of the EPC, documents that need to be filed within a time limit must be filed in an admissible non-EPO language. Additionally, there is a 30% reduction of the filing and/or examination fee for certain categories of applicants starting from April 1, 2014.\n",
      "\n",
      "2. **Application Filing**: The user mentions that a European patent application was filed in Japanese in January 2022. Since the application was filed after April 1, 2014, the applicant qualifies for the 30% reduction of the filing and/or examination fee.\n",
      "\n",
      "3. **Translation Requirement**: The user incorrectly states that the applicant should file the documents making up the application \"as filed\" and/or the request for examination in an admissible non-EPO language within two months of filing the European patent application. This is incorrect because the application needs to be filed in an admissible non-EPO language first, and then the documents can be filed within the specified time limits.\n",
      "\n",
      "4. **Fee Reduction**: The user correctly identifies that there is a 30% reduction of the filing and/or examination fee for certain categories of applicants starting from April 1, 2014. They also mention that the applicant should file the translation of the previous application within the time limits mentioned above.\n",
      "\n",
      "### Correct Answer:\n",
      "To summarize, the correct answers are:\n",
      "\n",
      "- **Documents making up the application \"as filed\" and/or the request for examination in an admissible non-EPO language**: These should be filed within two months of filing the European patent application.\n",
      "- **Translation of the previous application**: This should be filed within one month of filing the document.\n",
      "\n",
      "### Conclusion:\n",
      "The user's answer is entirely off-topic and fails to address the specific requirements related to filing translations and applying for reductions in fees. It is crucial to understand the legal framework governing patent filings and translations to avoid confusion and ensure compliance with the regulations.\n",
      "\n",
      "Context:\n",
      "Source: Guidelines for Examination in the EPO, A-X, 9.2.1, Url: https://www.epo.org/en/legal/guidelines-epc/2024/a_x_9_2_1.html\n",
      "Source: Guidelines for Examination in the EPO, A-III, 6.8.5, Url: https://www.epo.org/en/legal/guidelines-epc/2024/a_iii_6_8_5.html\n",
      "Source: Guidelines for Examination in the EPO, F-VI, 3.4, Url: https://www.epo.org/en/legal/guidelines-epc/2024/f_vi_3_4.html\n",
      "Source: Guidelines for Examination in the EPO, A-III, 6.8, Url: https://www.epo.org/en/legal/guidelines-epc/2024/a_iii_6_8.html\n",
      "Source: Guidelines for Examination in the EPO, A-X, 9.2.1, Url: https://www.epo.org/en/legal/guidelines-epc/2024/a_x_9_2_1.html\n",
      "Source: Guidelines for Examination in the EPO, A-III, 14, Url: https://www.epo.org/en/legal/guidelines-epc/2024/a_iii_14.html\n",
      "Source: Case Law I, D.8.1.1, Url: https://www.epo.org/en/legal/case-law/2022/clr_i_d_8_1_1.html\n",
      "Source: Guidelines for Examination in the EPO, G-VI, 8, Url: https://www.epo.org/en/legal/guidelines-epc/2024/g_vi_8.html\n",
      "Source: Guidelines for Examination in the EPO, F-IV, 4.24, Url: https://www.epo.org/en/legal/guidelines-epc/2024/f_iv_4_24.html\n"
     ]
    }
   ],
   "source": [
    "# Generat AI feedback\n",
    "feed_back = generate_feedback(question, correct_answer, user_answer)\n",
    "history += f'\\n\\nFeedback:\\n{feed_back}'\n",
    "print(feed_back)"
   ]
  },
  {
   "cell_type": "code",
   "execution_count": 32,
   "metadata": {},
   "outputs": [
    {
     "name": "stderr",
     "output_type": "stream",
     "text": [
      "`low_cpu_mem_usage` was None, now default to True since model is quantized.\n",
      "Device set to use cuda:0\n"
     ]
    },
    {
     "ename": "ValueError",
     "evalue": "Cannot use chat template functions because tokenizer.chat_template is not set and no template argument was passed! For information about writing templates and setting the tokenizer.chat_template attribute, please see the documentation at https://huggingface.co/docs/transformers/main/en/chat_templating",
     "output_type": "error",
     "traceback": [
      "\u001b[31m---------------------------------------------------------------------------\u001b[39m",
      "\u001b[31mValueError\u001b[39m                                Traceback (most recent call last)",
      "\u001b[36mCell\u001b[39m\u001b[36m \u001b[39m\u001b[32mIn[32]\u001b[39m\u001b[32m, line 3\u001b[39m\n\u001b[32m      1\u001b[39m \u001b[38;5;66;03m# Open chat\u001b[39;00m\n\u001b[32m      2\u001b[39m user_message = \u001b[33m\"\u001b[39m\u001b[33mExplain me with more details and references.\u001b[39m\u001b[33m\"\u001b[39m\n\u001b[32m----> \u001b[39m\u001b[32m3\u001b[39m chat_answer = \u001b[43mchat_with_ai\u001b[49m\u001b[43m(\u001b[49m\u001b[43mhistory\u001b[49m\u001b[43m,\u001b[49m\u001b[43m \u001b[49m\u001b[43muser_message\u001b[49m\u001b[43m)\u001b[49m\n\u001b[32m      4\u001b[39m history += \u001b[33mf\u001b[39m\u001b[33m'\u001b[39m\u001b[38;5;130;01m\\n\u001b[39;00m\u001b[38;5;130;01m\\n\u001b[39;00m\u001b[33mUser message:\u001b[39m\u001b[38;5;130;01m\\n\u001b[39;00m\u001b[38;5;132;01m{\u001b[39;00muser_message\u001b[38;5;132;01m}\u001b[39;00m\u001b[33m'\u001b[39m\n\u001b[32m      5\u001b[39m history += \u001b[33mf\u001b[39m\u001b[33m'\u001b[39m\u001b[38;5;130;01m\\n\u001b[39;00m\u001b[38;5;130;01m\\n\u001b[39;00m\u001b[33mChat answer:\u001b[39m\u001b[38;5;130;01m\\n\u001b[39;00m\u001b[38;5;132;01m{\u001b[39;00mchat_answer\u001b[38;5;132;01m}\u001b[39;00m\u001b[33m'\u001b[39m\n",
      "\u001b[36mCell\u001b[39m\u001b[36m \u001b[39m\u001b[32mIn[29]\u001b[39m\u001b[32m, line 56\u001b[39m, in \u001b[36mchat_with_ai\u001b[39m\u001b[34m(conversation_history, user_message)\u001b[39m\n\u001b[32m     17\u001b[39m READER_LLM = pipeline(\n\u001b[32m     18\u001b[39m     model=model,\n\u001b[32m     19\u001b[39m     tokenizer=tokenizer,\n\u001b[32m   (...)\u001b[39m\u001b[32m     25\u001b[39m     max_new_tokens=\u001b[32m500\u001b[39m,\n\u001b[32m     26\u001b[39m )\n\u001b[32m     28\u001b[39m prompt_in_chat_format = [\n\u001b[32m     29\u001b[39m     {\n\u001b[32m     30\u001b[39m         \u001b[33m\"\u001b[39m\u001b[33mrole\u001b[39m\u001b[33m\"\u001b[39m: \u001b[33m\"\u001b[39m\u001b[33msystem\u001b[39m\u001b[33m\"\u001b[39m,\n\u001b[32m   (...)\u001b[39m\u001b[32m     53\u001b[39m     }\n\u001b[32m     54\u001b[39m ]\n\u001b[32m---> \u001b[39m\u001b[32m56\u001b[39m RAG_PROMPT_TEMPLATE = \u001b[43mtokenizer\u001b[49m\u001b[43m.\u001b[49m\u001b[43mapply_chat_template\u001b[49m\u001b[43m(\u001b[49m\u001b[43mprompt_in_chat_format\u001b[49m\u001b[43m,\u001b[49m\u001b[43m \u001b[49m\u001b[43mtokenize\u001b[49m\u001b[43m=\u001b[49m\u001b[38;5;28;43;01mFalse\u001b[39;49;00m\u001b[43m,\u001b[49m\u001b[43m \u001b[49m\u001b[43madd_generation_prompt\u001b[49m\u001b[43m=\u001b[49m\u001b[38;5;28;43;01mTrue\u001b[39;49;00m\u001b[43m)\u001b[49m\n\u001b[32m     58\u001b[39m \u001b[38;5;66;03m# Retrieve context\u001b[39;00m\n\u001b[32m     59\u001b[39m conversation_history_context = get_context(conversation_history, k=\u001b[32m5\u001b[39m)\n",
      "\u001b[36mFile \u001b[39m\u001b[32mc:\\Users\\Patrice\\Documents\\Projets\\ia-pau-data-battle-mars-2025\\.venv\\Lib\\site-packages\\transformers\\tokenization_utils_base.py:1629\u001b[39m, in \u001b[36mPreTrainedTokenizerBase.apply_chat_template\u001b[39m\u001b[34m(self, conversation, tools, documents, chat_template, add_generation_prompt, continue_final_message, tokenize, padding, truncation, max_length, return_tensors, return_dict, return_assistant_tokens_mask, tokenizer_kwargs, **kwargs)\u001b[39m\n\u001b[32m   1626\u001b[39m \u001b[38;5;28;01mif\u001b[39;00m tokenizer_kwargs \u001b[38;5;129;01mis\u001b[39;00m \u001b[38;5;28;01mNone\u001b[39;00m:\n\u001b[32m   1627\u001b[39m     tokenizer_kwargs = {}\n\u001b[32m-> \u001b[39m\u001b[32m1629\u001b[39m chat_template = \u001b[38;5;28;43mself\u001b[39;49m\u001b[43m.\u001b[49m\u001b[43mget_chat_template\u001b[49m\u001b[43m(\u001b[49m\u001b[43mchat_template\u001b[49m\u001b[43m,\u001b[49m\u001b[43m \u001b[49m\u001b[43mtools\u001b[49m\u001b[43m)\u001b[49m\n\u001b[32m   1631\u001b[39m \u001b[38;5;28;01mif\u001b[39;00m return_assistant_tokens_mask \u001b[38;5;129;01mand\u001b[39;00m \u001b[38;5;129;01mnot\u001b[39;00m re.search(\u001b[33mr\u001b[39m\u001b[33m\"\u001b[39m\u001b[33m\\\u001b[39m\u001b[33m{\u001b[39m\u001b[33m\\\u001b[39m\u001b[33m%\u001b[39m\u001b[33m-?\u001b[39m\u001b[33m\\\u001b[39m\u001b[33ms*generation\u001b[39m\u001b[33m\\\u001b[39m\u001b[33ms*-?\u001b[39m\u001b[33m\\\u001b[39m\u001b[33m%\u001b[39m\u001b[33m\\\u001b[39m\u001b[33m}\u001b[39m\u001b[33m\"\u001b[39m, chat_template):\n\u001b[32m   1632\u001b[39m     logger.warning_once(\n\u001b[32m   1633\u001b[39m         \u001b[33m\"\u001b[39m\u001b[33mreturn_assistant_tokens_mask==True but chat template does not contain `\u001b[39m\u001b[33m{\u001b[39m\u001b[38;5;132;01m% g\u001b[39;00m\u001b[33meneration \u001b[39m\u001b[33m%\u001b[39m\u001b[33m}` keyword.\u001b[39m\u001b[33m\"\u001b[39m\n\u001b[32m   1634\u001b[39m     )\n",
      "\u001b[36mFile \u001b[39m\u001b[32mc:\\Users\\Patrice\\Documents\\Projets\\ia-pau-data-battle-mars-2025\\.venv\\Lib\\site-packages\\transformers\\tokenization_utils_base.py:1822\u001b[39m, in \u001b[36mPreTrainedTokenizerBase.get_chat_template\u001b[39m\u001b[34m(self, chat_template, tools)\u001b[39m\n\u001b[32m   1820\u001b[39m         chat_template = \u001b[38;5;28mself\u001b[39m.chat_template\n\u001b[32m   1821\u001b[39m     \u001b[38;5;28;01melse\u001b[39;00m:\n\u001b[32m-> \u001b[39m\u001b[32m1822\u001b[39m         \u001b[38;5;28;01mraise\u001b[39;00m \u001b[38;5;167;01mValueError\u001b[39;00m(\n\u001b[32m   1823\u001b[39m             \u001b[33m\"\u001b[39m\u001b[33mCannot use chat template functions because tokenizer.chat_template is not set and no template \u001b[39m\u001b[33m\"\u001b[39m\n\u001b[32m   1824\u001b[39m             \u001b[33m\"\u001b[39m\u001b[33margument was passed! For information about writing templates and setting the \u001b[39m\u001b[33m\"\u001b[39m\n\u001b[32m   1825\u001b[39m             \u001b[33m\"\u001b[39m\u001b[33mtokenizer.chat_template attribute, please see the documentation at \u001b[39m\u001b[33m\"\u001b[39m\n\u001b[32m   1826\u001b[39m             \u001b[33m\"\u001b[39m\u001b[33mhttps://huggingface.co/docs/transformers/main/en/chat_templating\u001b[39m\u001b[33m\"\u001b[39m\n\u001b[32m   1827\u001b[39m         )\n\u001b[32m   1829\u001b[39m \u001b[38;5;28;01mreturn\u001b[39;00m chat_template\n",
      "\u001b[31mValueError\u001b[39m: Cannot use chat template functions because tokenizer.chat_template is not set and no template argument was passed! For information about writing templates and setting the tokenizer.chat_template attribute, please see the documentation at https://huggingface.co/docs/transformers/main/en/chat_templating"
     ]
    }
   ],
   "source": [
    "# Open chat\n",
    "user_message = \"Explain me with more details and references.\"\n",
    "chat_answer = chat_with_ai(history, user_message)\n",
    "history += f'\\n\\nUser message:\\n{user_message}'\n",
    "history += f'\\n\\nChat answer:\\n{chat_answer}'\n",
    "print(chat_answer)"
   ]
  },
  {
   "cell_type": "code",
   "execution_count": null,
   "metadata": {},
   "outputs": [
    {
     "name": "stdout",
     "output_type": "stream",
     "text": [
      "Question:\n",
      "In January 2022, a European patent application was filed in Japanese. The applicant is a Japanese citizen residing in Japan. According to Article 14(2), a 30% reduction of the filing and/or examination fee for certain categories of applicants is provided for. When should the applicant file the documents making up the application \"as filed\" and/or the request for examination in an admissible non-EPO language, and when should the translation be filed?\n",
      "\n",
      "User Answer:\n",
      " \n",
      "I have no idea bro !\n",
      "\n",
      "\n",
      "Feedback:\n",
      "Correct answer:\n",
      "Answer:\n",
      "The applicant should file the documents making up the application \"as filed\" and/or the request for examination in an admissible non-EPO language within the time limits specified in Article 14(2) of the EPC. Specifically:\n",
      "\n",
      "- Documents making up the application \"as filed\": Within two months of filing the European patent application.\n",
      "\n",
      "- Request for examination in an admissible non-EPO language: Within one month of filing the document.\n",
      "\n",
      "Additionally, according to Article 14(4):\n",
      "\n",
      "\"In the case of European patent applications filed on or after 1 April 2014 and international applications entering the European phase on or after that date, a 30% reduction of the filing and/or examination fee for certain categories of applicants is provided for.\"\n",
      "\n",
      "Therefore, the applicant should file the translation of the previous application within the time limits mentioned above, ensuring compliance with both Article 14(2) and Article 14(4) of the EPC.\n",
      "\n",
      "Sources:\n",
      "Source: Guidelines for Examination in the EPO, A-X, 9.2.1, Url: https://www.epo.org/en/legal/guidelines-epc/2024/a_x_9_2_1.html\n",
      "Source: Guidelines for Examination in the EPO, A-III, 6.8.5, Url: https://www.epo.org/en/legal/guidelines-epc/2024/a_iii_6_8_5.html\n",
      "Source: Guidelines for Examination in the EPO, F-VI, 3.4, Url: https://www.epo.org/en/legal/guidelines-epc/2024/f_vi_3_4.html\n",
      "Source: EPC Rule 6, Url: https://www.epo.org/en/legal/epc/2020/r6.html\n",
      "Source: Guidelines for Examination in the EPO, A-X, 9.2.3, Url: https://www.epo.org/en/legal/guidelines-epc/2024/a_x_9_2_3.html\n",
      "\n",
      "Feedback:\n",
      "**Feedback:**\n",
      "\n",
      "The user's answer is completely incorrect and does not address the specific questions asked. Here’s a detailed explanation of why the user's answer is wrong and how it relates to the provided context:\n",
      "\n",
      "### Context Analysis:\n",
      "The user's confusion seems to stem from misunderstanding the conditions for filing translations and the fees applicable to European patent applications. Let's break down the key points from the context:\n",
      "\n",
      "1. **Translation Requirements**: According to Article 14(2) of the EPC, documents that need to be filed within a time limit must be filed in an admissible non-EPO language. Additionally, there is a 30% reduction of the filing and/or examination fee for certain categories of applicants starting from April 1, 2014.\n",
      "\n",
      "2. **Application Filing**: The user mentions that a European patent application was filed in Japanese in January 2022. Since the application was filed after April 1, 2014, the applicant qualifies for the 30% reduction of the filing and/or examination fee.\n",
      "\n",
      "3. **Translation Requirement**: The user incorrectly states that the applicant should file the documents making up the application \"as filed\" and/or the request for examination in an admissible non-EPO language within two months of filing the European patent application. This is incorrect because the application needs to be filed in an admissible non-EPO language first, and then the documents can be filed within the specified time limits.\n",
      "\n",
      "4. **Fee Reduction**: The user correctly identifies that there is a 30% reduction of the filing and/or examination fee for certain categories of applicants starting from April 1, 2014. They also mention that the applicant should file the translation of the previous application within the time limits mentioned above.\n",
      "\n",
      "### Correct Answer:\n",
      "To summarize, the correct answers are:\n",
      "\n",
      "- **Documents making up the application \"as filed\" and/or the request for examination in an admissible non-EPO language**: These should be filed within two months of filing the European patent application.\n",
      "- **Translation of the previous application**: This should be filed within one month of filing the document.\n",
      "\n",
      "### Conclusion:\n",
      "The user's answer is entirely off-topic and fails to address the specific requirements related to filing translations and applying for reductions in fees. It is crucial to understand the legal framework governing patent filings and translations to avoid confusion and ensure compliance with the regulations.\n",
      "\n",
      "Context:\n",
      "Source: Guidelines for Examination in the EPO, A-X, 9.2.1, Url: https://www.epo.org/en/legal/guidelines-epc/2024/a_x_9_2_1.html\n",
      "Source: Guidelines for Examination in the EPO, A-III, 6.8.5, Url: https://www.epo.org/en/legal/guidelines-epc/2024/a_iii_6_8_5.html\n",
      "Source: Guidelines for Examination in the EPO, F-VI, 3.4, Url: https://www.epo.org/en/legal/guidelines-epc/2024/f_vi_3_4.html\n",
      "Source: Guidelines for Examination in the EPO, A-III, 6.8, Url: https://www.epo.org/en/legal/guidelines-epc/2024/a_iii_6_8.html\n",
      "Source: Guidelines for Examination in the EPO, A-X, 9.2.1, Url: https://www.epo.org/en/legal/guidelines-epc/2024/a_x_9_2_1.html\n",
      "Source: Guidelines for Examination in the EPO, A-III, 14, Url: https://www.epo.org/en/legal/guidelines-epc/2024/a_iii_14.html\n",
      "Source: Case Law I, D.8.1.1, Url: https://www.epo.org/en/legal/case-law/2022/clr_i_d_8_1_1.html\n",
      "Source: Guidelines for Examination in the EPO, G-VI, 8, Url: https://www.epo.org/en/legal/guidelines-epc/2024/g_vi_8.html\n",
      "Source: Guidelines for Examination in the EPO, F-IV, 4.24, Url: https://www.epo.org/en/legal/guidelines-epc/2024/f_iv_4_24.html\n",
      "\n",
      "User message:\n",
      "Explain me with more details and references.\n",
      "\n",
      "Chat answer:\n",
      "Certainly! To clarify the situation regarding the filing and translation requirements for a European patent application filed in Japanese, let's delve deeper into the guidelines and rules outlined in the EPO's Guidelines for Examination.\n",
      "\n",
      "According to Article 14(2) of the European Patent Convention (EPC), a 30% reduction of the filing and/or examination fee is available for certain categories of applicants. This reduction becomes applicable once the application is filed in an admissible non-EPO language. \n",
      "\n",
      "For a European patent application filed in a non-EPO language, the applicant must file the translation within two months of the filing date. This ensures that the application complies with the formal requirements set forth in the EPC. \n",
      "\n",
      "Let's break down the steps involved:\n",
      "\n",
      "1. **Filing the Application in Japanese**: The application was filed in Japanese, which is an official EPO language. As per Article 14(2), the applicant must file the translation within two months of the filing date.\n",
      "\n",
      "2. **Filing the Translation**: Once the translation is prepared and verified, it must be submitted to the EPO within the stipulated timeframe. This ensures that the application meets the formal requirements necessary for examination.\n",
      "\n",
      "3. **Requesting Examination**: After submitting the translation, the applicant can proceed with requesting examination. This step is optional but recommended to expedite the examination process.\n",
      "\n",
      "4. **Fees and Reductions**: The applicant is eligible for a 30% reduction of the filing and/or examination fees if the application is filed in an admissible non-EPO language. This reduction is valid from April 1, 2014 onwards.\n",
      "\n",
      "By following these steps, the applicant ensures that the application is compliant with the EPC requirements and maximizes the benefits of the reduction in fees. The guidelines emphasize the importance of adhering to the deadlines and providing accurate translations to avoid delays and potential penalties.\n",
      "\n",
      "This comprehensive approach guarantees that the application is properly structured and ready for examination, thereby increasing the chances of obtaining a patent in a timely manner.\n",
      "\n",
      "Context:\n",
      "\n",
      "Source: Guidelines for Examination in the EPO, A-VII, 5, Url: https://www.epo.org/en/legal/guidelines-epc/2024/a_vii_5.html\n",
      "Source: Guidelines for Examination in the EPO, A-VII, 2, Url: https://www.epo.org/en/legal/guidelines-epc/2024/a_vii_2.html\n",
      "Source: Guidelines for Examination in the EPO, A-VII, 1.1, Url: https://www.epo.org/en/legal/guidelines-epc/2024/a_vii_1_1.html\n",
      "Source: Guidelines for Examination in the EPO, A-VII, 7, Url: https://www.epo.org/en/legal/guidelines-epc/2024/a_vii_7.html\n",
      "Source: Guidelines for Examination in the EPO, A-III, 14, Url: https://www.epo.org/en/legal/guidelines-epc/2024/a_iii_14.html\n",
      "Source: Guidelines for Examination in the EPO, F-IV, 4.18, Url: https://www.epo.org/en/legal/guidelines-epc/2024/f_iv_4_18.html\n",
      "Source: Guidelines for Examination in the EPO, F-IV, 4.16, Url: https://www.epo.org/en/legal/guidelines-epc/2024/f_iv_4_16.html\n",
      "Source: Guidelines for Examination in the EPO, F-IV, 4.14, Url: https://www.epo.org/en/legal/guidelines-epc/2024/f_iv_4_14.html\n"
     ]
    }
   ],
   "source": [
    "print(history)"
   ]
  }
 ],
 "metadata": {
  "kernelspec": {
   "display_name": ".venv",
   "language": "python",
   "name": "python3"
  },
  "language_info": {
   "codemirror_mode": {
    "name": "ipython",
    "version": 3
   },
   "file_extension": ".py",
   "mimetype": "text/x-python",
   "name": "python",
   "nbconvert_exporter": "python",
   "pygments_lexer": "ipython3",
   "version": "3.13.2"
  }
 },
 "nbformat": 4,
 "nbformat_minor": 2
}
